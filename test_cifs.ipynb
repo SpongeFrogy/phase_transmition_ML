{
 "cells": [
  {
   "cell_type": "code",
   "execution_count": 1,
   "metadata": {},
   "outputs": [],
   "source": [
    "from model.classification_model import ClassifierModel # class with classifiers\n",
    "from model.reduce_model import ReduceModel # class with autoencoder\n",
    "\n",
    "import numpy as np\n",
    "import pandas as pd\n",
    "\n",
    "from sklearn import metrics\n",
    "from sklearn.preprocessing import RobustScaler\n",
    "from sklearn.model_selection import train_test_split\n",
    "\n",
    "import matplotlib.pyplot as plt\n",
    "from plot_settings import * # plot configuration \n",
    "import joblib"
   ]
  },
  {
   "cell_type": "code",
   "execution_count": 3,
   "metadata": {},
   "outputs": [],
   "source": [
    "scaler = joblib.load(\"./best/scaler.pkl\")\n",
    "reduce = joblib.load(\"./best/reduce_model.pkl\")\n",
    "clf = joblib.load(\"./best/c_model.pkl\")\n",
    "cifs = pd.read_csv(\"./main_datasets/test_cifs.csv\", index_col=0)"
   ]
  },
  {
   "cell_type": "code",
   "execution_count": 4,
   "metadata": {},
   "outputs": [],
   "source": [
    "cifs_reduced = reduce.transform(cifs)"
   ]
  },
  {
   "cell_type": "code",
   "execution_count": 6,
   "metadata": {},
   "outputs": [],
   "source": [
    "df = pd.DataFrame(cifs_reduced, index=cifs.index)"
   ]
  },
  {
   "cell_type": "code",
   "execution_count": 7,
   "metadata": {},
   "outputs": [
    {
     "data": {
      "text/html": [
       "<div>\n",
       "<style scoped>\n",
       "    .dataframe tbody tr th:only-of-type {\n",
       "        vertical-align: middle;\n",
       "    }\n",
       "\n",
       "    .dataframe tbody tr th {\n",
       "        vertical-align: top;\n",
       "    }\n",
       "\n",
       "    .dataframe thead th {\n",
       "        text-align: right;\n",
       "    }\n",
       "</style>\n",
       "<table border=\"1\" class=\"dataframe\">\n",
       "  <thead>\n",
       "    <tr style=\"text-align: right;\">\n",
       "      <th></th>\n",
       "      <th>0</th>\n",
       "      <th>1</th>\n",
       "      <th>2</th>\n",
       "      <th>3</th>\n",
       "      <th>4</th>\n",
       "      <th>5</th>\n",
       "      <th>6</th>\n",
       "      <th>7</th>\n",
       "      <th>8</th>\n",
       "      <th>9</th>\n",
       "    </tr>\n",
       "  </thead>\n",
       "  <tbody>\n",
       "    <tr>\n",
       "      <th>1-final</th>\n",
       "      <td>3.284673</td>\n",
       "      <td>-1.422195</td>\n",
       "      <td>-2.102811</td>\n",
       "      <td>-4.860344</td>\n",
       "      <td>-1.080255</td>\n",
       "      <td>-4.728310</td>\n",
       "      <td>-1.092881</td>\n",
       "      <td>0.019246</td>\n",
       "      <td>-1.420921</td>\n",
       "      <td>1.190130</td>\n",
       "    </tr>\n",
       "    <tr>\n",
       "      <th>2-final</th>\n",
       "      <td>3.286075</td>\n",
       "      <td>-1.421376</td>\n",
       "      <td>-2.104950</td>\n",
       "      <td>-4.858925</td>\n",
       "      <td>-1.080578</td>\n",
       "      <td>-4.731123</td>\n",
       "      <td>-1.093828</td>\n",
       "      <td>0.016528</td>\n",
       "      <td>-1.417691</td>\n",
       "      <td>1.189848</td>\n",
       "    </tr>\n",
       "    <tr>\n",
       "      <th>2080270</th>\n",
       "      <td>0.567122</td>\n",
       "      <td>0.085580</td>\n",
       "      <td>-2.411250</td>\n",
       "      <td>-4.089851</td>\n",
       "      <td>-0.203309</td>\n",
       "      <td>-2.979827</td>\n",
       "      <td>0.860138</td>\n",
       "      <td>3.009019</td>\n",
       "      <td>-2.821081</td>\n",
       "      <td>2.846363</td>\n",
       "    </tr>\n",
       "    <tr>\n",
       "      <th>2080334</th>\n",
       "      <td>0.492588</td>\n",
       "      <td>0.093742</td>\n",
       "      <td>-2.356460</td>\n",
       "      <td>-3.997657</td>\n",
       "      <td>-0.172882</td>\n",
       "      <td>-2.969380</td>\n",
       "      <td>0.694580</td>\n",
       "      <td>3.049262</td>\n",
       "      <td>-2.787228</td>\n",
       "      <td>2.852643</td>\n",
       "    </tr>\n",
       "    <tr>\n",
       "      <th>CSV157 initial</th>\n",
       "      <td>3.251403</td>\n",
       "      <td>-2.384271</td>\n",
       "      <td>-3.966932</td>\n",
       "      <td>-4.962783</td>\n",
       "      <td>-3.109287</td>\n",
       "      <td>-4.289739</td>\n",
       "      <td>0.645156</td>\n",
       "      <td>-1.248142</td>\n",
       "      <td>-2.628460</td>\n",
       "      <td>1.635036</td>\n",
       "    </tr>\n",
       "    <tr>\n",
       "      <th>CSV158 initial</th>\n",
       "      <td>3.412864</td>\n",
       "      <td>-2.354106</td>\n",
       "      <td>-3.946173</td>\n",
       "      <td>-5.075735</td>\n",
       "      <td>-3.140628</td>\n",
       "      <td>-4.274045</td>\n",
       "      <td>0.766914</td>\n",
       "      <td>-1.158762</td>\n",
       "      <td>-2.728949</td>\n",
       "      <td>1.622409</td>\n",
       "    </tr>\n",
       "  </tbody>\n",
       "</table>\n",
       "</div>"
      ],
      "text/plain": [
       "                       0         1         2         3         4         5  \\\n",
       "1-final         3.284673 -1.422195 -2.102811 -4.860344 -1.080255 -4.728310   \n",
       "2-final         3.286075 -1.421376 -2.104950 -4.858925 -1.080578 -4.731123   \n",
       "2080270         0.567122  0.085580 -2.411250 -4.089851 -0.203309 -2.979827   \n",
       "2080334         0.492588  0.093742 -2.356460 -3.997657 -0.172882 -2.969380   \n",
       "CSV157 initial  3.251403 -2.384271 -3.966932 -4.962783 -3.109287 -4.289739   \n",
       "CSV158 initial  3.412864 -2.354106 -3.946173 -5.075735 -3.140628 -4.274045   \n",
       "\n",
       "                       6         7         8         9  \n",
       "1-final        -1.092881  0.019246 -1.420921  1.190130  \n",
       "2-final        -1.093828  0.016528 -1.417691  1.189848  \n",
       "2080270         0.860138  3.009019 -2.821081  2.846363  \n",
       "2080334         0.694580  3.049262 -2.787228  2.852643  \n",
       "CSV157 initial  0.645156 -1.248142 -2.628460  1.635036  \n",
       "CSV158 initial  0.766914 -1.158762 -2.728949  1.622409  "
      ]
     },
     "execution_count": 7,
     "metadata": {},
     "output_type": "execute_result"
    }
   ],
   "source": [
    "df"
   ]
  },
  {
   "cell_type": "code",
   "execution_count": 25,
   "metadata": {},
   "outputs": [
    {
     "name": "stdout",
     "output_type": "stream",
     "text": [
      "CatBoost\n",
      "                Predicted probability for guest mol. s.t.        verdict\n",
      "1-final                                          0.499884  No prediction\n",
      "2-final                                          0.499884  No prediction\n",
      "2080270                                          0.500172  No prediction\n",
      "2080334                                          0.500117  No prediction\n",
      "CSV157 initial                                   0.500367  No prediction\n",
      "CSV158 initial                                   0.500244  No prediction\n",
      "RF\n",
      "                Predicted probability for guest mol. s.t.        verdict\n",
      "1-final                                          0.510638  No prediction\n",
      "2-final                                          0.510638  No prediction\n",
      "2080270                                          0.468085  No prediction\n",
      "2080334                                          0.478723  No prediction\n",
      "CSV157 initial                                   0.531915  No prediction\n",
      "CSV158 initial                                   0.531915  No prediction\n",
      "AdaBoost\n",
      "                Predicted probability for guest mol. s.t.     verdict\n",
      "1-final                                               1.0  guest mol.\n",
      "2-final                                               1.0  guest mol.\n",
      "2080270                                               1.0  guest mol.\n",
      "2080334                                               1.0  guest mol.\n",
      "CSV157 initial                                        1.0  guest mol.\n",
      "CSV158 initial                                        1.0  guest mol.\n",
      "Knn\n",
      "                Predicted probability for guest mol. s.t.        verdict\n",
      "1-final                                          0.650740  No prediction\n",
      "2-final                                          0.650701  No prediction\n",
      "2080270                                          0.679381  No prediction\n",
      "2080334                                          0.680108  No prediction\n",
      "CSV157 initial                                   1.000000     guest mol.\n",
      "CSV158 initial                                   1.000000     guest mol.\n"
     ]
    }
   ],
   "source": [
    "predicted_proba = pd.DataFrame(columns=clf.models.keys())\n",
    "def verdict(proba):\n",
    "    if proba > 0.8:\n",
    "        return \"guest mol.\"\n",
    "    if proba < 0.2:\n",
    "        return \"T-P\"\n",
    "    return \"No prediction\"\n",
    "for m in clf.models:\n",
    "    print(m)\n",
    "    proba = clf.models[m].predict_proba(df)[:,1]\n",
    "    d = pd.DataFrame(columns=[\"Predicted probability for guest mol. s.t.\", \"verdict\"])\n",
    "    for i, cif_name in enumerate(cifs.index):\n",
    "        d.loc[cif_name] = [proba[i], verdict(proba[i])]\n",
    "    print(d)"
   ]
  },
  {
   "cell_type": "code",
   "execution_count": 10,
   "metadata": {},
   "outputs": [
    {
     "data": {
      "text/plain": [
       "{'CatBoost': <catboost.core.CatBoostClassifier at 0x1c676bf2c50>,\n",
       " 'RF': RandomForestClassifier(max_depth=14, n_estimators=94, random_state=42),\n",
       " 'AdaBoost': AdaBoostClf(learning_rate=0.0004257864761068253, max_depth=11, n_estimators=55,\n",
       "             random_state=42),\n",
       " 'Knn': KNeighborsClassifier(n_neighbors=3, weights='distance')}"
      ]
     },
     "execution_count": 10,
     "metadata": {},
     "output_type": "execute_result"
    }
   ],
   "source": [
    "clf.models"
   ]
  },
  {
   "cell_type": "code",
   "execution_count": null,
   "metadata": {},
   "outputs": [],
   "source": []
  }
 ],
 "metadata": {
  "kernelspec": {
   "display_name": "Python 3",
   "language": "python",
   "name": "python3"
  },
  "language_info": {
   "codemirror_mode": {
    "name": "ipython",
    "version": 3
   },
   "file_extension": ".py",
   "mimetype": "text/x-python",
   "name": "python",
   "nbconvert_exporter": "python",
   "pygments_lexer": "ipython3",
   "version": "3.10.11"
  }
 },
 "nbformat": 4,
 "nbformat_minor": 2
}
