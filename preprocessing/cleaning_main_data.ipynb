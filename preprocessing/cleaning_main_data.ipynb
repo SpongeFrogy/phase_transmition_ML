{
 "cells": [
  {
   "cell_type": "code",
   "execution_count": 1,
   "metadata": {},
   "outputs": [],
   "source": [
    "import pandas as pd\n",
    "import numpy as np\n",
    "import joblib"
   ]
  },
  {
   "cell_type": "code",
   "execution_count": 2,
   "metadata": {},
   "outputs": [],
   "source": [
    "mofid = pd.read_csv(\"../data/main_dataset_mofid_data_V2.csv\", index_col=0)\n",
    "mofid = mofid[[\"smiles_linkers\", \"smiles_nodes\", \"cifname\"]].set_index(\"cifname\")\n",
    "mordred = pd.read_csv(\"../data/all_f_main_dataset_mordred_V2.csv\", index_col=0)\n",
    "zeo = pd.read_csv(\"../data/main_dataset_zeo_V2.csv\", index_col=0)\n",
    "cif = pd.read_csv(\"../data/main_dataset_cif_property_V2.csv\", index_col=0)\n",
    "\n"
   ]
  },
  {
   "cell_type": "code",
   "execution_count": 3,
   "metadata": {},
   "outputs": [
    {
     "data": {
      "text/plain": [
       "((151, 1826), (162, 3), (165, 8))"
      ]
     },
     "execution_count": 3,
     "metadata": {},
     "output_type": "execute_result"
    }
   ],
   "source": [
    "mordred.shape, zeo.shape, cif.shape"
   ]
  },
  {
   "cell_type": "code",
   "execution_count": 4,
   "metadata": {},
   "outputs": [],
   "source": [
    "def make_mordred():\n",
    "    from mordred import Calculator, descriptors\n",
    "    from rdkit import Chem\n",
    "    mofid = pd.read_csv(\"../data/main_dataset_mofid_data_V2.csv\", index_col=0)\n",
    "    mofid = mofid[[\"smiles_linkers\", \"smiles_nodes\", \"cifname\"]].set_index(\"cifname\")\n",
    "    linkers = [mofid.smiles_linkers[i].replace(\"'\", \"\")[1:-1].split(\", \") for i in range(mofid.__len__())]\n",
    "    mols = [[Chem.MolFromSmiles(smi) for smi in smi_list] for smi_list in linkers]\n",
    "    calc = Calculator(descriptors, ignore_3D=False)\n",
    "    def f(mof):\n",
    "        try: return calc.pandas(mof)\n",
    "        except TypeError:\n",
    "            return None\n",
    "    dfs = [f(mof) for mof in mols]\n",
    "    data_mordred = pd.DataFrame(columns=dfs[0].columns)\n",
    "\n",
    "    for i, filename in enumerate(mofid.index):\n",
    "        try:\n",
    "            if linkers[i] != [\"\"]:\n",
    "                data_mordred.loc[filename] = dfs[i].mean()\n",
    "        except AttributeError:\n",
    "            print(f\"{filename:_^20}\")\n",
    "    data_mordred = data_mordred.set_index(data_mordred.index.map(lambda name: name.replace(\" \", \"\")))\n",
    "    #data_mordred.to_csv(\"../data/all_f_main_dataset_mordred_V2.csv\")\n",
    "    return data_mordred\n",
    "\n"
   ]
  },
  {
   "cell_type": "code",
   "execution_count": 5,
   "metadata": {},
   "outputs": [],
   "source": [
    "def metal_from_node(node: str):\n",
    "    import re\n",
    "    \"\"\"\n",
    "    input: smilesNodes: str\n",
    "    return: \n",
    "    'metals' in node: list\n",
    "    'unique' types of metals: np.array, dtype='<U2'\n",
    "    'count' of unique: np.array, dtype=int\n",
    "    \"\"\"\n",
    "    # \"O[Zr]123(O)[OH]4[Zr]56([O]3[Zr]37([OH]2[Zr]28([O]1[Zr]14([O]6[Zr]([OH]53)([OH]21)([O]78)(O)O)([OH2])([OH2])O)[OH2])([OH2])([OH2])O)[OH2]\"\n",
    "    node = node.replace(\"OH\", \"\").replace(\"O\", \"\")\n",
    "    node = node.replace(\"[\", \"\").replace(\"]\", \"\").replace(\")\", \"\").replace(\"(\", \"\").replace(\",\", \"\")\n",
    "    node = re.sub(r\"\\d\", \"\", node) # replace numbers\n",
    "    #print(node)\n",
    "    # \"ZrZrZrZrZrZr\"\n",
    "    start_cut = 0\n",
    "    metals = []\n",
    "    for i, char in enumerate(node[1:]):\n",
    "        if not char.islower():\n",
    "            metals.append(node[start_cut:i+1])\n",
    "            start_cut = i+1\n",
    "    metals.append(node[start_cut:])\n",
    "    unique, counts = np.unique(np.array(metals), return_counts=True)\n",
    "    return metals, unique, counts"
   ]
  },
  {
   "cell_type": "code",
   "execution_count": 6,
   "metadata": {},
   "outputs": [],
   "source": [
    "elemental_descriptors = pd.read_csv(\"../data/elemental_descriptors.csv\")"
   ]
  },
  {
   "cell_type": "code",
   "execution_count": 7,
   "metadata": {},
   "outputs": [
    {
     "name": "stdout",
     "output_type": "stream",
     "text": [
      "Error with []\n",
      "Error with []\n",
      "Error with []\n",
      "Error with []\n",
      "Error with ['*']\n",
      "Error with ['*']\n",
      "Error with []\n",
      "Error with []\n",
      "Error with ['*']\n",
      "Error with ['*']\n",
      "Error with ['*']\n",
      "Error with ['*']\n",
      "Error with ['*']\n",
      "Error with ['*']\n",
      "Error with ['*']\n"
     ]
    }
   ],
   "source": [
    "node_descriptors = pd.DataFrame(columns=(\"n_metals\", 'n_types_metals', 'Atomic_Number', 'Atomic_Weight', 'Atomic Radius',\n",
    "       'Mulliken EN', 'polarizability(A^3)', 'electron affinity(kJ/mol)'))\n",
    "\n",
    "d = ['Atomic_Number', 'Atomic_Weight', 'Atomic Radius',\n",
    "       'Mulliken EN', 'polarizability(A^3)', 'electron affinity(kJ/mol)']\n",
    "\n",
    "for filename, node in zip(mofid.index.map(lambda name: name.replace(\" \", \"\").replace(\".cif\", \"\")), mofid[\"smiles_nodes\"]):\n",
    "    try:\n",
    "       metals, unique, count = metal_from_node(node.replace(\"'\", \"\").replace(\" \", \"\").replace(\"%\", \"\"))\n",
    "       #print(metals)\n",
    "       n_metals = count.sum()\n",
    "       n_metals_types = count.__len__()\n",
    "       df = pd.DataFrame(columns=d, index=[range(count.sum())])\n",
    "       for metal in metals:\n",
    "          #print(metal)\n",
    "          df.loc[len(df)] = elemental_descriptors.loc[elemental_descriptors[\"Symbol\"] == metal].loc[:,d].iloc[0]\n",
    "       node_descriptors.loc[filename] = n_metals, n_metals_types, *df.mean().array\n",
    "    except IndexError:\n",
    "       print(f\"Error with {node}\")"
   ]
  },
  {
   "cell_type": "code",
   "execution_count": 8,
   "metadata": {},
   "outputs": [],
   "source": [
    "node_descriptors = node_descriptors.loc[node_descriptors[\"n_types_metals\"] == 1.]\n"
   ]
  },
  {
   "cell_type": "code",
   "execution_count": 9,
   "metadata": {},
   "outputs": [],
   "source": [
    "zeo.index = zeo.index.map(lambda s: s.replace(\".res\", \"\"))"
   ]
  },
  {
   "cell_type": "code",
   "execution_count": 10,
   "metadata": {},
   "outputs": [],
   "source": [
    "data_pld_lcd = zeo[[\"num1\", \"num2\"]].rename({\"num1\": \"lcd\", \"num2\": \"pld\"}, axis=1)"
   ]
  },
  {
   "cell_type": "code",
   "execution_count": 11,
   "metadata": {},
   "outputs": [],
   "source": [
    "cif = cif.rename({ \"sg_number\": \"spacegroupNumber\"}, axis=1)"
   ]
  },
  {
   "cell_type": "code",
   "execution_count": 12,
   "metadata": {},
   "outputs": [],
   "source": [
    "cif.index = cif.index.map(lambda name: name.replace(\" \", \"\").replace(\".cif\", \"\"))"
   ]
  },
  {
   "cell_type": "code",
   "execution_count": 13,
   "metadata": {},
   "outputs": [],
   "source": [
    "cif = cif.set_index(cif.index.map(lambda name: name.replace(\"(\", \"\").replace(\")\", \"\")))"
   ]
  },
  {
   "cell_type": "code",
   "execution_count": 14,
   "metadata": {},
   "outputs": [],
   "source": [
    "node_descriptors = node_descriptors.set_index(node_descriptors.index.map(lambda name: name.replace(\"(\", \"\").replace(\")\", \"\")))"
   ]
  },
  {
   "cell_type": "code",
   "execution_count": 15,
   "metadata": {},
   "outputs": [],
   "source": [
    "data_pld_lcd = data_pld_lcd.set_index(data_pld_lcd.index.map(lambda name: name.replace(\"(\", \"\").replace(\")\", \"\")))"
   ]
  },
  {
   "cell_type": "code",
   "execution_count": 16,
   "metadata": {},
   "outputs": [],
   "source": [
    "mordred = mordred.set_index(mordred.index.map(lambda name: name.replace(\"(\", \"\").replace(\")\", \"\")))"
   ]
  },
  {
   "cell_type": "code",
   "execution_count": 17,
   "metadata": {},
   "outputs": [
    {
     "data": {
      "text/plain": [
       "((162, 2), (165, 8), (151, 1826), (145, 8))"
      ]
     },
     "execution_count": 17,
     "metadata": {},
     "output_type": "execute_result"
    }
   ],
   "source": [
    "data_pld_lcd.shape, cif.shape, mordred.shape, node_descriptors.shape"
   ]
  },
  {
   "cell_type": "code",
   "execution_count": 18,
   "metadata": {},
   "outputs": [],
   "source": [
    "data_main = pd.concat([data_pld_lcd, cif, mordred, node_descriptors], axis=1)"
   ]
  },
  {
   "cell_type": "code",
   "execution_count": 19,
   "metadata": {},
   "outputs": [],
   "source": [
    "data_main = data_main.loc[list({*list(data_pld_lcd.index)} & {*list(\n",
    "    cif.index)} & {*list(mordred.index)} & {*list(node_descriptors.index)})]\n"
   ]
  },
  {
   "cell_type": "code",
   "execution_count": 20,
   "metadata": {},
   "outputs": [
    {
     "data": {
      "text/plain": [
       "(138, 1844)"
      ]
     },
     "execution_count": 20,
     "metadata": {},
     "output_type": "execute_result"
    }
   ],
   "source": [
    "data_main.shape"
   ]
  },
  {
   "cell_type": "code",
   "execution_count": 21,
   "metadata": {},
   "outputs": [],
   "source": [
    "# data_main.to_csv(\"../data/main_no_marked.csv\")"
   ]
  },
  {
   "cell_type": "code",
   "execution_count": 22,
   "metadata": {},
   "outputs": [],
   "source": [
    "db_from_to = pd.read_csv(\"../data/DB_main_with_SG_for_EDA.csv\", sep=';')"
   ]
  },
  {
   "cell_type": "code",
   "execution_count": 23,
   "metadata": {},
   "outputs": [],
   "source": [
    "db_from_to.CIF_init = db_from_to.CIF_init.map(lambda name: name.replace(\"(\", \"\").replace(\")\", \"\").replace(\" \", \"\").replace(\".cif\", \"\"))\n",
    "db_from_to.CIF_final = db_from_to.CIF_final.map(lambda name: name.replace(\"(\", \"\").replace(\")\", \"\").replace(\" \", \"\").replace(\".cif\", \"\"))\n"
   ]
  },
  {
   "cell_type": "code",
   "execution_count": 24,
   "metadata": {},
   "outputs": [],
   "source": [
    "marked = pd.DataFrame(columns=[\"target\"])\n",
    "\n",
    "for ind in db_from_to.index:\n",
    "    if db_from_to.loc[ind, \"Stimuli\"].find(\"solvent\") != -1 or db_from_to.loc[ind, \"Stimuli\"].find(\"gas\") != -1 or db_from_to.loc[ind, \"Stimuli\"].find(\"humidity\") != -1:\n",
    "        marked.loc[db_from_to.loc[ind, \"CIF_init\"]] = [1]\n",
    "        if db_from_to.loc[ind, \"Reversible\"] == \"yes\":\n",
    "            marked.loc[db_from_to.loc[ind, \"CIF_final\"]] = [1]\n",
    "        else:\n",
    "            marked.loc[db_from_to.loc[ind, \"CIF_final\"]] = [0]\n",
    "    else:\n",
    "        marked.loc[db_from_to.loc[ind, \"CIF_init\"]] = [0]\n",
    "        marked.loc[db_from_to.loc[ind, \"CIF_final\"]] = [0]"
   ]
  },
  {
   "cell_type": "code",
   "execution_count": 25,
   "metadata": {},
   "outputs": [],
   "source": [
    "from pteproc_model import PreprocessingModel\n",
    "model = joblib.load(\"../qmof_datasets/scaler.pkl\")"
   ]
  },
  {
   "cell_type": "code",
   "execution_count": 26,
   "metadata": {},
   "outputs": [
    {
     "data": {
      "text/plain": [
       "(138, 1844)"
      ]
     },
     "execution_count": 26,
     "metadata": {},
     "output_type": "execute_result"
    }
   ],
   "source": [
    "data_main.shape"
   ]
  },
  {
   "cell_type": "code",
   "execution_count": 27,
   "metadata": {},
   "outputs": [],
   "source": [
    "main_dataset = data_main[model.cols]"
   ]
  },
  {
   "cell_type": "code",
   "execution_count": 28,
   "metadata": {},
   "outputs": [],
   "source": [
    "marked_dataset = pd.concat([data_main, marked], axis=1)"
   ]
  },
  {
   "cell_type": "code",
   "execution_count": 29,
   "metadata": {},
   "outputs": [],
   "source": [
    "marked_dataset = marked_dataset.loc[list({*list(main_dataset.index)} & {*list(marked.index)})]"
   ]
  },
  {
   "cell_type": "code",
   "execution_count": 30,
   "metadata": {},
   "outputs": [
    {
     "data": {
      "text/plain": [
       "(102, 1845)"
      ]
     },
     "execution_count": 30,
     "metadata": {},
     "output_type": "execute_result"
    }
   ],
   "source": [
    "marked_dataset.shape"
   ]
  },
  {
   "cell_type": "code",
   "execution_count": 31,
   "metadata": {},
   "outputs": [
    {
     "name": "stdout",
     "output_type": "stream",
     "text": [
      "|  target  |  counts  |\n",
      "-----------------------\n",
      "|   yes    |    62    |\n",
      "|    no    |    40    |\n",
      "total count:102\n"
     ]
    }
   ],
   "source": [
    "target, counts = np.unique(marked_dataset.target, return_counts=True)\n",
    "\n",
    "\n",
    "print(f\"|{'target':^10}|{'counts':^10}|\")\n",
    "print(f\"{'-':-^23}\")\n",
    "print(f\"|{'yes':^10}|{counts[0]:^10}|\")\n",
    "print(f\"|{'no':^10}|{counts[1]:^10}|\")\n",
    "print(f\"total count:{marked_dataset.__len__()}\")"
   ]
  },
  {
   "cell_type": "code",
   "execution_count": 32,
   "metadata": {},
   "outputs": [
    {
     "data": {
      "text/plain": [
       "(102, 1845)"
      ]
     },
     "execution_count": 32,
     "metadata": {},
     "output_type": "execute_result"
    }
   ],
   "source": [
    "marked_dataset.shape"
   ]
  },
  {
   "cell_type": "code",
   "execution_count": 33,
   "metadata": {},
   "outputs": [],
   "source": [
    "x, y = model.transform(marked_dataset.drop(['target'], axis=1)), marked_dataset['target']"
   ]
  },
  {
   "cell_type": "code",
   "execution_count": 34,
   "metadata": {},
   "outputs": [
    {
     "data": {
      "text/plain": [
       "((102, 1018), (102, 1018))"
      ]
     },
     "execution_count": 34,
     "metadata": {},
     "output_type": "execute_result"
    }
   ],
   "source": [
    "x.shape, x.dropna().shape"
   ]
  },
  {
   "cell_type": "code",
   "execution_count": 35,
   "metadata": {},
   "outputs": [
    {
     "data": {
      "text/html": [
       "<div>\n",
       "<style scoped>\n",
       "    .dataframe tbody tr th:only-of-type {\n",
       "        vertical-align: middle;\n",
       "    }\n",
       "\n",
       "    .dataframe tbody tr th {\n",
       "        vertical-align: top;\n",
       "    }\n",
       "\n",
       "    .dataframe thead th {\n",
       "        text-align: right;\n",
       "    }\n",
       "</style>\n",
       "<table border=\"1\" class=\"dataframe\">\n",
       "  <thead>\n",
       "    <tr style=\"text-align: right;\">\n",
       "      <th></th>\n",
       "      <th>pld</th>\n",
       "      <th>lcd</th>\n",
       "      <th>a</th>\n",
       "      <th>b</th>\n",
       "      <th>c</th>\n",
       "      <th>alpha</th>\n",
       "      <th>beta</th>\n",
       "      <th>gamma</th>\n",
       "      <th>volume</th>\n",
       "      <th>spacegroupNumber</th>\n",
       "      <th>...</th>\n",
       "      <th>Zagreb2</th>\n",
       "      <th>mZagreb1</th>\n",
       "      <th>mZagreb2</th>\n",
       "      <th>n_metals</th>\n",
       "      <th>Atomic_Number</th>\n",
       "      <th>Atomic_Weight</th>\n",
       "      <th>Atomic Radius</th>\n",
       "      <th>Mulliken EN</th>\n",
       "      <th>polarizability(A^3)</th>\n",
       "      <th>electron affinity(kJ/mol)</th>\n",
       "    </tr>\n",
       "  </thead>\n",
       "  <tbody>\n",
       "    <tr>\n",
       "      <th>toja054913a_si_004</th>\n",
       "      <td>0.061306</td>\n",
       "      <td>0.035478</td>\n",
       "      <td>0.004061</td>\n",
       "      <td>0.461969</td>\n",
       "      <td>0.277182</td>\n",
       "      <td>0.578143</td>\n",
       "      <td>0.526960</td>\n",
       "      <td>0.441638</td>\n",
       "      <td>0.023942</td>\n",
       "      <td>0.515419</td>\n",
       "      <td>...</td>\n",
       "      <td>0.025232</td>\n",
       "      <td>0.000000</td>\n",
       "      <td>0.011278</td>\n",
       "      <td>0.000000</td>\n",
       "      <td>0.494382</td>\n",
       "      <td>0.436748</td>\n",
       "      <td>0.261111</td>\n",
       "      <td>0.838488</td>\n",
       "      <td>0.056569</td>\n",
       "      <td>0.278014</td>\n",
       "    </tr>\n",
       "    <tr>\n",
       "      <th>toCCDC_2065039_JUK-20-chx</th>\n",
       "      <td>0.234377</td>\n",
       "      <td>0.241414</td>\n",
       "      <td>0.376349</td>\n",
       "      <td>0.374762</td>\n",
       "      <td>0.217765</td>\n",
       "      <td>0.637025</td>\n",
       "      <td>0.526960</td>\n",
       "      <td>0.441638</td>\n",
       "      <td>0.106903</td>\n",
       "      <td>0.052863</td>\n",
       "      <td>...</td>\n",
       "      <td>0.354582</td>\n",
       "      <td>0.281080</td>\n",
       "      <td>0.277256</td>\n",
       "      <td>0.000000</td>\n",
       "      <td>0.505618</td>\n",
       "      <td>0.456406</td>\n",
       "      <td>0.238889</td>\n",
       "      <td>0.800687</td>\n",
       "      <td>0.043796</td>\n",
       "      <td>0.000000</td>\n",
       "    </tr>\n",
       "    <tr>\n",
       "      <th>tod-flexMOFdried975745</th>\n",
       "      <td>0.039053</td>\n",
       "      <td>0.109046</td>\n",
       "      <td>0.176314</td>\n",
       "      <td>0.326269</td>\n",
       "      <td>0.184724</td>\n",
       "      <td>0.376411</td>\n",
       "      <td>0.373636</td>\n",
       "      <td>0.296054</td>\n",
       "      <td>0.053910</td>\n",
       "      <td>0.004405</td>\n",
       "      <td>...</td>\n",
       "      <td>0.188579</td>\n",
       "      <td>0.252766</td>\n",
       "      <td>0.192982</td>\n",
       "      <td>0.000000</td>\n",
       "      <td>0.280899</td>\n",
       "      <td>0.223951</td>\n",
       "      <td>0.172222</td>\n",
       "      <td>0.824742</td>\n",
       "      <td>0.036496</td>\n",
       "      <td>0.258156</td>\n",
       "    </tr>\n",
       "    <tr>\n",
       "      <th>fromDUT-49Co296K890364</th>\n",
       "      <td>0.435653</td>\n",
       "      <td>0.590070</td>\n",
       "      <td>0.899239</td>\n",
       "      <td>0.882823</td>\n",
       "      <td>0.563928</td>\n",
       "      <td>0.256326</td>\n",
       "      <td>0.090555</td>\n",
       "      <td>0.062258</td>\n",
       "      <td>0.516771</td>\n",
       "      <td>0.986784</td>\n",
       "      <td>...</td>\n",
       "      <td>0.164675</td>\n",
       "      <td>0.145509</td>\n",
       "      <td>0.137845</td>\n",
       "      <td>0.090909</td>\n",
       "      <td>0.269663</td>\n",
       "      <td>0.224989</td>\n",
       "      <td>0.188889</td>\n",
       "      <td>0.790378</td>\n",
       "      <td>0.049270</td>\n",
       "      <td>0.190071</td>\n",
       "    </tr>\n",
       "    <tr>\n",
       "      <th>fromja500530y_si_003</th>\n",
       "      <td>0.112838</td>\n",
       "      <td>0.115905</td>\n",
       "      <td>0.292269</td>\n",
       "      <td>0.259028</td>\n",
       "      <td>0.138910</td>\n",
       "      <td>0.524035</td>\n",
       "      <td>0.225448</td>\n",
       "      <td>0.373451</td>\n",
       "      <td>0.041505</td>\n",
       "      <td>0.004405</td>\n",
       "      <td>...</td>\n",
       "      <td>0.124834</td>\n",
       "      <td>0.132758</td>\n",
       "      <td>0.112782</td>\n",
       "      <td>0.090909</td>\n",
       "      <td>0.303371</td>\n",
       "      <td>0.252930</td>\n",
       "      <td>0.133333</td>\n",
       "      <td>0.841924</td>\n",
       "      <td>0.029197</td>\n",
       "      <td>0.014184</td>\n",
       "    </tr>\n",
       "    <tr>\n",
       "      <th>...</th>\n",
       "      <td>...</td>\n",
       "      <td>...</td>\n",
       "      <td>...</td>\n",
       "      <td>...</td>\n",
       "      <td>...</td>\n",
       "      <td>...</td>\n",
       "      <td>...</td>\n",
       "      <td>...</td>\n",
       "      <td>...</td>\n",
       "      <td>...</td>\n",
       "      <td>...</td>\n",
       "      <td>...</td>\n",
       "      <td>...</td>\n",
       "      <td>...</td>\n",
       "      <td>...</td>\n",
       "      <td>...</td>\n",
       "      <td>...</td>\n",
       "      <td>...</td>\n",
       "      <td>...</td>\n",
       "      <td>...</td>\n",
       "      <td>...</td>\n",
       "    </tr>\n",
       "    <tr>\n",
       "      <th>toDUT-49Zn100K2014973</th>\n",
       "      <td>0.382893</td>\n",
       "      <td>0.606096</td>\n",
       "      <td>1.280045</td>\n",
       "      <td>1.276188</td>\n",
       "      <td>0.831945</td>\n",
       "      <td>0.578143</td>\n",
       "      <td>0.526960</td>\n",
       "      <td>0.441638</td>\n",
       "      <td>1.931464</td>\n",
       "      <td>0.898678</td>\n",
       "      <td>...</td>\n",
       "      <td>0.467463</td>\n",
       "      <td>0.383274</td>\n",
       "      <td>0.431078</td>\n",
       "      <td>0.090909</td>\n",
       "      <td>0.303371</td>\n",
       "      <td>0.252930</td>\n",
       "      <td>0.133333</td>\n",
       "      <td>0.841924</td>\n",
       "      <td>0.029197</td>\n",
       "      <td>0.014184</td>\n",
       "    </tr>\n",
       "    <tr>\n",
       "      <th>1initial924307</th>\n",
       "      <td>0.120228</td>\n",
       "      <td>0.114393</td>\n",
       "      <td>0.128949</td>\n",
       "      <td>0.284110</td>\n",
       "      <td>0.155999</td>\n",
       "      <td>0.677595</td>\n",
       "      <td>0.526960</td>\n",
       "      <td>0.441638</td>\n",
       "      <td>0.027010</td>\n",
       "      <td>0.052863</td>\n",
       "      <td>...</td>\n",
       "      <td>0.119522</td>\n",
       "      <td>0.106507</td>\n",
       "      <td>0.129073</td>\n",
       "      <td>0.000000</td>\n",
       "      <td>0.303371</td>\n",
       "      <td>0.252930</td>\n",
       "      <td>0.133333</td>\n",
       "      <td>0.841924</td>\n",
       "      <td>0.029197</td>\n",
       "      <td>0.014184</td>\n",
       "    </tr>\n",
       "    <tr>\n",
       "      <th>from31483716</th>\n",
       "      <td>0.088584</td>\n",
       "      <td>0.072798</td>\n",
       "      <td>0.071471</td>\n",
       "      <td>0.478036</td>\n",
       "      <td>0.288130</td>\n",
       "      <td>0.578143</td>\n",
       "      <td>0.526960</td>\n",
       "      <td>0.441638</td>\n",
       "      <td>0.045042</td>\n",
       "      <td>0.233480</td>\n",
       "      <td>...</td>\n",
       "      <td>0.094290</td>\n",
       "      <td>0.093381</td>\n",
       "      <td>0.105263</td>\n",
       "      <td>0.000000</td>\n",
       "      <td>0.292135</td>\n",
       "      <td>0.244950</td>\n",
       "      <td>0.150000</td>\n",
       "      <td>0.852234</td>\n",
       "      <td>0.034672</td>\n",
       "      <td>0.268085</td>\n",
       "    </tr>\n",
       "    <tr>\n",
       "      <th>fromVMOP-+1878068</th>\n",
       "      <td>1.444280</td>\n",
       "      <td>1.581787</td>\n",
       "      <td>1.564889</td>\n",
       "      <td>1.570427</td>\n",
       "      <td>1.032422</td>\n",
       "      <td>0.256326</td>\n",
       "      <td>0.090555</td>\n",
       "      <td>0.062258</td>\n",
       "      <td>2.397011</td>\n",
       "      <td>0.995595</td>\n",
       "      <td>...</td>\n",
       "      <td>0.054892</td>\n",
       "      <td>0.085318</td>\n",
       "      <td>0.052214</td>\n",
       "      <td>0.000000</td>\n",
       "      <td>0.224719</td>\n",
       "      <td>0.190406</td>\n",
       "      <td>0.294444</td>\n",
       "      <td>0.549828</td>\n",
       "      <td>0.138686</td>\n",
       "      <td>0.171631</td>\n",
       "    </tr>\n",
       "    <tr>\n",
       "      <th>toic035111o_si_002</th>\n",
       "      <td>0.120865</td>\n",
       "      <td>0.119481</td>\n",
       "      <td>0.315408</td>\n",
       "      <td>0.279736</td>\n",
       "      <td>0.153020</td>\n",
       "      <td>0.438454</td>\n",
       "      <td>0.337532</td>\n",
       "      <td>0.434680</td>\n",
       "      <td>0.096886</td>\n",
       "      <td>0.061674</td>\n",
       "      <td>...</td>\n",
       "      <td>0.099602</td>\n",
       "      <td>0.064879</td>\n",
       "      <td>0.105890</td>\n",
       "      <td>0.000000</td>\n",
       "      <td>0.269663</td>\n",
       "      <td>0.224989</td>\n",
       "      <td>0.188889</td>\n",
       "      <td>0.790378</td>\n",
       "      <td>0.049270</td>\n",
       "      <td>0.190071</td>\n",
       "    </tr>\n",
       "  </tbody>\n",
       "</table>\n",
       "<p>102 rows × 1018 columns</p>\n",
       "</div>"
      ],
      "text/plain": [
       "                                pld       lcd         a         b         c  \\\n",
       "toja054913a_si_004         0.061306  0.035478  0.004061  0.461969  0.277182   \n",
       "toCCDC_2065039_JUK-20-chx  0.234377  0.241414  0.376349  0.374762  0.217765   \n",
       "tod-flexMOFdried975745     0.039053  0.109046  0.176314  0.326269  0.184724   \n",
       "fromDUT-49Co296K890364     0.435653  0.590070  0.899239  0.882823  0.563928   \n",
       "fromja500530y_si_003       0.112838  0.115905  0.292269  0.259028  0.138910   \n",
       "...                             ...       ...       ...       ...       ...   \n",
       "toDUT-49Zn100K2014973      0.382893  0.606096  1.280045  1.276188  0.831945   \n",
       "1initial924307             0.120228  0.114393  0.128949  0.284110  0.155999   \n",
       "from31483716               0.088584  0.072798  0.071471  0.478036  0.288130   \n",
       "fromVMOP-+1878068          1.444280  1.581787  1.564889  1.570427  1.032422   \n",
       "toic035111o_si_002         0.120865  0.119481  0.315408  0.279736  0.153020   \n",
       "\n",
       "                              alpha      beta     gamma    volume  \\\n",
       "toja054913a_si_004         0.578143  0.526960  0.441638  0.023942   \n",
       "toCCDC_2065039_JUK-20-chx  0.637025  0.526960  0.441638  0.106903   \n",
       "tod-flexMOFdried975745     0.376411  0.373636  0.296054  0.053910   \n",
       "fromDUT-49Co296K890364     0.256326  0.090555  0.062258  0.516771   \n",
       "fromja500530y_si_003       0.524035  0.225448  0.373451  0.041505   \n",
       "...                             ...       ...       ...       ...   \n",
       "toDUT-49Zn100K2014973      0.578143  0.526960  0.441638  1.931464   \n",
       "1initial924307             0.677595  0.526960  0.441638  0.027010   \n",
       "from31483716               0.578143  0.526960  0.441638  0.045042   \n",
       "fromVMOP-+1878068          0.256326  0.090555  0.062258  2.397011   \n",
       "toic035111o_si_002         0.438454  0.337532  0.434680  0.096886   \n",
       "\n",
       "                           spacegroupNumber  ...   Zagreb2  mZagreb1  \\\n",
       "toja054913a_si_004                 0.515419  ...  0.025232  0.000000   \n",
       "toCCDC_2065039_JUK-20-chx          0.052863  ...  0.354582  0.281080   \n",
       "tod-flexMOFdried975745             0.004405  ...  0.188579  0.252766   \n",
       "fromDUT-49Co296K890364             0.986784  ...  0.164675  0.145509   \n",
       "fromja500530y_si_003               0.004405  ...  0.124834  0.132758   \n",
       "...                                     ...  ...       ...       ...   \n",
       "toDUT-49Zn100K2014973              0.898678  ...  0.467463  0.383274   \n",
       "1initial924307                     0.052863  ...  0.119522  0.106507   \n",
       "from31483716                       0.233480  ...  0.094290  0.093381   \n",
       "fromVMOP-+1878068                  0.995595  ...  0.054892  0.085318   \n",
       "toic035111o_si_002                 0.061674  ...  0.099602  0.064879   \n",
       "\n",
       "                           mZagreb2  n_metals  Atomic_Number  Atomic_Weight  \\\n",
       "toja054913a_si_004         0.011278  0.000000       0.494382       0.436748   \n",
       "toCCDC_2065039_JUK-20-chx  0.277256  0.000000       0.505618       0.456406   \n",
       "tod-flexMOFdried975745     0.192982  0.000000       0.280899       0.223951   \n",
       "fromDUT-49Co296K890364     0.137845  0.090909       0.269663       0.224989   \n",
       "fromja500530y_si_003       0.112782  0.090909       0.303371       0.252930   \n",
       "...                             ...       ...            ...            ...   \n",
       "toDUT-49Zn100K2014973      0.431078  0.090909       0.303371       0.252930   \n",
       "1initial924307             0.129073  0.000000       0.303371       0.252930   \n",
       "from31483716               0.105263  0.000000       0.292135       0.244950   \n",
       "fromVMOP-+1878068          0.052214  0.000000       0.224719       0.190406   \n",
       "toic035111o_si_002         0.105890  0.000000       0.269663       0.224989   \n",
       "\n",
       "                           Atomic Radius  Mulliken EN  polarizability(A^3)  \\\n",
       "toja054913a_si_004              0.261111     0.838488             0.056569   \n",
       "toCCDC_2065039_JUK-20-chx       0.238889     0.800687             0.043796   \n",
       "tod-flexMOFdried975745          0.172222     0.824742             0.036496   \n",
       "fromDUT-49Co296K890364          0.188889     0.790378             0.049270   \n",
       "fromja500530y_si_003            0.133333     0.841924             0.029197   \n",
       "...                                  ...          ...                  ...   \n",
       "toDUT-49Zn100K2014973           0.133333     0.841924             0.029197   \n",
       "1initial924307                  0.133333     0.841924             0.029197   \n",
       "from31483716                    0.150000     0.852234             0.034672   \n",
       "fromVMOP-+1878068               0.294444     0.549828             0.138686   \n",
       "toic035111o_si_002              0.188889     0.790378             0.049270   \n",
       "\n",
       "                           electron affinity(kJ/mol)  \n",
       "toja054913a_si_004                          0.278014  \n",
       "toCCDC_2065039_JUK-20-chx                   0.000000  \n",
       "tod-flexMOFdried975745                      0.258156  \n",
       "fromDUT-49Co296K890364                      0.190071  \n",
       "fromja500530y_si_003                        0.014184  \n",
       "...                                              ...  \n",
       "toDUT-49Zn100K2014973                       0.014184  \n",
       "1initial924307                              0.014184  \n",
       "from31483716                                0.268085  \n",
       "fromVMOP-+1878068                           0.171631  \n",
       "toic035111o_si_002                          0.190071  \n",
       "\n",
       "[102 rows x 1018 columns]"
      ]
     },
     "execution_count": 35,
     "metadata": {},
     "output_type": "execute_result"
    }
   ],
   "source": [
    "x"
   ]
  },
  {
   "cell_type": "code",
   "execution_count": 36,
   "metadata": {},
   "outputs": [],
   "source": [
    "x.to_csv(\"../main_datasets/dataset.csv\")"
   ]
  },
  {
   "cell_type": "code",
   "execution_count": 37,
   "metadata": {},
   "outputs": [],
   "source": [
    "y.to_csv(\"../main_datasets/target.csv\")"
   ]
  },
  {
   "cell_type": "code",
   "execution_count": null,
   "metadata": {},
   "outputs": [],
   "source": []
  }
 ],
 "metadata": {
  "kernelspec": {
   "display_name": "Python 3",
   "language": "python",
   "name": "python3"
  },
  "language_info": {
   "codemirror_mode": {
    "name": "ipython",
    "version": 3
   },
   "file_extension": ".py",
   "mimetype": "text/x-python",
   "name": "python",
   "nbconvert_exporter": "python",
   "pygments_lexer": "ipython3",
   "version": "3.10.11"
  }
 },
 "nbformat": 4,
 "nbformat_minor": 2
}
