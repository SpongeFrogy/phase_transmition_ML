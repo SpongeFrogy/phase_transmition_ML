{
 "cells": [
  {
   "cell_type": "code",
   "execution_count": 1,
   "metadata": {},
   "outputs": [],
   "source": [
    "import pandas as pd\n",
    "import numpy as np\n",
    "import joblib"
   ]
  },
  {
   "cell_type": "code",
   "execution_count": 2,
   "metadata": {},
   "outputs": [],
   "source": [
    "mofid = pd.read_csv(\"../data/main_dataset_mofid_data_V2.csv\", index_col=0)\n",
    "mofid = mofid[[\"smiles_linkers\", \"smiles_nodes\", \"cifname\"]].set_index(\"cifname\")\n",
    "mordred = pd.read_csv(\"../data/all_f_main_dataset_mordred_V2.csv\", index_col=0)\n",
    "zeo = pd.read_csv(\"../data/main_dataset_zeo_V2.csv\", index_col=0)\n",
    "cif = pd.read_csv(\"../data/main_dataset_cif_property_V2.csv\", index_col=0)\n",
    "\n"
   ]
  },
  {
   "cell_type": "code",
   "execution_count": 3,
   "metadata": {},
   "outputs": [
    {
     "data": {
      "text/plain": [
       "((151, 1826), (162, 3), (165, 8))"
      ]
     },
     "execution_count": 3,
     "metadata": {},
     "output_type": "execute_result"
    }
   ],
   "source": [
    "mordred.shape, zeo.shape, cif.shape"
   ]
  },
  {
   "cell_type": "code",
   "execution_count": 4,
   "metadata": {},
   "outputs": [],
   "source": [
    "def make_mordred():\n",
    "    from mordred import Calculator, descriptors\n",
    "    from rdkit import Chem\n",
    "    mofid = pd.read_csv(\"../data/main_dataset_mofid_data_V2.csv\", index_col=0)\n",
    "    mofid = mofid[[\"smiles_linkers\", \"smiles_nodes\", \"cifname\"]].set_index(\"cifname\")\n",
    "    linkers = [mofid.smiles_linkers[i].replace(\"'\", \"\")[1:-1].split(\", \") for i in range(mofid.__len__())]\n",
    "    mols = [[Chem.MolFromSmiles(smi) for smi in smi_list] for smi_list in linkers]\n",
    "    calc = Calculator(descriptors, ignore_3D=False)\n",
    "    def f(mof):\n",
    "        try: return calc.pandas(mof)\n",
    "        except TypeError:\n",
    "            return None\n",
    "    dfs = [f(mof) for mof in mols]\n",
    "    data_mordred = pd.DataFrame(columns=dfs[0].columns)\n",
    "\n",
    "    for i, filename in enumerate(mofid.index):\n",
    "        try:\n",
    "            if linkers[i] != [\"\"]:\n",
    "                data_mordred.loc[filename] = dfs[i].mean()\n",
    "        except AttributeError:\n",
    "            print(f\"{filename:_^20}\")\n",
    "    data_mordred = data_mordred.set_index(data_mordred.index.map(lambda name: name.replace(\" \", \"\")))\n",
    "    #data_mordred.to_csv(\"../data/all_f_main_dataset_mordred_V2.csv\")\n",
    "    return data_mordred\n",
    "\n"
   ]
  },
  {
   "cell_type": "code",
   "execution_count": 5,
   "metadata": {},
   "outputs": [],
   "source": [
    "def metal_from_node(node: str):\n",
    "    import re\n",
    "    \"\"\"\n",
    "    input: smilesNodes: str\n",
    "    return: \n",
    "    'metals' in node: list\n",
    "    'unique' types of metals: np.array, dtype='<U2'\n",
    "    'count' of unique: np.array, dtype=int\n",
    "    \"\"\"\n",
    "    # \"O[Zr]123(O)[OH]4[Zr]56([O]3[Zr]37([OH]2[Zr]28([O]1[Zr]14([O]6[Zr]([OH]53)([OH]21)([O]78)(O)O)([OH2])([OH2])O)[OH2])([OH2])([OH2])O)[OH2]\"\n",
    "    node = node.replace(\"OH\", \"\").replace(\"O\", \"\")\n",
    "    node = node.replace(\"[\", \"\").replace(\"]\", \"\").replace(\")\", \"\").replace(\"(\", \"\").replace(\",\", \"\")\n",
    "    node = re.sub(r\"\\d\", \"\", node) # replace numbers\n",
    "    #print(node)\n",
    "    # \"ZrZrZrZrZrZr\"\n",
    "    start_cut = 0\n",
    "    metals = []\n",
    "    for i, char in enumerate(node[1:]):\n",
    "        if not char.islower():\n",
    "            metals.append(node[start_cut:i+1])\n",
    "            start_cut = i+1\n",
    "    metals.append(node[start_cut:])\n",
    "    unique, counts = np.unique(np.array(metals), return_counts=True)\n",
    "    return metals, unique, counts"
   ]
  },
  {
   "cell_type": "code",
   "execution_count": 6,
   "metadata": {},
   "outputs": [],
   "source": [
    "elemental_descriptors = pd.read_csv(\"../data/elemental_descriptors.csv\")"
   ]
  },
  {
   "cell_type": "code",
   "execution_count": 7,
   "metadata": {},
   "outputs": [
    {
     "name": "stdout",
     "output_type": "stream",
     "text": [
      "Error with []\n",
      "Error with []\n",
      "Error with []\n",
      "Error with []\n",
      "Error with ['*']\n",
      "Error with ['*']\n",
      "Error with []\n",
      "Error with []\n",
      "Error with ['*']\n",
      "Error with ['*']\n",
      "Error with ['*']\n",
      "Error with ['*']\n",
      "Error with ['*']\n",
      "Error with ['*']\n",
      "Error with ['*']\n"
     ]
    }
   ],
   "source": [
    "node_descriptors = pd.DataFrame(columns=(\"n_metals\", 'n_types_metals', 'Atomic_Number', 'Atomic_Weight', 'Atomic Radius',\n",
    "       'Mulliken EN', 'polarizability(A^3)', 'electron affinity(kJ/mol)'))\n",
    "\n",
    "d = ['Atomic_Number', 'Atomic_Weight', 'Atomic Radius',\n",
    "       'Mulliken EN', 'polarizability(A^3)', 'electron affinity(kJ/mol)']\n",
    "\n",
    "for filename, node in zip(mofid.index.map(lambda name: name.replace(\" \", \"\").replace(\".cif\", \"\")), mofid[\"smiles_nodes\"]):\n",
    "    try:\n",
    "       metals, unique, count = metal_from_node(node.replace(\"'\", \"\").replace(\" \", \"\").replace(\"%\", \"\"))\n",
    "       #print(metals)\n",
    "       n_metals = count.sum()\n",
    "       n_metals_types = count.__len__()\n",
    "       df = pd.DataFrame(columns=d, index=[range(count.sum())])\n",
    "       for metal in metals:\n",
    "          #print(metal)\n",
    "          df.loc[len(df)] = elemental_descriptors.loc[elemental_descriptors[\"Symbol\"] == metal].loc[:,d].iloc[0]\n",
    "       node_descriptors.loc[filename] = n_metals, n_metals_types, *df.mean().array\n",
    "    except IndexError:\n",
    "       print(f\"Error with {node}\")"
   ]
  },
  {
   "cell_type": "code",
   "execution_count": 8,
   "metadata": {},
   "outputs": [],
   "source": [
    "node_descriptors = node_descriptors.loc[node_descriptors[\"n_types_metals\"] == 1.]\n"
   ]
  },
  {
   "cell_type": "code",
   "execution_count": 9,
   "metadata": {},
   "outputs": [],
   "source": [
    "zeo.index = zeo.index.map(lambda s: s.replace(\".res\", \"\"))"
   ]
  },
  {
   "cell_type": "code",
   "execution_count": 10,
   "metadata": {},
   "outputs": [],
   "source": [
    "data_pld_lcd = zeo[[\"num1\", \"num2\"]].rename({\"num1\": \"lcd\", \"num2\": \"pld\"}, axis=1)"
   ]
  },
  {
   "cell_type": "code",
   "execution_count": 11,
   "metadata": {},
   "outputs": [],
   "source": [
    "cif = cif.rename({ \"sg_number\": \"spacegroupNumber\"}, axis=1)"
   ]
  },
  {
   "cell_type": "code",
   "execution_count": 12,
   "metadata": {},
   "outputs": [],
   "source": [
    "cif.index = cif.index.map(lambda name: name.replace(\" \", \"\").replace(\".cif\", \"\"))"
   ]
  },
  {
   "cell_type": "code",
   "execution_count": 13,
   "metadata": {},
   "outputs": [],
   "source": [
    "cif = cif.set_index(cif.index.map(lambda name: name.replace(\"(\", \"\").replace(\")\", \"\")))"
   ]
  },
  {
   "cell_type": "code",
   "execution_count": 14,
   "metadata": {},
   "outputs": [],
   "source": [
    "node_descriptors = node_descriptors.set_index(node_descriptors.index.map(lambda name: name.replace(\"(\", \"\").replace(\")\", \"\")))"
   ]
  },
  {
   "cell_type": "code",
   "execution_count": 15,
   "metadata": {},
   "outputs": [],
   "source": [
    "data_pld_lcd = data_pld_lcd.set_index(data_pld_lcd.index.map(lambda name: name.replace(\"(\", \"\").replace(\")\", \"\")))"
   ]
  },
  {
   "cell_type": "code",
   "execution_count": 16,
   "metadata": {},
   "outputs": [],
   "source": [
    "mordred = mordred.set_index(mordred.index.map(lambda name: name.replace(\"(\", \"\").replace(\")\", \"\")))"
   ]
  },
  {
   "cell_type": "code",
   "execution_count": 17,
   "metadata": {},
   "outputs": [
    {
     "data": {
      "text/plain": [
       "((162, 2), (165, 8), (151, 1826), (145, 8))"
      ]
     },
     "execution_count": 17,
     "metadata": {},
     "output_type": "execute_result"
    }
   ],
   "source": [
    "data_pld_lcd.shape, cif.shape, mordred.shape, node_descriptors.shape"
   ]
  },
  {
   "cell_type": "code",
   "execution_count": 18,
   "metadata": {},
   "outputs": [],
   "source": [
    "data_main = pd.concat([data_pld_lcd, cif, mordred, node_descriptors], axis=1)"
   ]
  },
  {
   "cell_type": "code",
   "execution_count": 19,
   "metadata": {},
   "outputs": [],
   "source": [
    "data_main = data_main.loc[list({*list(data_pld_lcd.index)} & {*list(\n",
    "    cif.index)} & {*list(mordred.index)} & {*list(node_descriptors.index)})]\n"
   ]
  },
  {
   "cell_type": "code",
   "execution_count": 20,
   "metadata": {},
   "outputs": [
    {
     "data": {
      "text/plain": [
       "(138, 1844)"
      ]
     },
     "execution_count": 20,
     "metadata": {},
     "output_type": "execute_result"
    }
   ],
   "source": [
    "data_main.shape"
   ]
  },
  {
   "cell_type": "code",
   "execution_count": 21,
   "metadata": {},
   "outputs": [],
   "source": [
    "# data_main.to_csv(\"../data/main_no_marked.csv\")"
   ]
  },
  {
   "cell_type": "code",
   "execution_count": 22,
   "metadata": {},
   "outputs": [],
   "source": [
    "db_from_to = pd.read_csv(\"../data/DB_main_with_SG_for_EDA.csv\", sep=';')"
   ]
  },
  {
   "cell_type": "code",
   "execution_count": 23,
   "metadata": {},
   "outputs": [],
   "source": [
    "db_from_to.CIF_init = db_from_to.CIF_init.map(lambda name: name.replace(\"(\", \"\").replace(\")\", \"\").replace(\" \", \"\").replace(\".cif\", \"\"))\n",
    "db_from_to.CIF_final = db_from_to.CIF_final.map(lambda name: name.replace(\"(\", \"\").replace(\")\", \"\").replace(\" \", \"\").replace(\".cif\", \"\"))\n"
   ]
  },
  {
   "cell_type": "code",
   "execution_count": 24,
   "metadata": {},
   "outputs": [],
   "source": [
    "marked = pd.DataFrame(columns=[\"target\"])\n",
    "\n",
    "for ind in db_from_to.index:\n",
    "    if db_from_to.loc[ind, \"Stimuli\"].find(\"solvent\") != -1:\n",
    "        marked.loc[db_from_to.loc[ind, \"CIF_init\"]] = [1]\n",
    "        if db_from_to.loc[ind, \"Reversible\"] == \"yes\":\n",
    "            marked.loc[db_from_to.loc[ind, \"CIF_final\"]] = [1]\n",
    "        else:\n",
    "            marked.loc[db_from_to.loc[ind, \"CIF_final\"]] = [0]\n",
    "    else:\n",
    "        marked.loc[db_from_to.loc[ind, \"CIF_init\"]] = [0]\n",
    "        marked.loc[db_from_to.loc[ind, \"CIF_final\"]] = [0]"
   ]
  },
  {
   "cell_type": "code",
   "execution_count": 25,
   "metadata": {},
   "outputs": [],
   "source": [
    "from pteproc_model import PreprocessingModel\n",
    "model = joblib.load(\"../qmof_datasets/normalizer/small_normalizer.pkl\")"
   ]
  },
  {
   "cell_type": "code",
   "execution_count": 26,
   "metadata": {},
   "outputs": [],
   "source": [
    "main_dataset = data_main[model.cols]"
   ]
  },
  {
   "cell_type": "code",
   "execution_count": 27,
   "metadata": {},
   "outputs": [],
   "source": [
    "marked_dataset = pd.concat([main_dataset, marked], axis=1)"
   ]
  },
  {
   "cell_type": "code",
   "execution_count": 28,
   "metadata": {},
   "outputs": [],
   "source": [
    "marked_dataset = marked_dataset.loc[list({*list(main_dataset.index)} & {*list(marked.index)})]"
   ]
  },
  {
   "cell_type": "code",
   "execution_count": 29,
   "metadata": {},
   "outputs": [
    {
     "name": "stdout",
     "output_type": "stream",
     "text": [
      "|  target  |  counts  |\n",
      "-----------------------\n",
      "|   yes    |    65    |\n",
      "|    no    |    37    |\n",
      "total count:102\n"
     ]
    }
   ],
   "source": [
    "target, counts = np.unique(marked_dataset.target, return_counts=True)\n",
    "\n",
    "\n",
    "print(f\"|{'target':^10}|{'counts':^10}|\")\n",
    "print(f\"{'-':-^23}\")\n",
    "print(f\"|{'yes':^10}|{counts[0]:^10}|\")\n",
    "print(f\"|{'no':^10}|{counts[1]:^10}|\")\n",
    "print(f\"total count:{marked_dataset.__len__()}\")"
   ]
  },
  {
   "cell_type": "code",
   "execution_count": 30,
   "metadata": {},
   "outputs": [
    {
     "data": {
      "text/plain": [
       "(102, 1146)"
      ]
     },
     "execution_count": 30,
     "metadata": {},
     "output_type": "execute_result"
    }
   ],
   "source": [
    "marked_dataset.shape"
   ]
  },
  {
   "cell_type": "code",
   "execution_count": 31,
   "metadata": {},
   "outputs": [],
   "source": [
    "# marked_dataset.to_csv(\"../data/main_marked_1406.csv\")"
   ]
  },
  {
   "cell_type": "code",
   "execution_count": 32,
   "metadata": {},
   "outputs": [],
   "source": [
    "x, y = model.transform(marked_dataset.drop(['target'], axis=1)), marked_dataset['target']"
   ]
  },
  {
   "cell_type": "code",
   "execution_count": 33,
   "metadata": {},
   "outputs": [
    {
     "data": {
      "text/plain": [
       "((102, 1145), (102, 1145))"
      ]
     },
     "execution_count": 33,
     "metadata": {},
     "output_type": "execute_result"
    }
   ],
   "source": [
    "x.shape, x.dropna().shape"
   ]
  },
  {
   "cell_type": "code",
   "execution_count": 34,
   "metadata": {},
   "outputs": [
    {
     "data": {
      "text/html": [
       "<div>\n",
       "<style scoped>\n",
       "    .dataframe tbody tr th:only-of-type {\n",
       "        vertical-align: middle;\n",
       "    }\n",
       "\n",
       "    .dataframe tbody tr th {\n",
       "        vertical-align: top;\n",
       "    }\n",
       "\n",
       "    .dataframe thead th {\n",
       "        text-align: right;\n",
       "    }\n",
       "</style>\n",
       "<table border=\"1\" class=\"dataframe\">\n",
       "  <thead>\n",
       "    <tr style=\"text-align: right;\">\n",
       "      <th></th>\n",
       "      <th>pld</th>\n",
       "      <th>lcd</th>\n",
       "      <th>a</th>\n",
       "      <th>b</th>\n",
       "      <th>c</th>\n",
       "      <th>alpha</th>\n",
       "      <th>beta</th>\n",
       "      <th>gamma</th>\n",
       "      <th>volume</th>\n",
       "      <th>spacegroupNumber</th>\n",
       "      <th>...</th>\n",
       "      <th>Zagreb2</th>\n",
       "      <th>mZagreb1</th>\n",
       "      <th>mZagreb2</th>\n",
       "      <th>n_metals</th>\n",
       "      <th>Atomic_Number</th>\n",
       "      <th>Atomic_Weight</th>\n",
       "      <th>Atomic Radius</th>\n",
       "      <th>Mulliken EN</th>\n",
       "      <th>polarizability(A^3)</th>\n",
       "      <th>electron affinity(kJ/mol)</th>\n",
       "    </tr>\n",
       "  </thead>\n",
       "  <tbody>\n",
       "    <tr>\n",
       "      <th>from3in61515548</th>\n",
       "      <td>0.000225</td>\n",
       "      <td>0.000317</td>\n",
       "      <td>0.000584</td>\n",
       "      <td>0.000731</td>\n",
       "      <td>0.000731</td>\n",
       "      <td>0.005354</td>\n",
       "      <td>0.004140</td>\n",
       "      <td>0.004140</td>\n",
       "      <td>0.135023</td>\n",
       "      <td>0.000357</td>\n",
       "      <td>...</td>\n",
       "      <td>0.003414</td>\n",
       "      <td>0.000237</td>\n",
       "      <td>0.000147</td>\n",
       "      <td>0.000045</td>\n",
       "      <td>0.001249</td>\n",
       "      <td>0.002619</td>\n",
       "      <td>0.000066</td>\n",
       "      <td>0.000196</td>\n",
       "      <td>0.000303</td>\n",
       "      <td>0.004998</td>\n",
       "    </tr>\n",
       "    <tr>\n",
       "      <th>toSTA-26Zr-Cchangedsymmetry1571656</th>\n",
       "      <td>0.000039</td>\n",
       "      <td>0.000114</td>\n",
       "      <td>0.000245</td>\n",
       "      <td>0.000248</td>\n",
       "      <td>0.000248</td>\n",
       "      <td>0.000794</td>\n",
       "      <td>0.000787</td>\n",
       "      <td>0.000787</td>\n",
       "      <td>0.196654</td>\n",
       "      <td>0.000551</td>\n",
       "      <td>...</td>\n",
       "      <td>0.001981</td>\n",
       "      <td>0.000116</td>\n",
       "      <td>0.000068</td>\n",
       "      <td>0.000052</td>\n",
       "      <td>0.000350</td>\n",
       "      <td>0.000798</td>\n",
       "      <td>0.000018</td>\n",
       "      <td>0.000032</td>\n",
       "      <td>0.000157</td>\n",
       "      <td>0.000359</td>\n",
       "    </tr>\n",
       "    <tr>\n",
       "      <th>fromic035111o_si_002</th>\n",
       "      <td>0.000131</td>\n",
       "      <td>0.000171</td>\n",
       "      <td>0.000476</td>\n",
       "      <td>0.000476</td>\n",
       "      <td>0.000476</td>\n",
       "      <td>0.002661</td>\n",
       "      <td>0.002661</td>\n",
       "      <td>0.003092</td>\n",
       "      <td>0.170117</td>\n",
       "      <td>0.000518</td>\n",
       "      <td>...</td>\n",
       "      <td>0.002627</td>\n",
       "      <td>0.000126</td>\n",
       "      <td>0.000116</td>\n",
       "      <td>0.000035</td>\n",
       "      <td>0.000933</td>\n",
       "      <td>0.002037</td>\n",
       "      <td>0.000053</td>\n",
       "      <td>0.000149</td>\n",
       "      <td>0.000259</td>\n",
       "      <td>0.002212</td>\n",
       "    </tr>\n",
       "    <tr>\n",
       "      <th>basedonCofromPnna709782</th>\n",
       "      <td>0.000611</td>\n",
       "      <td>0.000863</td>\n",
       "      <td>0.004005</td>\n",
       "      <td>0.004282</td>\n",
       "      <td>0.004282</td>\n",
       "      <td>0.043248</td>\n",
       "      <td>0.043248</td>\n",
       "      <td>0.043248</td>\n",
       "      <td>0.419441</td>\n",
       "      <td>0.024988</td>\n",
       "      <td>...</td>\n",
       "      <td>0.001922</td>\n",
       "      <td>0.001081</td>\n",
       "      <td>0.000481</td>\n",
       "      <td>0.000481</td>\n",
       "      <td>0.012974</td>\n",
       "      <td>0.028319</td>\n",
       "      <td>0.000730</td>\n",
       "      <td>0.002066</td>\n",
       "      <td>0.003604</td>\n",
       "      <td>0.030754</td>\n",
       "    </tr>\n",
       "    <tr>\n",
       "      <th>initialSTA-26Zr1571655</th>\n",
       "      <td>0.000056</td>\n",
       "      <td>0.000172</td>\n",
       "      <td>0.000304</td>\n",
       "      <td>0.000304</td>\n",
       "      <td>0.000304</td>\n",
       "      <td>0.001364</td>\n",
       "      <td>0.001364</td>\n",
       "      <td>0.001364</td>\n",
       "      <td>0.139237</td>\n",
       "      <td>0.002853</td>\n",
       "      <td>...</td>\n",
       "      <td>0.002541</td>\n",
       "      <td>0.000138</td>\n",
       "      <td>0.000089</td>\n",
       "      <td>0.000075</td>\n",
       "      <td>0.000498</td>\n",
       "      <td>0.001136</td>\n",
       "      <td>0.000026</td>\n",
       "      <td>0.000045</td>\n",
       "      <td>0.000223</td>\n",
       "      <td>0.000511</td>\n",
       "    </tr>\n",
       "    <tr>\n",
       "      <th>...</th>\n",
       "      <td>...</td>\n",
       "      <td>...</td>\n",
       "      <td>...</td>\n",
       "      <td>...</td>\n",
       "      <td>...</td>\n",
       "      <td>...</td>\n",
       "      <td>...</td>\n",
       "      <td>...</td>\n",
       "      <td>...</td>\n",
       "      <td>...</td>\n",
       "      <td>...</td>\n",
       "      <td>...</td>\n",
       "      <td>...</td>\n",
       "      <td>...</td>\n",
       "      <td>...</td>\n",
       "      <td>...</td>\n",
       "      <td>...</td>\n",
       "      <td>...</td>\n",
       "      <td>...</td>\n",
       "      <td>...</td>\n",
       "      <td>...</td>\n",
       "    </tr>\n",
       "    <tr>\n",
       "      <th>from1041925</th>\n",
       "      <td>0.000053</td>\n",
       "      <td>0.000116</td>\n",
       "      <td>0.000350</td>\n",
       "      <td>0.000588</td>\n",
       "      <td>0.000588</td>\n",
       "      <td>0.003825</td>\n",
       "      <td>0.003825</td>\n",
       "      <td>0.003825</td>\n",
       "      <td>0.080259</td>\n",
       "      <td>0.002210</td>\n",
       "      <td>...</td>\n",
       "      <td>0.003400</td>\n",
       "      <td>0.000189</td>\n",
       "      <td>0.000133</td>\n",
       "      <td>0.000042</td>\n",
       "      <td>0.002040</td>\n",
       "      <td>0.004777</td>\n",
       "      <td>0.000068</td>\n",
       "      <td>0.000184</td>\n",
       "      <td>0.000306</td>\n",
       "      <td>-0.002975</td>\n",
       "    </tr>\n",
       "    <tr>\n",
       "      <th>toCCDC_2065039_JUK-20-chx</th>\n",
       "      <td>0.000073</td>\n",
       "      <td>0.000091</td>\n",
       "      <td>0.000161</td>\n",
       "      <td>0.000172</td>\n",
       "      <td>0.000172</td>\n",
       "      <td>0.000976</td>\n",
       "      <td>0.000920</td>\n",
       "      <td>0.000920</td>\n",
       "      <td>0.055320</td>\n",
       "      <td>0.000133</td>\n",
       "      <td>...</td>\n",
       "      <td>0.002739</td>\n",
       "      <td>0.000119</td>\n",
       "      <td>0.000073</td>\n",
       "      <td>0.000010</td>\n",
       "      <td>0.000491</td>\n",
       "      <td>0.001149</td>\n",
       "      <td>0.000016</td>\n",
       "      <td>0.000044</td>\n",
       "      <td>0.000074</td>\n",
       "      <td>-0.000715</td>\n",
       "    </tr>\n",
       "    <tr>\n",
       "      <th>toFdd21021920</th>\n",
       "      <td>0.000028</td>\n",
       "      <td>0.000088</td>\n",
       "      <td>0.000302</td>\n",
       "      <td>0.000374</td>\n",
       "      <td>0.000374</td>\n",
       "      <td>0.002930</td>\n",
       "      <td>0.002621</td>\n",
       "      <td>0.002304</td>\n",
       "      <td>0.048707</td>\n",
       "      <td>0.001498</td>\n",
       "      <td>...</td>\n",
       "      <td>0.003746</td>\n",
       "      <td>0.000301</td>\n",
       "      <td>0.000138</td>\n",
       "      <td>0.000035</td>\n",
       "      <td>0.000732</td>\n",
       "      <td>0.001567</td>\n",
       "      <td>0.000064</td>\n",
       "      <td>0.000116</td>\n",
       "      <td>0.000620</td>\n",
       "      <td>0.000627</td>\n",
       "    </tr>\n",
       "    <tr>\n",
       "      <th>from31483716</th>\n",
       "      <td>0.000102</td>\n",
       "      <td>0.000124</td>\n",
       "      <td>0.000206</td>\n",
       "      <td>0.000724</td>\n",
       "      <td>0.000724</td>\n",
       "      <td>0.003242</td>\n",
       "      <td>0.003242</td>\n",
       "      <td>0.003242</td>\n",
       "      <td>0.085711</td>\n",
       "      <td>0.001945</td>\n",
       "      <td>...</td>\n",
       "      <td>0.002593</td>\n",
       "      <td>0.000170</td>\n",
       "      <td>0.000120</td>\n",
       "      <td>0.000036</td>\n",
       "      <td>0.001045</td>\n",
       "      <td>0.002289</td>\n",
       "      <td>0.000052</td>\n",
       "      <td>0.000161</td>\n",
       "      <td>0.000241</td>\n",
       "      <td>0.004286</td>\n",
       "    </tr>\n",
       "    <tr>\n",
       "      <th>fromDUT-49Mn296K1957604</th>\n",
       "      <td>0.000299</td>\n",
       "      <td>0.000454</td>\n",
       "      <td>0.000753</td>\n",
       "      <td>0.000753</td>\n",
       "      <td>0.000753</td>\n",
       "      <td>0.001358</td>\n",
       "      <td>0.001358</td>\n",
       "      <td>0.001358</td>\n",
       "      <td>0.590398</td>\n",
       "      <td>0.005092</td>\n",
       "      <td>...</td>\n",
       "      <td>0.002829</td>\n",
       "      <td>0.000150</td>\n",
       "      <td>0.000092</td>\n",
       "      <td>0.000045</td>\n",
       "      <td>0.000566</td>\n",
       "      <td>0.001243</td>\n",
       "      <td>0.000036</td>\n",
       "      <td>0.000084</td>\n",
       "      <td>0.000213</td>\n",
       "      <td>-0.001132</td>\n",
       "    </tr>\n",
       "  </tbody>\n",
       "</table>\n",
       "<p>102 rows × 1145 columns</p>\n",
       "</div>"
      ],
      "text/plain": [
       "                                         pld       lcd         a         b  \\\n",
       "from3in61515548                     0.000225  0.000317  0.000584  0.000731   \n",
       "toSTA-26Zr-Cchangedsymmetry1571656  0.000039  0.000114  0.000245  0.000248   \n",
       "fromic035111o_si_002                0.000131  0.000171  0.000476  0.000476   \n",
       "basedonCofromPnna709782             0.000611  0.000863  0.004005  0.004282   \n",
       "initialSTA-26Zr1571655              0.000056  0.000172  0.000304  0.000304   \n",
       "...                                      ...       ...       ...       ...   \n",
       "from1041925                         0.000053  0.000116  0.000350  0.000588   \n",
       "toCCDC_2065039_JUK-20-chx           0.000073  0.000091  0.000161  0.000172   \n",
       "toFdd21021920                       0.000028  0.000088  0.000302  0.000374   \n",
       "from31483716                        0.000102  0.000124  0.000206  0.000724   \n",
       "fromDUT-49Mn296K1957604             0.000299  0.000454  0.000753  0.000753   \n",
       "\n",
       "                                           c     alpha      beta     gamma  \\\n",
       "from3in61515548                     0.000731  0.005354  0.004140  0.004140   \n",
       "toSTA-26Zr-Cchangedsymmetry1571656  0.000248  0.000794  0.000787  0.000787   \n",
       "fromic035111o_si_002                0.000476  0.002661  0.002661  0.003092   \n",
       "basedonCofromPnna709782             0.004282  0.043248  0.043248  0.043248   \n",
       "initialSTA-26Zr1571655              0.000304  0.001364  0.001364  0.001364   \n",
       "...                                      ...       ...       ...       ...   \n",
       "from1041925                         0.000588  0.003825  0.003825  0.003825   \n",
       "toCCDC_2065039_JUK-20-chx           0.000172  0.000976  0.000920  0.000920   \n",
       "toFdd21021920                       0.000374  0.002930  0.002621  0.002304   \n",
       "from31483716                        0.000724  0.003242  0.003242  0.003242   \n",
       "fromDUT-49Mn296K1957604             0.000753  0.001358  0.001358  0.001358   \n",
       "\n",
       "                                      volume  spacegroupNumber  ...   Zagreb2  \\\n",
       "from3in61515548                     0.135023          0.000357  ...  0.003414   \n",
       "toSTA-26Zr-Cchangedsymmetry1571656  0.196654          0.000551  ...  0.001981   \n",
       "fromic035111o_si_002                0.170117          0.000518  ...  0.002627   \n",
       "basedonCofromPnna709782             0.419441          0.024988  ...  0.001922   \n",
       "initialSTA-26Zr1571655              0.139237          0.002853  ...  0.002541   \n",
       "...                                      ...               ...  ...       ...   \n",
       "from1041925                         0.080259          0.002210  ...  0.003400   \n",
       "toCCDC_2065039_JUK-20-chx           0.055320          0.000133  ...  0.002739   \n",
       "toFdd21021920                       0.048707          0.001498  ...  0.003746   \n",
       "from31483716                        0.085711          0.001945  ...  0.002593   \n",
       "fromDUT-49Mn296K1957604             0.590398          0.005092  ...  0.002829   \n",
       "\n",
       "                                    mZagreb1  mZagreb2  n_metals  \\\n",
       "from3in61515548                     0.000237  0.000147  0.000045   \n",
       "toSTA-26Zr-Cchangedsymmetry1571656  0.000116  0.000068  0.000052   \n",
       "fromic035111o_si_002                0.000126  0.000116  0.000035   \n",
       "basedonCofromPnna709782             0.001081  0.000481  0.000481   \n",
       "initialSTA-26Zr1571655              0.000138  0.000089  0.000075   \n",
       "...                                      ...       ...       ...   \n",
       "from1041925                         0.000189  0.000133  0.000042   \n",
       "toCCDC_2065039_JUK-20-chx           0.000119  0.000073  0.000010   \n",
       "toFdd21021920                       0.000301  0.000138  0.000035   \n",
       "from31483716                        0.000170  0.000120  0.000036   \n",
       "fromDUT-49Mn296K1957604             0.000150  0.000092  0.000045   \n",
       "\n",
       "                                    Atomic_Number  Atomic_Weight  \\\n",
       "from3in61515548                          0.001249       0.002619   \n",
       "toSTA-26Zr-Cchangedsymmetry1571656       0.000350       0.000798   \n",
       "fromic035111o_si_002                     0.000933       0.002037   \n",
       "basedonCofromPnna709782                  0.012974       0.028319   \n",
       "initialSTA-26Zr1571655                   0.000498       0.001136   \n",
       "...                                           ...            ...   \n",
       "from1041925                              0.002040       0.004777   \n",
       "toCCDC_2065039_JUK-20-chx                0.000491       0.001149   \n",
       "toFdd21021920                            0.000732       0.001567   \n",
       "from31483716                             0.001045       0.002289   \n",
       "fromDUT-49Mn296K1957604                  0.000566       0.001243   \n",
       "\n",
       "                                    Atomic Radius  Mulliken EN  \\\n",
       "from3in61515548                          0.000066     0.000196   \n",
       "toSTA-26Zr-Cchangedsymmetry1571656       0.000018     0.000032   \n",
       "fromic035111o_si_002                     0.000053     0.000149   \n",
       "basedonCofromPnna709782                  0.000730     0.002066   \n",
       "initialSTA-26Zr1571655                   0.000026     0.000045   \n",
       "...                                           ...          ...   \n",
       "from1041925                              0.000068     0.000184   \n",
       "toCCDC_2065039_JUK-20-chx                0.000016     0.000044   \n",
       "toFdd21021920                            0.000064     0.000116   \n",
       "from31483716                             0.000052     0.000161   \n",
       "fromDUT-49Mn296K1957604                  0.000036     0.000084   \n",
       "\n",
       "                                    polarizability(A^3)  \\\n",
       "from3in61515548                                0.000303   \n",
       "toSTA-26Zr-Cchangedsymmetry1571656             0.000157   \n",
       "fromic035111o_si_002                           0.000259   \n",
       "basedonCofromPnna709782                        0.003604   \n",
       "initialSTA-26Zr1571655                         0.000223   \n",
       "...                                                 ...   \n",
       "from1041925                                    0.000306   \n",
       "toCCDC_2065039_JUK-20-chx                      0.000074   \n",
       "toFdd21021920                                  0.000620   \n",
       "from31483716                                   0.000241   \n",
       "fromDUT-49Mn296K1957604                        0.000213   \n",
       "\n",
       "                                    electron affinity(kJ/mol)  \n",
       "from3in61515548                                      0.004998  \n",
       "toSTA-26Zr-Cchangedsymmetry1571656                   0.000359  \n",
       "fromic035111o_si_002                                 0.002212  \n",
       "basedonCofromPnna709782                              0.030754  \n",
       "initialSTA-26Zr1571655                               0.000511  \n",
       "...                                                       ...  \n",
       "from1041925                                         -0.002975  \n",
       "toCCDC_2065039_JUK-20-chx                           -0.000715  \n",
       "toFdd21021920                                        0.000627  \n",
       "from31483716                                         0.004286  \n",
       "fromDUT-49Mn296K1957604                             -0.001132  \n",
       "\n",
       "[102 rows x 1145 columns]"
      ]
     },
     "execution_count": 34,
     "metadata": {},
     "output_type": "execute_result"
    }
   ],
   "source": [
    "x"
   ]
  },
  {
   "cell_type": "code",
   "execution_count": 35,
   "metadata": {},
   "outputs": [],
   "source": [
    "x.to_csv(\"../main_datasets/dataset.csv\")"
   ]
  },
  {
   "cell_type": "code",
   "execution_count": 36,
   "metadata": {},
   "outputs": [],
   "source": [
    "y.to_csv(\"../main_datasets/target.csv\")"
   ]
  },
  {
   "cell_type": "code",
   "execution_count": null,
   "metadata": {},
   "outputs": [],
   "source": []
  }
 ],
 "metadata": {
  "kernelspec": {
   "display_name": "Python 3",
   "language": "python",
   "name": "python3"
  },
  "language_info": {
   "codemirror_mode": {
    "name": "ipython",
    "version": 3
   },
   "file_extension": ".py",
   "mimetype": "text/x-python",
   "name": "python",
   "nbconvert_exporter": "python",
   "pygments_lexer": "ipython3",
   "version": "3.10.11"
  }
 },
 "nbformat": 4,
 "nbformat_minor": 2
}
