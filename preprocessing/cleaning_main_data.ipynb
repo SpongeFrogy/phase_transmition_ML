{
 "cells": [
  {
   "cell_type": "code",
   "execution_count": 1,
   "metadata": {},
   "outputs": [],
   "source": [
    "import pandas as pd\n",
    "import numpy as np\n",
    "import joblib"
   ]
  },
  {
   "cell_type": "code",
   "execution_count": 2,
   "metadata": {},
   "outputs": [],
   "source": [
    "mofid = pd.read_csv(\"../data/main_dataset_mofid_data_V2.csv\", index_col=0)\n",
    "mofid = mofid[[\"smiles_linkers\", \"smiles_nodes\", \"cifname\"]].set_index(\"cifname\")\n",
    "mordred = pd.read_csv(\"../data/all_f_main_dataset_mordred_V2.csv\", index_col=0)\n",
    "zeo = pd.read_csv(\"../data/main_dataset_zeo_V2.csv\", index_col=0)\n",
    "cif = pd.read_csv(\"../data/main_dataset_cif_property_V2.csv\", index_col=0)\n",
    "\n"
   ]
  },
  {
   "cell_type": "code",
   "execution_count": 3,
   "metadata": {},
   "outputs": [
    {
     "data": {
      "text/plain": [
       "((151, 1826), (162, 3), (165, 8))"
      ]
     },
     "execution_count": 3,
     "metadata": {},
     "output_type": "execute_result"
    }
   ],
   "source": [
    "mordred.shape, zeo.shape, cif.shape"
   ]
  },
  {
   "cell_type": "code",
   "execution_count": 4,
   "metadata": {},
   "outputs": [],
   "source": [
    "def make_mordred():\n",
    "    from mordred import Calculator, descriptors\n",
    "    from rdkit import Chem\n",
    "    mofid = pd.read_csv(\"../data/main_dataset_mofid_data_V2.csv\", index_col=0)\n",
    "    mofid = mofid[[\"smiles_linkers\", \"smiles_nodes\", \"cifname\"]].set_index(\"cifname\")\n",
    "    linkers = [mofid.smiles_linkers[i].replace(\"'\", \"\")[1:-1].split(\", \") for i in range(mofid.__len__())]\n",
    "    mols = [[Chem.MolFromSmiles(smi) for smi in smi_list] for smi_list in linkers]\n",
    "    calc = Calculator(descriptors, ignore_3D=False)\n",
    "    def f(mof):\n",
    "        try: return calc.pandas(mof)\n",
    "        except TypeError:\n",
    "            return None\n",
    "    dfs = [f(mof) for mof in mols]\n",
    "    data_mordred = pd.DataFrame(columns=dfs[0].columns)\n",
    "\n",
    "    for i, filename in enumerate(mofid.index):\n",
    "        try:\n",
    "            if linkers[i] != [\"\"]:\n",
    "                data_mordred.loc[filename] = dfs[i].mean()\n",
    "        except AttributeError:\n",
    "            print(f\"{filename:_^20}\")\n",
    "    data_mordred = data_mordred.set_index(data_mordred.index.map(lambda name: name.replace(\" \", \"\")))\n",
    "    #data_mordred.to_csv(\"../data/all_f_main_dataset_mordred_V2.csv\")\n",
    "    return data_mordred\n",
    "\n"
   ]
  },
  {
   "cell_type": "code",
   "execution_count": 5,
   "metadata": {},
   "outputs": [],
   "source": [
    "def metal_from_node(node: str):\n",
    "    import re\n",
    "    \"\"\"\n",
    "    input: smilesNodes: str\n",
    "    return: \n",
    "    'metals' in node: list\n",
    "    'unique' types of metals: np.array, dtype='<U2'\n",
    "    'count' of unique: np.array, dtype=int\n",
    "    \"\"\"\n",
    "    # \"O[Zr]123(O)[OH]4[Zr]56([O]3[Zr]37([OH]2[Zr]28([O]1[Zr]14([O]6[Zr]([OH]53)([OH]21)([O]78)(O)O)([OH2])([OH2])O)[OH2])([OH2])([OH2])O)[OH2]\"\n",
    "    node = node.replace(\"OH\", \"\").replace(\"O\", \"\")\n",
    "    node = node.replace(\"[\", \"\").replace(\"]\", \"\").replace(\")\", \"\").replace(\"(\", \"\").replace(\",\", \"\")\n",
    "    node = re.sub(r\"\\d\", \"\", node) # replace numbers\n",
    "    #print(node)\n",
    "    # \"ZrZrZrZrZrZr\"\n",
    "    start_cut = 0\n",
    "    metals = []\n",
    "    for i, char in enumerate(node[1:]):\n",
    "        if not char.islower():\n",
    "            metals.append(node[start_cut:i+1])\n",
    "            start_cut = i+1\n",
    "    metals.append(node[start_cut:])\n",
    "    unique, counts = np.unique(np.array(metals), return_counts=True)\n",
    "    return metals, unique, counts"
   ]
  },
  {
   "cell_type": "code",
   "execution_count": 6,
   "metadata": {},
   "outputs": [],
   "source": [
    "elemental_descriptors = pd.read_csv(\"../data/elemental_descriptors.csv\")"
   ]
  },
  {
   "cell_type": "code",
   "execution_count": 7,
   "metadata": {},
   "outputs": [
    {
     "name": "stdout",
     "output_type": "stream",
     "text": [
      "Error with []\n",
      "Error with []\n",
      "Error with []\n",
      "Error with []\n",
      "Error with ['*']\n",
      "Error with ['*']\n",
      "Error with []\n",
      "Error with []\n",
      "Error with ['*']\n",
      "Error with ['*']\n",
      "Error with ['*']\n",
      "Error with ['*']\n",
      "Error with ['*']\n",
      "Error with ['*']\n",
      "Error with ['*']\n"
     ]
    }
   ],
   "source": [
    "node_descriptors = pd.DataFrame(columns=(\"n_metals\", 'n_types_metals', 'Atomic_Number', 'Atomic_Weight', 'Atomic Radius',\n",
    "       'Mulliken EN', 'polarizability(A^3)', 'electron affinity(kJ/mol)'))\n",
    "\n",
    "d = ['Atomic_Number', 'Atomic_Weight', 'Atomic Radius',\n",
    "       'Mulliken EN', 'polarizability(A^3)', 'electron affinity(kJ/mol)']\n",
    "\n",
    "for filename, node in zip(mofid.index.map(lambda name: name.replace(\" \", \"\").replace(\".cif\", \"\")), mofid[\"smiles_nodes\"]):\n",
    "    try:\n",
    "       metals, unique, count = metal_from_node(node.replace(\"'\", \"\").replace(\" \", \"\").replace(\"%\", \"\"))\n",
    "       #print(metals)\n",
    "       n_metals = count.sum()\n",
    "       n_metals_types = count.__len__()\n",
    "       df = pd.DataFrame(columns=d, index=[range(count.sum())])\n",
    "       for metal in metals:\n",
    "          #print(metal)\n",
    "          df.loc[len(df)] = elemental_descriptors.loc[elemental_descriptors[\"Symbol\"] == metal].loc[:,d].iloc[0]\n",
    "       node_descriptors.loc[filename] = n_metals, n_metals_types, *df.mean().array\n",
    "    except IndexError:\n",
    "       print(f\"Error with {node}\")"
   ]
  },
  {
   "cell_type": "code",
   "execution_count": 8,
   "metadata": {},
   "outputs": [],
   "source": [
    "node_descriptors = node_descriptors.loc[node_descriptors[\"n_types_metals\"] == 1.]\n"
   ]
  },
  {
   "cell_type": "code",
   "execution_count": 9,
   "metadata": {},
   "outputs": [],
   "source": [
    "zeo.index = zeo.index.map(lambda s: s.replace(\".res\", \"\"))"
   ]
  },
  {
   "cell_type": "code",
   "execution_count": 10,
   "metadata": {},
   "outputs": [],
   "source": [
    "data_pld_lcd = zeo[[\"num1\", \"num2\"]].rename({\"num1\": \"lcd\", \"num2\": \"pld\"}, axis=1)"
   ]
  },
  {
   "cell_type": "code",
   "execution_count": 11,
   "metadata": {},
   "outputs": [],
   "source": [
    "cif = cif.rename({ \"sg_number\": \"spacegroupNumber\"}, axis=1)"
   ]
  },
  {
   "cell_type": "code",
   "execution_count": 12,
   "metadata": {},
   "outputs": [],
   "source": [
    "cif.index = cif.index.map(lambda name: name.replace(\" \", \"\").replace(\".cif\", \"\"))"
   ]
  },
  {
   "cell_type": "code",
   "execution_count": 13,
   "metadata": {},
   "outputs": [],
   "source": [
    "cif = cif.set_index(cif.index.map(lambda name: name.replace(\"(\", \"\").replace(\")\", \"\")))"
   ]
  },
  {
   "cell_type": "code",
   "execution_count": 14,
   "metadata": {},
   "outputs": [],
   "source": [
    "node_descriptors = node_descriptors.set_index(node_descriptors.index.map(lambda name: name.replace(\"(\", \"\").replace(\")\", \"\")))"
   ]
  },
  {
   "cell_type": "code",
   "execution_count": 15,
   "metadata": {},
   "outputs": [],
   "source": [
    "data_pld_lcd = data_pld_lcd.set_index(data_pld_lcd.index.map(lambda name: name.replace(\"(\", \"\").replace(\")\", \"\")))"
   ]
  },
  {
   "cell_type": "code",
   "execution_count": 16,
   "metadata": {},
   "outputs": [],
   "source": [
    "mordred = mordred.set_index(mordred.index.map(lambda name: name.replace(\"(\", \"\").replace(\")\", \"\")))"
   ]
  },
  {
   "cell_type": "code",
   "execution_count": 17,
   "metadata": {},
   "outputs": [
    {
     "data": {
      "text/plain": [
       "((162, 2), (165, 8), (151, 1826), (145, 8))"
      ]
     },
     "execution_count": 17,
     "metadata": {},
     "output_type": "execute_result"
    }
   ],
   "source": [
    "data_pld_lcd.shape, cif.shape, mordred.shape, node_descriptors.shape"
   ]
  },
  {
   "cell_type": "code",
   "execution_count": 18,
   "metadata": {},
   "outputs": [],
   "source": [
    "data_main = pd.concat([data_pld_lcd, cif, mordred, node_descriptors], axis=1)"
   ]
  },
  {
   "cell_type": "code",
   "execution_count": 19,
   "metadata": {},
   "outputs": [],
   "source": [
    "data_main = data_main.loc[list({*list(data_pld_lcd.index)} & {*list(\n",
    "    cif.index)} & {*list(mordred.index)} & {*list(node_descriptors.index)})]\n"
   ]
  },
  {
   "cell_type": "code",
   "execution_count": 20,
   "metadata": {},
   "outputs": [
    {
     "data": {
      "text/plain": [
       "(138, 1844)"
      ]
     },
     "execution_count": 20,
     "metadata": {},
     "output_type": "execute_result"
    }
   ],
   "source": [
    "data_main.shape"
   ]
  },
  {
   "cell_type": "code",
   "execution_count": 21,
   "metadata": {},
   "outputs": [],
   "source": [
    "# data_main.to_csv(\"../data/main_no_marked.csv\")"
   ]
  },
  {
   "cell_type": "code",
   "execution_count": 22,
   "metadata": {},
   "outputs": [],
   "source": [
    "db_from_to = pd.read_csv(\"../data/DB_main_with_SG_for_EDA.csv\", sep=';')"
   ]
  },
  {
   "cell_type": "code",
   "execution_count": 23,
   "metadata": {},
   "outputs": [],
   "source": [
    "db_from_to.CIF_init = db_from_to.CIF_init.map(lambda name: name.replace(\"(\", \"\").replace(\")\", \"\").replace(\" \", \"\").replace(\".cif\", \"\"))\n",
    "db_from_to.CIF_final = db_from_to.CIF_final.map(lambda name: name.replace(\"(\", \"\").replace(\")\", \"\").replace(\" \", \"\").replace(\".cif\", \"\"))\n"
   ]
  },
  {
   "cell_type": "code",
   "execution_count": 24,
   "metadata": {},
   "outputs": [],
   "source": [
    "marked = pd.DataFrame(columns=[\"target\"])\n",
    "\n",
    "for ind in db_from_to.index:\n",
    "    if db_from_to.loc[ind, \"Stimuli\"].find(\"solvent\") != -1:\n",
    "        marked.loc[db_from_to.loc[ind, \"CIF_init\"]] = [1]\n",
    "        if db_from_to.loc[ind, \"Reversible\"] == \"yes\":\n",
    "            marked.loc[db_from_to.loc[ind, \"CIF_final\"]] = [1]\n",
    "        else:\n",
    "            marked.loc[db_from_to.loc[ind, \"CIF_final\"]] = [0]\n",
    "    else:\n",
    "        marked.loc[db_from_to.loc[ind, \"CIF_init\"]] = [0]\n",
    "        marked.loc[db_from_to.loc[ind, \"CIF_final\"]] = [0]"
   ]
  },
  {
   "cell_type": "code",
   "execution_count": 25,
   "metadata": {},
   "outputs": [],
   "source": [
    "from pteproc_model import PreprocessingModel\n",
    "model = joblib.load(\"../qmof_datasets/scaler.pkl\")"
   ]
  },
  {
   "cell_type": "code",
   "execution_count": 26,
   "metadata": {},
   "outputs": [
    {
     "data": {
      "text/plain": [
       "(138, 1844)"
      ]
     },
     "execution_count": 26,
     "metadata": {},
     "output_type": "execute_result"
    }
   ],
   "source": [
    "data_main.shape"
   ]
  },
  {
   "cell_type": "code",
   "execution_count": 27,
   "metadata": {},
   "outputs": [],
   "source": [
    "main_dataset = data_main[model.cols]"
   ]
  },
  {
   "cell_type": "code",
   "execution_count": 28,
   "metadata": {},
   "outputs": [],
   "source": [
    "marked_dataset = pd.concat([data_main, marked], axis=1)"
   ]
  },
  {
   "cell_type": "code",
   "execution_count": 29,
   "metadata": {},
   "outputs": [],
   "source": [
    "marked_dataset = marked_dataset.loc[list({*list(main_dataset.index)} & {*list(marked.index)})]"
   ]
  },
  {
   "cell_type": "code",
   "execution_count": 30,
   "metadata": {},
   "outputs": [
    {
     "data": {
      "text/plain": [
       "(102, 1845)"
      ]
     },
     "execution_count": 30,
     "metadata": {},
     "output_type": "execute_result"
    }
   ],
   "source": [
    "marked_dataset.shape"
   ]
  },
  {
   "cell_type": "code",
   "execution_count": 31,
   "metadata": {},
   "outputs": [
    {
     "name": "stdout",
     "output_type": "stream",
     "text": [
      "|  target  |  counts  |\n",
      "-----------------------\n",
      "|   yes    |    65    |\n",
      "|    no    |    37    |\n",
      "total count:102\n"
     ]
    }
   ],
   "source": [
    "target, counts = np.unique(marked_dataset.target, return_counts=True)\n",
    "\n",
    "\n",
    "print(f\"|{'target':^10}|{'counts':^10}|\")\n",
    "print(f\"{'-':-^23}\")\n",
    "print(f\"|{'yes':^10}|{counts[0]:^10}|\")\n",
    "print(f\"|{'no':^10}|{counts[1]:^10}|\")\n",
    "print(f\"total count:{marked_dataset.__len__()}\")"
   ]
  },
  {
   "cell_type": "code",
   "execution_count": 32,
   "metadata": {},
   "outputs": [
    {
     "data": {
      "text/plain": [
       "(102, 1845)"
      ]
     },
     "execution_count": 32,
     "metadata": {},
     "output_type": "execute_result"
    }
   ],
   "source": [
    "marked_dataset.shape"
   ]
  },
  {
   "cell_type": "code",
   "execution_count": 33,
   "metadata": {},
   "outputs": [],
   "source": [
    "x, y = model.transform(marked_dataset.drop(['target'], axis=1)), marked_dataset['target']"
   ]
  },
  {
   "cell_type": "code",
   "execution_count": 34,
   "metadata": {},
   "outputs": [
    {
     "data": {
      "text/plain": [
       "((102, 1158), (102, 1158))"
      ]
     },
     "execution_count": 34,
     "metadata": {},
     "output_type": "execute_result"
    }
   ],
   "source": [
    "x.shape, x.dropna().shape"
   ]
  },
  {
   "cell_type": "code",
   "execution_count": 35,
   "metadata": {},
   "outputs": [
    {
     "data": {
      "text/html": [
       "<div>\n",
       "<style scoped>\n",
       "    .dataframe tbody tr th:only-of-type {\n",
       "        vertical-align: middle;\n",
       "    }\n",
       "\n",
       "    .dataframe tbody tr th {\n",
       "        vertical-align: top;\n",
       "    }\n",
       "\n",
       "    .dataframe thead th {\n",
       "        text-align: right;\n",
       "    }\n",
       "</style>\n",
       "<table border=\"1\" class=\"dataframe\">\n",
       "  <thead>\n",
       "    <tr style=\"text-align: right;\">\n",
       "      <th></th>\n",
       "      <th>pld</th>\n",
       "      <th>lcd</th>\n",
       "      <th>a</th>\n",
       "      <th>b</th>\n",
       "      <th>c</th>\n",
       "      <th>alpha</th>\n",
       "      <th>beta</th>\n",
       "      <th>gamma</th>\n",
       "      <th>volume</th>\n",
       "      <th>spacegroupNumber</th>\n",
       "      <th>...</th>\n",
       "      <th>Zagreb2</th>\n",
       "      <th>mZagreb1</th>\n",
       "      <th>mZagreb2</th>\n",
       "      <th>n_metals</th>\n",
       "      <th>Atomic_Number</th>\n",
       "      <th>Atomic_Weight</th>\n",
       "      <th>Atomic Radius</th>\n",
       "      <th>Mulliken EN</th>\n",
       "      <th>polarizability(A^3)</th>\n",
       "      <th>electron affinity(kJ/mol)</th>\n",
       "    </tr>\n",
       "  </thead>\n",
       "  <tbody>\n",
       "    <tr>\n",
       "      <th>from31483716</th>\n",
       "      <td>0.085791</td>\n",
       "      <td>0.071084</td>\n",
       "      <td>0.071471</td>\n",
       "      <td>0.478036</td>\n",
       "      <td>0.287759</td>\n",
       "      <td>0.578143</td>\n",
       "      <td>0.526960</td>\n",
       "      <td>0.441638</td>\n",
       "      <td>0.045042</td>\n",
       "      <td>0.233480</td>\n",
       "      <td>...</td>\n",
       "      <td>0.094290</td>\n",
       "      <td>0.093381</td>\n",
       "      <td>0.105263</td>\n",
       "      <td>0.000000</td>\n",
       "      <td>0.292135</td>\n",
       "      <td>0.244950</td>\n",
       "      <td>0.150000</td>\n",
       "      <td>0.852234</td>\n",
       "      <td>0.023985</td>\n",
       "      <td>0.268085</td>\n",
       "    </tr>\n",
       "    <tr>\n",
       "      <th>fromMOF2fa1052168</th>\n",
       "      <td>0.145899</td>\n",
       "      <td>0.136053</td>\n",
       "      <td>0.290554</td>\n",
       "      <td>0.259259</td>\n",
       "      <td>0.138619</td>\n",
       "      <td>0.524217</td>\n",
       "      <td>0.201038</td>\n",
       "      <td>0.356215</td>\n",
       "      <td>0.040242</td>\n",
       "      <td>0.004405</td>\n",
       "      <td>...</td>\n",
       "      <td>0.124834</td>\n",
       "      <td>0.132758</td>\n",
       "      <td>0.112782</td>\n",
       "      <td>0.090909</td>\n",
       "      <td>0.269663</td>\n",
       "      <td>0.224989</td>\n",
       "      <td>0.188889</td>\n",
       "      <td>0.790378</td>\n",
       "      <td>0.038745</td>\n",
       "      <td>0.190071</td>\n",
       "    </tr>\n",
       "    <tr>\n",
       "      <th>toCCDC_2065040_JUK-20-nor</th>\n",
       "      <td>0.224280</td>\n",
       "      <td>0.227874</td>\n",
       "      <td>0.377709</td>\n",
       "      <td>0.377076</td>\n",
       "      <td>0.218935</td>\n",
       "      <td>0.631468</td>\n",
       "      <td>0.526960</td>\n",
       "      <td>0.441638</td>\n",
       "      <td>0.107066</td>\n",
       "      <td>0.052863</td>\n",
       "      <td>...</td>\n",
       "      <td>0.075033</td>\n",
       "      <td>0.061504</td>\n",
       "      <td>0.068922</td>\n",
       "      <td>0.000000</td>\n",
       "      <td>0.505618</td>\n",
       "      <td>0.456406</td>\n",
       "      <td>0.238889</td>\n",
       "      <td>0.800687</td>\n",
       "      <td>0.033210</td>\n",
       "      <td>0.000000</td>\n",
       "    </tr>\n",
       "    <tr>\n",
       "      <th>fromFebdp25C1058446</th>\n",
       "      <td>0.065594</td>\n",
       "      <td>0.047184</td>\n",
       "      <td>0.106673</td>\n",
       "      <td>0.067158</td>\n",
       "      <td>0.007664</td>\n",
       "      <td>0.595239</td>\n",
       "      <td>0.750304</td>\n",
       "      <td>0.441638</td>\n",
       "      <td>0.008816</td>\n",
       "      <td>0.061674</td>\n",
       "      <td>...</td>\n",
       "      <td>0.025232</td>\n",
       "      <td>0.000000</td>\n",
       "      <td>0.011278</td>\n",
       "      <td>0.000000</td>\n",
       "      <td>0.258427</td>\n",
       "      <td>0.211634</td>\n",
       "      <td>0.211111</td>\n",
       "      <td>0.707904</td>\n",
       "      <td>0.055351</td>\n",
       "      <td>0.120567</td>\n",
       "    </tr>\n",
       "    <tr>\n",
       "      <th>to3D854461</th>\n",
       "      <td>0.176924</td>\n",
       "      <td>0.181942</td>\n",
       "      <td>0.117070</td>\n",
       "      <td>0.693169</td>\n",
       "      <td>0.434415</td>\n",
       "      <td>0.578143</td>\n",
       "      <td>0.526960</td>\n",
       "      <td>0.441638</td>\n",
       "      <td>0.120914</td>\n",
       "      <td>0.074890</td>\n",
       "      <td>...</td>\n",
       "      <td>0.529880</td>\n",
       "      <td>0.459966</td>\n",
       "      <td>0.551378</td>\n",
       "      <td>0.090909</td>\n",
       "      <td>0.303371</td>\n",
       "      <td>0.252930</td>\n",
       "      <td>0.133333</td>\n",
       "      <td>0.841924</td>\n",
       "      <td>0.018450</td>\n",
       "      <td>0.014184</td>\n",
       "    </tr>\n",
       "    <tr>\n",
       "      <th>...</th>\n",
       "      <td>...</td>\n",
       "      <td>...</td>\n",
       "      <td>...</td>\n",
       "      <td>...</td>\n",
       "      <td>...</td>\n",
       "      <td>...</td>\n",
       "      <td>...</td>\n",
       "      <td>...</td>\n",
       "      <td>...</td>\n",
       "      <td>...</td>\n",
       "      <td>...</td>\n",
       "      <td>...</td>\n",
       "      <td>...</td>\n",
       "      <td>...</td>\n",
       "      <td>...</td>\n",
       "      <td>...</td>\n",
       "      <td>...</td>\n",
       "      <td>...</td>\n",
       "      <td>...</td>\n",
       "      <td>...</td>\n",
       "      <td>...</td>\n",
       "    </tr>\n",
       "    <tr>\n",
       "      <th>fromassynthesizedDUT-30Zn804770</th>\n",
       "      <td>0.179165</td>\n",
       "      <td>0.170028</td>\n",
       "      <td>0.189917</td>\n",
       "      <td>0.285933</td>\n",
       "      <td>0.156803</td>\n",
       "      <td>0.510829</td>\n",
       "      <td>0.258064</td>\n",
       "      <td>0.186620</td>\n",
       "      <td>0.033658</td>\n",
       "      <td>0.299559</td>\n",
       "      <td>...</td>\n",
       "      <td>0.282869</td>\n",
       "      <td>0.218264</td>\n",
       "      <td>0.268170</td>\n",
       "      <td>0.090909</td>\n",
       "      <td>0.303371</td>\n",
       "      <td>0.252930</td>\n",
       "      <td>0.133333</td>\n",
       "      <td>0.841924</td>\n",
       "      <td>0.018450</td>\n",
       "      <td>0.014184</td>\n",
       "    </tr>\n",
       "    <tr>\n",
       "      <th>from1withDMF1403842</th>\n",
       "      <td>0.109974</td>\n",
       "      <td>0.273373</td>\n",
       "      <td>0.473247</td>\n",
       "      <td>0.442781</td>\n",
       "      <td>0.263726</td>\n",
       "      <td>0.341554</td>\n",
       "      <td>0.206129</td>\n",
       "      <td>0.062258</td>\n",
       "      <td>0.141524</td>\n",
       "      <td>0.678414</td>\n",
       "      <td>...</td>\n",
       "      <td>0.151394</td>\n",
       "      <td>0.176261</td>\n",
       "      <td>0.155388</td>\n",
       "      <td>0.818182</td>\n",
       "      <td>0.303371</td>\n",
       "      <td>0.252930</td>\n",
       "      <td>0.133333</td>\n",
       "      <td>0.841924</td>\n",
       "      <td>0.018450</td>\n",
       "      <td>0.014184</td>\n",
       "    </tr>\n",
       "    <tr>\n",
       "      <th>to5cm6b05277_si_004</th>\n",
       "      <td>0.072625</td>\n",
       "      <td>0.061039</td>\n",
       "      <td>0.238585</td>\n",
       "      <td>0.375420</td>\n",
       "      <td>0.217806</td>\n",
       "      <td>0.899960</td>\n",
       "      <td>0.526960</td>\n",
       "      <td>0.441638</td>\n",
       "      <td>0.052769</td>\n",
       "      <td>0.845815</td>\n",
       "      <td>...</td>\n",
       "      <td>0.095618</td>\n",
       "      <td>0.103131</td>\n",
       "      <td>0.092732</td>\n",
       "      <td>0.000000</td>\n",
       "      <td>0.280899</td>\n",
       "      <td>0.223951</td>\n",
       "      <td>0.172222</td>\n",
       "      <td>0.824742</td>\n",
       "      <td>0.025830</td>\n",
       "      <td>0.258156</td>\n",
       "    </tr>\n",
       "    <tr>\n",
       "      <th>toDMFsolvatedFebdp298K1058448</th>\n",
       "      <td>0.308066</td>\n",
       "      <td>0.270376</td>\n",
       "      <td>0.304245</td>\n",
       "      <td>0.268205</td>\n",
       "      <td>0.144718</td>\n",
       "      <td>0.578143</td>\n",
       "      <td>0.526960</td>\n",
       "      <td>0.559041</td>\n",
       "      <td>0.047179</td>\n",
       "      <td>0.083700</td>\n",
       "      <td>...</td>\n",
       "      <td>0.128818</td>\n",
       "      <td>0.059254</td>\n",
       "      <td>0.115288</td>\n",
       "      <td>0.000000</td>\n",
       "      <td>0.258427</td>\n",
       "      <td>0.211634</td>\n",
       "      <td>0.211111</td>\n",
       "      <td>0.707904</td>\n",
       "      <td>0.055351</td>\n",
       "      <td>0.120567</td>\n",
       "    </tr>\n",
       "    <tr>\n",
       "      <th>toDUT-49Cd100K2014972</th>\n",
       "      <td>0.359271</td>\n",
       "      <td>0.620280</td>\n",
       "      <td>1.295803</td>\n",
       "      <td>1.292465</td>\n",
       "      <td>0.842953</td>\n",
       "      <td>0.578143</td>\n",
       "      <td>0.526960</td>\n",
       "      <td>0.441638</td>\n",
       "      <td>1.998402</td>\n",
       "      <td>0.898678</td>\n",
       "      <td>...</td>\n",
       "      <td>0.467463</td>\n",
       "      <td>0.383274</td>\n",
       "      <td>0.431078</td>\n",
       "      <td>0.090909</td>\n",
       "      <td>0.505618</td>\n",
       "      <td>0.456406</td>\n",
       "      <td>0.238889</td>\n",
       "      <td>0.800687</td>\n",
       "      <td>0.033210</td>\n",
       "      <td>0.000000</td>\n",
       "    </tr>\n",
       "  </tbody>\n",
       "</table>\n",
       "<p>102 rows × 1158 columns</p>\n",
       "</div>"
      ],
      "text/plain": [
       "                                      pld       lcd         a         b  \\\n",
       "from31483716                     0.085791  0.071084  0.071471  0.478036   \n",
       "fromMOF2fa1052168                0.145899  0.136053  0.290554  0.259259   \n",
       "toCCDC_2065040_JUK-20-nor        0.224280  0.227874  0.377709  0.377076   \n",
       "fromFebdp25C1058446              0.065594  0.047184  0.106673  0.067158   \n",
       "to3D854461                       0.176924  0.181942  0.117070  0.693169   \n",
       "...                                   ...       ...       ...       ...   \n",
       "fromassynthesizedDUT-30Zn804770  0.179165  0.170028  0.189917  0.285933   \n",
       "from1withDMF1403842              0.109974  0.273373  0.473247  0.442781   \n",
       "to5cm6b05277_si_004              0.072625  0.061039  0.238585  0.375420   \n",
       "toDMFsolvatedFebdp298K1058448    0.308066  0.270376  0.304245  0.268205   \n",
       "toDUT-49Cd100K2014972            0.359271  0.620280  1.295803  1.292465   \n",
       "\n",
       "                                        c     alpha      beta     gamma  \\\n",
       "from31483716                     0.287759  0.578143  0.526960  0.441638   \n",
       "fromMOF2fa1052168                0.138619  0.524217  0.201038  0.356215   \n",
       "toCCDC_2065040_JUK-20-nor        0.218935  0.631468  0.526960  0.441638   \n",
       "fromFebdp25C1058446              0.007664  0.595239  0.750304  0.441638   \n",
       "to3D854461                       0.434415  0.578143  0.526960  0.441638   \n",
       "...                                   ...       ...       ...       ...   \n",
       "fromassynthesizedDUT-30Zn804770  0.156803  0.510829  0.258064  0.186620   \n",
       "from1withDMF1403842              0.263726  0.341554  0.206129  0.062258   \n",
       "to5cm6b05277_si_004              0.217806  0.899960  0.526960  0.441638   \n",
       "toDMFsolvatedFebdp298K1058448    0.144718  0.578143  0.526960  0.559041   \n",
       "toDUT-49Cd100K2014972            0.842953  0.578143  0.526960  0.441638   \n",
       "\n",
       "                                   volume  spacegroupNumber  ...   Zagreb2  \\\n",
       "from31483716                     0.045042          0.233480  ...  0.094290   \n",
       "fromMOF2fa1052168                0.040242          0.004405  ...  0.124834   \n",
       "toCCDC_2065040_JUK-20-nor        0.107066          0.052863  ...  0.075033   \n",
       "fromFebdp25C1058446              0.008816          0.061674  ...  0.025232   \n",
       "to3D854461                       0.120914          0.074890  ...  0.529880   \n",
       "...                                   ...               ...  ...       ...   \n",
       "fromassynthesizedDUT-30Zn804770  0.033658          0.299559  ...  0.282869   \n",
       "from1withDMF1403842              0.141524          0.678414  ...  0.151394   \n",
       "to5cm6b05277_si_004              0.052769          0.845815  ...  0.095618   \n",
       "toDMFsolvatedFebdp298K1058448    0.047179          0.083700  ...  0.128818   \n",
       "toDUT-49Cd100K2014972            1.998402          0.898678  ...  0.467463   \n",
       "\n",
       "                                 mZagreb1  mZagreb2  n_metals  Atomic_Number  \\\n",
       "from31483716                     0.093381  0.105263  0.000000       0.292135   \n",
       "fromMOF2fa1052168                0.132758  0.112782  0.090909       0.269663   \n",
       "toCCDC_2065040_JUK-20-nor        0.061504  0.068922  0.000000       0.505618   \n",
       "fromFebdp25C1058446              0.000000  0.011278  0.000000       0.258427   \n",
       "to3D854461                       0.459966  0.551378  0.090909       0.303371   \n",
       "...                                   ...       ...       ...            ...   \n",
       "fromassynthesizedDUT-30Zn804770  0.218264  0.268170  0.090909       0.303371   \n",
       "from1withDMF1403842              0.176261  0.155388  0.818182       0.303371   \n",
       "to5cm6b05277_si_004              0.103131  0.092732  0.000000       0.280899   \n",
       "toDMFsolvatedFebdp298K1058448    0.059254  0.115288  0.000000       0.258427   \n",
       "toDUT-49Cd100K2014972            0.383274  0.431078  0.090909       0.505618   \n",
       "\n",
       "                                 Atomic_Weight  Atomic Radius  Mulliken EN  \\\n",
       "from31483716                          0.244950       0.150000     0.852234   \n",
       "fromMOF2fa1052168                     0.224989       0.188889     0.790378   \n",
       "toCCDC_2065040_JUK-20-nor             0.456406       0.238889     0.800687   \n",
       "fromFebdp25C1058446                   0.211634       0.211111     0.707904   \n",
       "to3D854461                            0.252930       0.133333     0.841924   \n",
       "...                                        ...            ...          ...   \n",
       "fromassynthesizedDUT-30Zn804770       0.252930       0.133333     0.841924   \n",
       "from1withDMF1403842                   0.252930       0.133333     0.841924   \n",
       "to5cm6b05277_si_004                   0.223951       0.172222     0.824742   \n",
       "toDMFsolvatedFebdp298K1058448         0.211634       0.211111     0.707904   \n",
       "toDUT-49Cd100K2014972                 0.456406       0.238889     0.800687   \n",
       "\n",
       "                                 polarizability(A^3)  \\\n",
       "from31483716                                0.023985   \n",
       "fromMOF2fa1052168                           0.038745   \n",
       "toCCDC_2065040_JUK-20-nor                   0.033210   \n",
       "fromFebdp25C1058446                         0.055351   \n",
       "to3D854461                                  0.018450   \n",
       "...                                              ...   \n",
       "fromassynthesizedDUT-30Zn804770             0.018450   \n",
       "from1withDMF1403842                         0.018450   \n",
       "to5cm6b05277_si_004                         0.025830   \n",
       "toDMFsolvatedFebdp298K1058448               0.055351   \n",
       "toDUT-49Cd100K2014972                       0.033210   \n",
       "\n",
       "                                 electron affinity(kJ/mol)  \n",
       "from31483716                                      0.268085  \n",
       "fromMOF2fa1052168                                 0.190071  \n",
       "toCCDC_2065040_JUK-20-nor                         0.000000  \n",
       "fromFebdp25C1058446                               0.120567  \n",
       "to3D854461                                        0.014184  \n",
       "...                                                    ...  \n",
       "fromassynthesizedDUT-30Zn804770                   0.014184  \n",
       "from1withDMF1403842                               0.014184  \n",
       "to5cm6b05277_si_004                               0.258156  \n",
       "toDMFsolvatedFebdp298K1058448                     0.120567  \n",
       "toDUT-49Cd100K2014972                             0.000000  \n",
       "\n",
       "[102 rows x 1158 columns]"
      ]
     },
     "execution_count": 35,
     "metadata": {},
     "output_type": "execute_result"
    }
   ],
   "source": [
    "x"
   ]
  },
  {
   "cell_type": "code",
   "execution_count": 36,
   "metadata": {},
   "outputs": [],
   "source": [
    "x.to_csv(\"../main_datasets/dataset.csv\")"
   ]
  },
  {
   "cell_type": "code",
   "execution_count": 37,
   "metadata": {},
   "outputs": [],
   "source": [
    "y.to_csv(\"../main_datasets/target.csv\")"
   ]
  },
  {
   "cell_type": "code",
   "execution_count": null,
   "metadata": {},
   "outputs": [],
   "source": []
  }
 ],
 "metadata": {
  "kernelspec": {
   "display_name": "Python 3",
   "language": "python",
   "name": "python3"
  },
  "language_info": {
   "codemirror_mode": {
    "name": "ipython",
    "version": 3
   },
   "file_extension": ".py",
   "mimetype": "text/x-python",
   "name": "python",
   "nbconvert_exporter": "python",
   "pygments_lexer": "ipython3",
   "version": "3.10.11"
  }
 },
 "nbformat": 4,
 "nbformat_minor": 2
}
