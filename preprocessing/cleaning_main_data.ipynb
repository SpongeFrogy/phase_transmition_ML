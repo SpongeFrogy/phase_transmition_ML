{
 "cells": [
  {
   "cell_type": "code",
   "execution_count": 1,
   "metadata": {},
   "outputs": [],
   "source": [
    "import pandas as pd\n",
    "import numpy as np\n",
    "import joblib"
   ]
  },
  {
   "cell_type": "code",
   "execution_count": 2,
   "metadata": {},
   "outputs": [],
   "source": [
    "mofid = pd.read_csv(\"../data/main_dataset_mofid_data_V2.csv\", index_col=0)\n",
    "mofid = mofid[[\"smiles_linkers\", \"smiles_nodes\", \"cifname\"]].set_index(\"cifname\")\n",
    "mordred = pd.read_csv(\"../data/all_f_main_dataset_mordred_V2.csv\", index_col=0)\n",
    "zeo = pd.read_csv(\"../data/main_dataset_zeo_V2.csv\", index_col=0)\n",
    "cif = pd.read_csv(\"../data/main_dataset_cif_property_V2.csv\", index_col=0)\n",
    "\n"
   ]
  },
  {
   "cell_type": "code",
   "execution_count": 3,
   "metadata": {},
   "outputs": [
    {
     "data": {
      "text/plain": [
       "((151, 1826), (162, 3), (165, 8))"
      ]
     },
     "execution_count": 3,
     "metadata": {},
     "output_type": "execute_result"
    }
   ],
   "source": [
    "mordred.shape, zeo.shape, cif.shape"
   ]
  },
  {
   "cell_type": "code",
   "execution_count": 4,
   "metadata": {},
   "outputs": [],
   "source": [
    "def make_mordred():\n",
    "    from mordred import Calculator, descriptors\n",
    "    from rdkit import Chem\n",
    "    mofid = pd.read_csv(\"../data/main_dataset_mofid_data_V2.csv\", index_col=0)\n",
    "    mofid = mofid[[\"smiles_linkers\", \"smiles_nodes\", \"cifname\"]].set_index(\"cifname\")\n",
    "    linkers = [mofid.smiles_linkers[i].replace(\"'\", \"\")[1:-1].split(\", \") for i in range(mofid.__len__())]\n",
    "    mols = [[Chem.MolFromSmiles(smi) for smi in smi_list] for smi_list in linkers]\n",
    "    calc = Calculator(descriptors, ignore_3D=False)\n",
    "    def f(mof):\n",
    "        try: return calc.pandas(mof)\n",
    "        except TypeError:\n",
    "            return None\n",
    "    dfs = [f(mof) for mof in mols]\n",
    "    data_mordred = pd.DataFrame(columns=dfs[0].columns)\n",
    "\n",
    "    for i, filename in enumerate(mofid.index):\n",
    "        try:\n",
    "            if linkers[i] != [\"\"]:\n",
    "                data_mordred.loc[filename] = dfs[i].mean()\n",
    "        except AttributeError:\n",
    "            print(f\"{filename:_^20}\")\n",
    "    data_mordred = data_mordred.set_index(data_mordred.index.map(lambda name: name.replace(\" \", \"\")))\n",
    "    #data_mordred.to_csv(\"../data/all_f_main_dataset_mordred_V2.csv\")\n",
    "    return data_mordred\n",
    "\n"
   ]
  },
  {
   "cell_type": "code",
   "execution_count": 5,
   "metadata": {},
   "outputs": [],
   "source": [
    "def metal_from_node(node: str):\n",
    "    import re\n",
    "    \"\"\"\n",
    "    input: smilesNodes: str\n",
    "    return: \n",
    "    'metals' in node: list\n",
    "    'unique' types of metals: np.array, dtype='<U2'\n",
    "    'count' of unique: np.array, dtype=int\n",
    "    \"\"\"\n",
    "    # \"O[Zr]123(O)[OH]4[Zr]56([O]3[Zr]37([OH]2[Zr]28([O]1[Zr]14([O]6[Zr]([OH]53)([OH]21)([O]78)(O)O)([OH2])([OH2])O)[OH2])([OH2])([OH2])O)[OH2]\"\n",
    "    node = node.replace(\"OH\", \"\").replace(\"O\", \"\")\n",
    "    node = node.replace(\"[\", \"\").replace(\"]\", \"\").replace(\")\", \"\").replace(\"(\", \"\").replace(\",\", \"\")\n",
    "    node = re.sub(r\"\\d\", \"\", node) # replace numbers\n",
    "    #print(node)\n",
    "    # \"ZrZrZrZrZrZr\"\n",
    "    start_cut = 0\n",
    "    metals = []\n",
    "    for i, char in enumerate(node[1:]):\n",
    "        if not char.islower():\n",
    "            metals.append(node[start_cut:i+1])\n",
    "            start_cut = i+1\n",
    "    metals.append(node[start_cut:])\n",
    "    unique, counts = np.unique(np.array(metals), return_counts=True)\n",
    "    return metals, unique, counts"
   ]
  },
  {
   "cell_type": "code",
   "execution_count": 6,
   "metadata": {},
   "outputs": [],
   "source": [
    "elemental_descriptors = pd.read_csv(\"../data/elemental_descriptors.csv\")"
   ]
  },
  {
   "cell_type": "code",
   "execution_count": 7,
   "metadata": {},
   "outputs": [
    {
     "name": "stdout",
     "output_type": "stream",
     "text": [
      "Error with []\n",
      "Error with []\n",
      "Error with []\n",
      "Error with []\n",
      "Error with ['*']\n",
      "Error with ['*']\n",
      "Error with []\n",
      "Error with []\n",
      "Error with ['*']\n",
      "Error with ['*']\n",
      "Error with ['*']\n",
      "Error with ['*']\n",
      "Error with ['*']\n",
      "Error with ['*']\n",
      "Error with ['*']\n"
     ]
    }
   ],
   "source": [
    "node_descriptors = pd.DataFrame(columns=(\"n_metals\", 'n_types_metals', 'Atomic_Number', 'Atomic_Weight', 'Atomic Radius',\n",
    "       'Mulliken EN', 'polarizability(A^3)', 'electron affinity(kJ/mol)'))\n",
    "\n",
    "d = ['Atomic_Number', 'Atomic_Weight', 'Atomic Radius',\n",
    "       'Mulliken EN', 'polarizability(A^3)', 'electron affinity(kJ/mol)']\n",
    "\n",
    "for filename, node in zip(mofid.index.map(lambda name: name.replace(\" \", \"\").replace(\".cif\", \"\")), mofid[\"smiles_nodes\"]):\n",
    "    try:\n",
    "       metals, unique, count = metal_from_node(node.replace(\"'\", \"\").replace(\" \", \"\").replace(\"%\", \"\"))\n",
    "       #print(metals)\n",
    "       n_metals = count.sum()\n",
    "       n_metals_types = count.__len__()\n",
    "       df = pd.DataFrame(columns=d, index=[range(count.sum())])\n",
    "       for metal in metals:\n",
    "          #print(metal)\n",
    "          df.loc[len(df)] = elemental_descriptors.loc[elemental_descriptors[\"Symbol\"] == metal].loc[:,d].iloc[0]\n",
    "       node_descriptors.loc[filename] = n_metals, n_metals_types, *df.mean().array\n",
    "    except IndexError:\n",
    "       print(f\"Error with {node}\")"
   ]
  },
  {
   "cell_type": "code",
   "execution_count": 8,
   "metadata": {},
   "outputs": [],
   "source": [
    "node_descriptors = node_descriptors.loc[node_descriptors[\"n_types_metals\"] == 1.]\n"
   ]
  },
  {
   "cell_type": "code",
   "execution_count": 9,
   "metadata": {},
   "outputs": [],
   "source": [
    "zeo.index = zeo.index.map(lambda s: s.replace(\".res\", \"\"))"
   ]
  },
  {
   "cell_type": "code",
   "execution_count": 10,
   "metadata": {},
   "outputs": [],
   "source": [
    "data_pld_lcd = zeo[[\"num1\", \"num2\"]].rename({\"num1\": \"lcd\", \"num2\": \"pld\"}, axis=1)"
   ]
  },
  {
   "cell_type": "code",
   "execution_count": 11,
   "metadata": {},
   "outputs": [],
   "source": [
    "cif = cif.rename({ \"sg_number\": \"spacegroupNumber\"}, axis=1)"
   ]
  },
  {
   "cell_type": "code",
   "execution_count": 12,
   "metadata": {},
   "outputs": [],
   "source": [
    "cif.index = cif.index.map(lambda name: name.replace(\" \", \"\").replace(\".cif\", \"\"))"
   ]
  },
  {
   "cell_type": "code",
   "execution_count": 13,
   "metadata": {},
   "outputs": [],
   "source": [
    "cif = cif.set_index(cif.index.map(lambda name: name.replace(\"(\", \"\").replace(\")\", \"\")))"
   ]
  },
  {
   "cell_type": "code",
   "execution_count": 14,
   "metadata": {},
   "outputs": [],
   "source": [
    "node_descriptors = node_descriptors.set_index(node_descriptors.index.map(lambda name: name.replace(\"(\", \"\").replace(\")\", \"\")))"
   ]
  },
  {
   "cell_type": "code",
   "execution_count": 15,
   "metadata": {},
   "outputs": [],
   "source": [
    "data_pld_lcd = data_pld_lcd.set_index(data_pld_lcd.index.map(lambda name: name.replace(\"(\", \"\").replace(\")\", \"\")))"
   ]
  },
  {
   "cell_type": "code",
   "execution_count": 16,
   "metadata": {},
   "outputs": [],
   "source": [
    "mordred = mordred.set_index(mordred.index.map(lambda name: name.replace(\"(\", \"\").replace(\")\", \"\")))"
   ]
  },
  {
   "cell_type": "code",
   "execution_count": 17,
   "metadata": {},
   "outputs": [
    {
     "data": {
      "text/plain": [
       "((162, 2), (165, 8), (151, 1826), (145, 8))"
      ]
     },
     "execution_count": 17,
     "metadata": {},
     "output_type": "execute_result"
    }
   ],
   "source": [
    "data_pld_lcd.shape, cif.shape, mordred.shape, node_descriptors.shape"
   ]
  },
  {
   "cell_type": "code",
   "execution_count": 18,
   "metadata": {},
   "outputs": [],
   "source": [
    "data_main = pd.concat([data_pld_lcd, cif, mordred, node_descriptors], axis=1)"
   ]
  },
  {
   "cell_type": "code",
   "execution_count": 19,
   "metadata": {},
   "outputs": [],
   "source": [
    "data_main = data_main.loc[list({*list(data_pld_lcd.index)} & {*list(\n",
    "    cif.index)} & {*list(mordred.index)} & {*list(node_descriptors.index)})]\n"
   ]
  },
  {
   "cell_type": "code",
   "execution_count": 20,
   "metadata": {},
   "outputs": [
    {
     "data": {
      "text/plain": [
       "(138, 1844)"
      ]
     },
     "execution_count": 20,
     "metadata": {},
     "output_type": "execute_result"
    }
   ],
   "source": [
    "data_main.shape"
   ]
  },
  {
   "cell_type": "code",
   "execution_count": 21,
   "metadata": {},
   "outputs": [],
   "source": [
    "# data_main.to_csv(\"../data/main_no_marked.csv\")"
   ]
  },
  {
   "cell_type": "code",
   "execution_count": 22,
   "metadata": {},
   "outputs": [],
   "source": [
    "db_from_to = pd.read_csv(\"../data/DB_main_with_SG_for_EDA.csv\", sep=';')"
   ]
  },
  {
   "cell_type": "code",
   "execution_count": 23,
   "metadata": {},
   "outputs": [],
   "source": [
    "db_from_to.CIF_init = db_from_to.CIF_init.map(lambda name: name.replace(\"(\", \"\").replace(\")\", \"\").replace(\" \", \"\").replace(\".cif\", \"\"))\n",
    "db_from_to.CIF_final = db_from_to.CIF_final.map(lambda name: name.replace(\"(\", \"\").replace(\")\", \"\").replace(\" \", \"\").replace(\".cif\", \"\"))\n"
   ]
  },
  {
   "cell_type": "code",
   "execution_count": 24,
   "metadata": {},
   "outputs": [],
   "source": [
    "marked = pd.DataFrame(columns=[\"target\"])\n",
    "\n",
    "for ind in db_from_to.index:\n",
    "    if db_from_to.loc[ind, \"Stimuli\"].find(\"solvent\") != -1:\n",
    "        marked.loc[db_from_to.loc[ind, \"CIF_init\"]] = [1]\n",
    "        if db_from_to.loc[ind, \"Reversible\"] == \"yes\":\n",
    "            marked.loc[db_from_to.loc[ind, \"CIF_final\"]] = [1]\n",
    "        else:\n",
    "            marked.loc[db_from_to.loc[ind, \"CIF_final\"]] = [0]\n",
    "    else:\n",
    "        marked.loc[db_from_to.loc[ind, \"CIF_init\"]] = [0]\n",
    "        marked.loc[db_from_to.loc[ind, \"CIF_final\"]] = [0]"
   ]
  },
  {
   "cell_type": "code",
   "execution_count": 25,
   "metadata": {},
   "outputs": [],
   "source": [
    "from pteproc_model import PreprocessingModel\n",
    "model = joblib.load(\"../qmof_datasets/normalizer/small_normalizer.pkl\")"
   ]
  },
  {
   "cell_type": "code",
   "execution_count": 26,
   "metadata": {},
   "outputs": [
    {
     "data": {
      "text/plain": [
       "(138, 1844)"
      ]
     },
     "execution_count": 26,
     "metadata": {},
     "output_type": "execute_result"
    }
   ],
   "source": [
    "data_main.shape"
   ]
  },
  {
   "cell_type": "code",
   "execution_count": 27,
   "metadata": {},
   "outputs": [],
   "source": [
    "main_dataset = data_main[model.cols]"
   ]
  },
  {
   "cell_type": "code",
   "execution_count": 28,
   "metadata": {},
   "outputs": [],
   "source": [
    "marked_dataset = pd.concat([data_main, marked], axis=1)"
   ]
  },
  {
   "cell_type": "code",
   "execution_count": 29,
   "metadata": {},
   "outputs": [],
   "source": [
    "marked_dataset = marked_dataset.loc[list({*list(main_dataset.index)} & {*list(marked.index)})]"
   ]
  },
  {
   "cell_type": "code",
   "execution_count": 30,
   "metadata": {},
   "outputs": [
    {
     "data": {
      "text/plain": [
       "(102, 1845)"
      ]
     },
     "execution_count": 30,
     "metadata": {},
     "output_type": "execute_result"
    }
   ],
   "source": [
    "marked_dataset.shape"
   ]
  },
  {
   "cell_type": "code",
   "execution_count": 31,
   "metadata": {},
   "outputs": [
    {
     "name": "stdout",
     "output_type": "stream",
     "text": [
      "|  target  |  counts  |\n",
      "-----------------------\n",
      "|   yes    |    65    |\n",
      "|    no    |    37    |\n",
      "total count:102\n"
     ]
    }
   ],
   "source": [
    "target, counts = np.unique(marked_dataset.target, return_counts=True)\n",
    "\n",
    "\n",
    "print(f\"|{'target':^10}|{'counts':^10}|\")\n",
    "print(f\"{'-':-^23}\")\n",
    "print(f\"|{'yes':^10}|{counts[0]:^10}|\")\n",
    "print(f\"|{'no':^10}|{counts[1]:^10}|\")\n",
    "print(f\"total count:{marked_dataset.__len__()}\")"
   ]
  },
  {
   "cell_type": "code",
   "execution_count": 32,
   "metadata": {},
   "outputs": [
    {
     "data": {
      "text/plain": [
       "(102, 1845)"
      ]
     },
     "execution_count": 32,
     "metadata": {},
     "output_type": "execute_result"
    }
   ],
   "source": [
    "marked_dataset.shape"
   ]
  },
  {
   "cell_type": "code",
   "execution_count": 33,
   "metadata": {},
   "outputs": [],
   "source": [
    "x, y = model.transform(marked_dataset.drop(['target'], axis=1)), marked_dataset['target']"
   ]
  },
  {
   "cell_type": "code",
   "execution_count": 34,
   "metadata": {},
   "outputs": [
    {
     "data": {
      "text/plain": [
       "((102, 990), (102, 990))"
      ]
     },
     "execution_count": 34,
     "metadata": {},
     "output_type": "execute_result"
    }
   ],
   "source": [
    "x.shape, x.dropna().shape"
   ]
  },
  {
   "cell_type": "code",
   "execution_count": 35,
   "metadata": {},
   "outputs": [
    {
     "data": {
      "text/html": [
       "<div>\n",
       "<style scoped>\n",
       "    .dataframe tbody tr th:only-of-type {\n",
       "        vertical-align: middle;\n",
       "    }\n",
       "\n",
       "    .dataframe tbody tr th {\n",
       "        vertical-align: top;\n",
       "    }\n",
       "\n",
       "    .dataframe thead th {\n",
       "        text-align: right;\n",
       "    }\n",
       "</style>\n",
       "<table border=\"1\" class=\"dataframe\">\n",
       "  <thead>\n",
       "    <tr style=\"text-align: right;\">\n",
       "      <th></th>\n",
       "      <th>pld</th>\n",
       "      <th>lcd</th>\n",
       "      <th>a</th>\n",
       "      <th>b</th>\n",
       "      <th>c</th>\n",
       "      <th>alpha</th>\n",
       "      <th>beta</th>\n",
       "      <th>gamma</th>\n",
       "      <th>volume</th>\n",
       "      <th>spacegroupNumber</th>\n",
       "      <th>...</th>\n",
       "      <th>Zagreb2</th>\n",
       "      <th>mZagreb1</th>\n",
       "      <th>mZagreb2</th>\n",
       "      <th>n_metals</th>\n",
       "      <th>Atomic_Number</th>\n",
       "      <th>Atomic_Weight</th>\n",
       "      <th>Atomic Radius</th>\n",
       "      <th>Mulliken EN</th>\n",
       "      <th>polarizability(A^3)</th>\n",
       "      <th>electron affinity(kJ/mol)</th>\n",
       "    </tr>\n",
       "  </thead>\n",
       "  <tbody>\n",
       "    <tr>\n",
       "      <th>tocompoundwithmethanol1403845</th>\n",
       "      <td>0.000038</td>\n",
       "      <td>0.000109</td>\n",
       "      <td>0.000422</td>\n",
       "      <td>0.000422</td>\n",
       "      <td>0.000422</td>\n",
       "      <td>0.001597</td>\n",
       "      <td>0.001597</td>\n",
       "      <td>0.001397</td>\n",
       "      <td>0.149036</td>\n",
       "      <td>0.003889</td>\n",
       "      <td>...</td>\n",
       "      <td>0.002678</td>\n",
       "      <td>0.000181</td>\n",
       "      <td>0.000103</td>\n",
       "      <td>0.000233</td>\n",
       "      <td>0.000699</td>\n",
       "      <td>0.001523</td>\n",
       "      <td>0.000033</td>\n",
       "      <td>0.000104</td>\n",
       "      <td>0.000149</td>\n",
       "      <td>-0.001397</td>\n",
       "    </tr>\n",
       "    <tr>\n",
       "      <th>toanie202202073-sup-0001-nku-128_thf</th>\n",
       "      <td>0.000062</td>\n",
       "      <td>0.000080</td>\n",
       "      <td>0.000176</td>\n",
       "      <td>0.000292</td>\n",
       "      <td>0.000292</td>\n",
       "      <td>0.001212</td>\n",
       "      <td>0.001145</td>\n",
       "      <td>0.001093</td>\n",
       "      <td>0.097999</td>\n",
       "      <td>0.000027</td>\n",
       "      <td>...</td>\n",
       "      <td>0.002401</td>\n",
       "      <td>0.000098</td>\n",
       "      <td>0.000086</td>\n",
       "      <td>0.000027</td>\n",
       "      <td>0.000405</td>\n",
       "      <td>0.000882</td>\n",
       "      <td>0.000019</td>\n",
       "      <td>0.000060</td>\n",
       "      <td>0.000086</td>\n",
       "      <td>-0.000809</td>\n",
       "    </tr>\n",
       "    <tr>\n",
       "      <th>toZn-1withDMF238859</th>\n",
       "      <td>0.000088</td>\n",
       "      <td>0.000224</td>\n",
       "      <td>0.000857</td>\n",
       "      <td>0.000857</td>\n",
       "      <td>0.000857</td>\n",
       "      <td>0.005719</td>\n",
       "      <td>0.006966</td>\n",
       "      <td>0.006966</td>\n",
       "      <td>0.130337</td>\n",
       "      <td>0.008357</td>\n",
       "      <td>...</td>\n",
       "      <td>0.003701</td>\n",
       "      <td>0.000325</td>\n",
       "      <td>0.000162</td>\n",
       "      <td>0.000119</td>\n",
       "      <td>0.001791</td>\n",
       "      <td>0.003903</td>\n",
       "      <td>0.000085</td>\n",
       "      <td>0.000266</td>\n",
       "      <td>0.000382</td>\n",
       "      <td>-0.003581</td>\n",
       "    </tr>\n",
       "    <tr>\n",
       "      <th>toDMFsolvatedFebdp298K1058448</th>\n",
       "      <td>0.000322</td>\n",
       "      <td>0.000335</td>\n",
       "      <td>0.000459</td>\n",
       "      <td>0.000459</td>\n",
       "      <td>0.000459</td>\n",
       "      <td>0.003078</td>\n",
       "      <td>0.003078</td>\n",
       "      <td>0.003396</td>\n",
       "      <td>0.084970</td>\n",
       "      <td>0.000684</td>\n",
       "      <td>...</td>\n",
       "      <td>0.003352</td>\n",
       "      <td>0.000118</td>\n",
       "      <td>0.000122</td>\n",
       "      <td>0.000034</td>\n",
       "      <td>0.000889</td>\n",
       "      <td>0.001910</td>\n",
       "      <td>0.000053</td>\n",
       "      <td>0.000139</td>\n",
       "      <td>0.000287</td>\n",
       "      <td>0.000513</td>\n",
       "    </tr>\n",
       "    <tr>\n",
       "      <th>toDUT-49Mn100K2014971</th>\n",
       "      <td>0.000066</td>\n",
       "      <td>0.000120</td>\n",
       "      <td>0.000266</td>\n",
       "      <td>0.000266</td>\n",
       "      <td>0.000266</td>\n",
       "      <td>0.000522</td>\n",
       "      <td>0.000522</td>\n",
       "      <td>0.000522</td>\n",
       "      <td>0.557339</td>\n",
       "      <td>0.001189</td>\n",
       "      <td>...</td>\n",
       "      <td>0.002048</td>\n",
       "      <td>0.000090</td>\n",
       "      <td>0.000061</td>\n",
       "      <td>0.000012</td>\n",
       "      <td>0.000145</td>\n",
       "      <td>0.000319</td>\n",
       "      <td>0.000009</td>\n",
       "      <td>0.000022</td>\n",
       "      <td>0.000055</td>\n",
       "      <td>-0.000290</td>\n",
       "    </tr>\n",
       "    <tr>\n",
       "      <th>...</th>\n",
       "      <td>...</td>\n",
       "      <td>...</td>\n",
       "      <td>...</td>\n",
       "      <td>...</td>\n",
       "      <td>...</td>\n",
       "      <td>...</td>\n",
       "      <td>...</td>\n",
       "      <td>...</td>\n",
       "      <td>...</td>\n",
       "      <td>...</td>\n",
       "      <td>...</td>\n",
       "      <td>...</td>\n",
       "      <td>...</td>\n",
       "      <td>...</td>\n",
       "      <td>...</td>\n",
       "      <td>...</td>\n",
       "      <td>...</td>\n",
       "      <td>...</td>\n",
       "      <td>...</td>\n",
       "      <td>...</td>\n",
       "      <td>...</td>\n",
       "    </tr>\n",
       "    <tr>\n",
       "      <th>1from61055570</th>\n",
       "      <td>0.000091</td>\n",
       "      <td>0.000150</td>\n",
       "      <td>0.000552</td>\n",
       "      <td>0.000576</td>\n",
       "      <td>0.000576</td>\n",
       "      <td>0.006004</td>\n",
       "      <td>0.006004</td>\n",
       "      <td>0.006161</td>\n",
       "      <td>0.096855</td>\n",
       "      <td>0.000934</td>\n",
       "      <td>...</td>\n",
       "      <td>0.004269</td>\n",
       "      <td>0.000182</td>\n",
       "      <td>0.000183</td>\n",
       "      <td>0.000067</td>\n",
       "      <td>0.001935</td>\n",
       "      <td>0.004239</td>\n",
       "      <td>0.000097</td>\n",
       "      <td>0.000299</td>\n",
       "      <td>0.000447</td>\n",
       "      <td>0.007938</td>\n",
       "    </tr>\n",
       "    <tr>\n",
       "      <th>toCCDC_2065041_JUK-20-noh</th>\n",
       "      <td>0.000176</td>\n",
       "      <td>0.000209</td>\n",
       "      <td>0.000387</td>\n",
       "      <td>0.000399</td>\n",
       "      <td>0.000399</td>\n",
       "      <td>0.002301</td>\n",
       "      <td>0.002200</td>\n",
       "      <td>0.002200</td>\n",
       "      <td>0.130362</td>\n",
       "      <td>0.000318</td>\n",
       "      <td>...</td>\n",
       "      <td>0.002200</td>\n",
       "      <td>0.000098</td>\n",
       "      <td>0.000079</td>\n",
       "      <td>0.000024</td>\n",
       "      <td>0.001173</td>\n",
       "      <td>0.002748</td>\n",
       "      <td>0.000039</td>\n",
       "      <td>0.000106</td>\n",
       "      <td>0.000176</td>\n",
       "      <td>-0.001711</td>\n",
       "    </tr>\n",
       "    <tr>\n",
       "      <th>initialMOFDMF@DUT-8Ni1989709</th>\n",
       "      <td>0.000345</td>\n",
       "      <td>0.000387</td>\n",
       "      <td>0.000335</td>\n",
       "      <td>0.000657</td>\n",
       "      <td>0.000657</td>\n",
       "      <td>0.003208</td>\n",
       "      <td>0.003208</td>\n",
       "      <td>0.003208</td>\n",
       "      <td>0.113662</td>\n",
       "      <td>0.004598</td>\n",
       "      <td>...</td>\n",
       "      <td>0.003386</td>\n",
       "      <td>0.000220</td>\n",
       "      <td>0.000125</td>\n",
       "      <td>0.000071</td>\n",
       "      <td>0.000998</td>\n",
       "      <td>0.002092</td>\n",
       "      <td>0.000053</td>\n",
       "      <td>0.000157</td>\n",
       "      <td>0.000242</td>\n",
       "      <td>0.003992</td>\n",
       "    </tr>\n",
       "    <tr>\n",
       "      <th>fromHIMS-741884101</th>\n",
       "      <td>0.000059</td>\n",
       "      <td>0.000132</td>\n",
       "      <td>0.000713</td>\n",
       "      <td>0.000804</td>\n",
       "      <td>0.000804</td>\n",
       "      <td>0.004571</td>\n",
       "      <td>0.004571</td>\n",
       "      <td>0.005760</td>\n",
       "      <td>0.244822</td>\n",
       "      <td>0.000711</td>\n",
       "      <td>...</td>\n",
       "      <td>0.003962</td>\n",
       "      <td>0.000364</td>\n",
       "      <td>0.000158</td>\n",
       "      <td>0.000051</td>\n",
       "      <td>0.001524</td>\n",
       "      <td>0.003321</td>\n",
       "      <td>0.000072</td>\n",
       "      <td>0.000226</td>\n",
       "      <td>0.000325</td>\n",
       "      <td>-0.003048</td>\n",
       "    </tr>\n",
       "    <tr>\n",
       "      <th>fromFebdp25C1058446</th>\n",
       "      <td>0.000494</td>\n",
       "      <td>0.000589</td>\n",
       "      <td>0.001519</td>\n",
       "      <td>0.001541</td>\n",
       "      <td>0.001541</td>\n",
       "      <td>0.020205</td>\n",
       "      <td>0.023240</td>\n",
       "      <td>0.019853</td>\n",
       "      <td>0.133056</td>\n",
       "      <td>0.003309</td>\n",
       "      <td>...</td>\n",
       "      <td>0.004412</td>\n",
       "      <td>0.000276</td>\n",
       "      <td>0.000276</td>\n",
       "      <td>0.000221</td>\n",
       "      <td>0.005735</td>\n",
       "      <td>0.012319</td>\n",
       "      <td>0.000344</td>\n",
       "      <td>0.000896</td>\n",
       "      <td>0.001853</td>\n",
       "      <td>0.003309</td>\n",
       "    </tr>\n",
       "  </tbody>\n",
       "</table>\n",
       "<p>102 rows × 990 columns</p>\n",
       "</div>"
      ],
      "text/plain": [
       "                                           pld       lcd         a         b  \\\n",
       "tocompoundwithmethanol1403845         0.000038  0.000109  0.000422  0.000422   \n",
       "toanie202202073-sup-0001-nku-128_thf  0.000062  0.000080  0.000176  0.000292   \n",
       "toZn-1withDMF238859                   0.000088  0.000224  0.000857  0.000857   \n",
       "toDMFsolvatedFebdp298K1058448         0.000322  0.000335  0.000459  0.000459   \n",
       "toDUT-49Mn100K2014971                 0.000066  0.000120  0.000266  0.000266   \n",
       "...                                        ...       ...       ...       ...   \n",
       "1from61055570                         0.000091  0.000150  0.000552  0.000576   \n",
       "toCCDC_2065041_JUK-20-noh             0.000176  0.000209  0.000387  0.000399   \n",
       "initialMOFDMF@DUT-8Ni1989709          0.000345  0.000387  0.000335  0.000657   \n",
       "fromHIMS-741884101                    0.000059  0.000132  0.000713  0.000804   \n",
       "fromFebdp25C1058446                   0.000494  0.000589  0.001519  0.001541   \n",
       "\n",
       "                                             c     alpha      beta     gamma  \\\n",
       "tocompoundwithmethanol1403845         0.000422  0.001597  0.001597  0.001397   \n",
       "toanie202202073-sup-0001-nku-128_thf  0.000292  0.001212  0.001145  0.001093   \n",
       "toZn-1withDMF238859                   0.000857  0.005719  0.006966  0.006966   \n",
       "toDMFsolvatedFebdp298K1058448         0.000459  0.003078  0.003078  0.003396   \n",
       "toDUT-49Mn100K2014971                 0.000266  0.000522  0.000522  0.000522   \n",
       "...                                        ...       ...       ...       ...   \n",
       "1from61055570                         0.000576  0.006004  0.006004  0.006161   \n",
       "toCCDC_2065041_JUK-20-noh             0.000399  0.002301  0.002200  0.002200   \n",
       "initialMOFDMF@DUT-8Ni1989709          0.000657  0.003208  0.003208  0.003208   \n",
       "fromHIMS-741884101                    0.000804  0.004571  0.004571  0.005760   \n",
       "fromFebdp25C1058446                   0.001541  0.020205  0.023240  0.019853   \n",
       "\n",
       "                                        volume  spacegroupNumber  ...  \\\n",
       "tocompoundwithmethanol1403845         0.149036          0.003889  ...   \n",
       "toanie202202073-sup-0001-nku-128_thf  0.097999          0.000027  ...   \n",
       "toZn-1withDMF238859                   0.130337          0.008357  ...   \n",
       "toDMFsolvatedFebdp298K1058448         0.084970          0.000684  ...   \n",
       "toDUT-49Mn100K2014971                 0.557339          0.001189  ...   \n",
       "...                                        ...               ...  ...   \n",
       "1from61055570                         0.096855          0.000934  ...   \n",
       "toCCDC_2065041_JUK-20-noh             0.130362          0.000318  ...   \n",
       "initialMOFDMF@DUT-8Ni1989709          0.113662          0.004598  ...   \n",
       "fromHIMS-741884101                    0.244822          0.000711  ...   \n",
       "fromFebdp25C1058446                   0.133056          0.003309  ...   \n",
       "\n",
       "                                       Zagreb2  mZagreb1  mZagreb2  n_metals  \\\n",
       "tocompoundwithmethanol1403845         0.002678  0.000181  0.000103  0.000233   \n",
       "toanie202202073-sup-0001-nku-128_thf  0.002401  0.000098  0.000086  0.000027   \n",
       "toZn-1withDMF238859                   0.003701  0.000325  0.000162  0.000119   \n",
       "toDMFsolvatedFebdp298K1058448         0.003352  0.000118  0.000122  0.000034   \n",
       "toDUT-49Mn100K2014971                 0.002048  0.000090  0.000061  0.000012   \n",
       "...                                        ...       ...       ...       ...   \n",
       "1from61055570                         0.004269  0.000182  0.000183  0.000067   \n",
       "toCCDC_2065041_JUK-20-noh             0.002200  0.000098  0.000079  0.000024   \n",
       "initialMOFDMF@DUT-8Ni1989709          0.003386  0.000220  0.000125  0.000071   \n",
       "fromHIMS-741884101                    0.003962  0.000364  0.000158  0.000051   \n",
       "fromFebdp25C1058446                   0.004412  0.000276  0.000276  0.000221   \n",
       "\n",
       "                                      Atomic_Number  Atomic_Weight  \\\n",
       "tocompoundwithmethanol1403845              0.000699       0.001523   \n",
       "toanie202202073-sup-0001-nku-128_thf       0.000405       0.000882   \n",
       "toZn-1withDMF238859                        0.001791       0.003903   \n",
       "toDMFsolvatedFebdp298K1058448              0.000889       0.001910   \n",
       "toDUT-49Mn100K2014971                      0.000145       0.000319   \n",
       "...                                             ...            ...   \n",
       "1from61055570                              0.001935       0.004239   \n",
       "toCCDC_2065041_JUK-20-noh                  0.001173       0.002748   \n",
       "initialMOFDMF@DUT-8Ni1989709               0.000998       0.002092   \n",
       "fromHIMS-741884101                         0.001524       0.003321   \n",
       "fromFebdp25C1058446                        0.005735       0.012319   \n",
       "\n",
       "                                      Atomic Radius  Mulliken EN  \\\n",
       "tocompoundwithmethanol1403845              0.000033     0.000104   \n",
       "toanie202202073-sup-0001-nku-128_thf       0.000019     0.000060   \n",
       "toZn-1withDMF238859                        0.000085     0.000266   \n",
       "toDMFsolvatedFebdp298K1058448              0.000053     0.000139   \n",
       "toDUT-49Mn100K2014971                      0.000009     0.000022   \n",
       "...                                             ...          ...   \n",
       "1from61055570                              0.000097     0.000299   \n",
       "toCCDC_2065041_JUK-20-noh                  0.000039     0.000106   \n",
       "initialMOFDMF@DUT-8Ni1989709               0.000053     0.000157   \n",
       "fromHIMS-741884101                         0.000072     0.000226   \n",
       "fromFebdp25C1058446                        0.000344     0.000896   \n",
       "\n",
       "                                      polarizability(A^3)  \\\n",
       "tocompoundwithmethanol1403845                    0.000149   \n",
       "toanie202202073-sup-0001-nku-128_thf             0.000086   \n",
       "toZn-1withDMF238859                              0.000382   \n",
       "toDMFsolvatedFebdp298K1058448                    0.000287   \n",
       "toDUT-49Mn100K2014971                            0.000055   \n",
       "...                                                   ...   \n",
       "1from61055570                                    0.000447   \n",
       "toCCDC_2065041_JUK-20-noh                        0.000176   \n",
       "initialMOFDMF@DUT-8Ni1989709                     0.000242   \n",
       "fromHIMS-741884101                               0.000325   \n",
       "fromFebdp25C1058446                              0.001853   \n",
       "\n",
       "                                      electron affinity(kJ/mol)  \n",
       "tocompoundwithmethanol1403845                         -0.001397  \n",
       "toanie202202073-sup-0001-nku-128_thf                  -0.000809  \n",
       "toZn-1withDMF238859                                   -0.003581  \n",
       "toDMFsolvatedFebdp298K1058448                          0.000513  \n",
       "toDUT-49Mn100K2014971                                 -0.000290  \n",
       "...                                                         ...  \n",
       "1from61055570                                          0.007938  \n",
       "toCCDC_2065041_JUK-20-noh                             -0.001711  \n",
       "initialMOFDMF@DUT-8Ni1989709                           0.003992  \n",
       "fromHIMS-741884101                                    -0.003048  \n",
       "fromFebdp25C1058446                                    0.003309  \n",
       "\n",
       "[102 rows x 990 columns]"
      ]
     },
     "execution_count": 35,
     "metadata": {},
     "output_type": "execute_result"
    }
   ],
   "source": [
    "x"
   ]
  },
  {
   "cell_type": "code",
   "execution_count": 36,
   "metadata": {},
   "outputs": [],
   "source": [
    "x.to_csv(\"../main_datasets/dataset.csv\")"
   ]
  },
  {
   "cell_type": "code",
   "execution_count": 37,
   "metadata": {},
   "outputs": [],
   "source": [
    "y.to_csv(\"../main_datasets/target.csv\")"
   ]
  },
  {
   "cell_type": "code",
   "execution_count": null,
   "metadata": {},
   "outputs": [],
   "source": []
  }
 ],
 "metadata": {
  "kernelspec": {
   "display_name": "Python 3",
   "language": "python",
   "name": "python3"
  },
  "language_info": {
   "codemirror_mode": {
    "name": "ipython",
    "version": 3
   },
   "file_extension": ".py",
   "mimetype": "text/x-python",
   "name": "python",
   "nbconvert_exporter": "python",
   "pygments_lexer": "ipython3",
   "version": "3.10.11"
  }
 },
 "nbformat": 4,
 "nbformat_minor": 2
}
