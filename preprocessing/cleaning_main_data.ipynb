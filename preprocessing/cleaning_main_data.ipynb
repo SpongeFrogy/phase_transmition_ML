{
 "cells": [
  {
   "cell_type": "code",
   "execution_count": 1,
   "metadata": {},
   "outputs": [],
   "source": [
    "import pandas as pd\n",
    "import numpy as np\n",
    "import joblib"
   ]
  },
  {
   "cell_type": "code",
   "execution_count": 2,
   "metadata": {},
   "outputs": [],
   "source": [
    "mofid = pd.read_csv(\"../data/main_dataset_mofid_data_V2.csv\", index_col=0)\n",
    "mofid = mofid[[\"smiles_linkers\", \"smiles_nodes\", \"cifname\"]].set_index(\"cifname\")\n",
    "mordred = pd.read_csv(\"../data/all_f_main_dataset_mordred_V2.csv\", index_col=0)\n",
    "zeo = pd.read_csv(\"../data/main_dataset_zeo_V2.csv\", index_col=0)\n",
    "cif = pd.read_csv(\"../data/main_dataset_cif_property_V2.csv\", index_col=0)\n",
    "\n"
   ]
  },
  {
   "cell_type": "code",
   "execution_count": 4,
   "metadata": {},
   "outputs": [
    {
     "data": {
      "text/html": [
       "<div>\n",
       "<style scoped>\n",
       "    .dataframe tbody tr th:only-of-type {\n",
       "        vertical-align: middle;\n",
       "    }\n",
       "\n",
       "    .dataframe tbody tr th {\n",
       "        vertical-align: top;\n",
       "    }\n",
       "\n",
       "    .dataframe thead th {\n",
       "        text-align: right;\n",
       "    }\n",
       "</style>\n",
       "<table border=\"1\" class=\"dataframe\">\n",
       "  <thead>\n",
       "    <tr style=\"text-align: right;\">\n",
       "      <th></th>\n",
       "      <th>a</th>\n",
       "      <th>b</th>\n",
       "      <th>c</th>\n",
       "      <th>alpha</th>\n",
       "      <th>beta</th>\n",
       "      <th>gamma</th>\n",
       "      <th>volume</th>\n",
       "      <th>sg_number</th>\n",
       "    </tr>\n",
       "  </thead>\n",
       "  <tbody>\n",
       "    <tr>\n",
       "      <th>initial MOF-5-C7 2040922.cif</th>\n",
       "      <td>12.852600</td>\n",
       "      <td>12.852600</td>\n",
       "      <td>12.852600</td>\n",
       "      <td>90.000000</td>\n",
       "      <td>90.000000</td>\n",
       "      <td>90.000000</td>\n",
       "      <td>2123.112341</td>\n",
       "      <td>221.0</td>\n",
       "    </tr>\n",
       "    <tr>\n",
       "      <th>to MOF-5(C7)_desolvated phase 2040923.cif</th>\n",
       "      <td>12.786337</td>\n",
       "      <td>12.786337</td>\n",
       "      <td>12.786337</td>\n",
       "      <td>84.507765</td>\n",
       "      <td>84.507765</td>\n",
       "      <td>84.507765</td>\n",
       "      <td>2063.376733</td>\n",
       "      <td>148.0</td>\n",
       "    </tr>\n",
       "    <tr>\n",
       "      <th>from Cu(I)-MOF-1 2084812.cif</th>\n",
       "      <td>13.393384</td>\n",
       "      <td>13.393384</td>\n",
       "      <td>13.393384</td>\n",
       "      <td>106.730376</td>\n",
       "      <td>106.730376</td>\n",
       "      <td>115.104051</td>\n",
       "      <td>1835.938608</td>\n",
       "      <td>88.0</td>\n",
       "    </tr>\n",
       "    <tr>\n",
       "      <th>from Cu(I)Cu(II)-MOF-2 2084857.cif</th>\n",
       "      <td>13.124566</td>\n",
       "      <td>13.124566</td>\n",
       "      <td>13.124566</td>\n",
       "      <td>107.741062</td>\n",
       "      <td>107.741062</td>\n",
       "      <td>112.989882</td>\n",
       "      <td>1735.380592</td>\n",
       "      <td>88.0</td>\n",
       "    </tr>\n",
       "    <tr>\n",
       "      <th>to Cu(II)-MOF-3 1524653.cif</th>\n",
       "      <td>10.044000</td>\n",
       "      <td>13.671000</td>\n",
       "      <td>13.671000</td>\n",
       "      <td>90.000000</td>\n",
       "      <td>90.000000</td>\n",
       "      <td>90.000000</td>\n",
       "      <td>2081.642704</td>\n",
       "      <td>60.0</td>\n",
       "    </tr>\n",
       "    <tr>\n",
       "      <th>...</th>\n",
       "      <td>...</td>\n",
       "      <td>...</td>\n",
       "      <td>...</td>\n",
       "      <td>...</td>\n",
       "      <td>...</td>\n",
       "      <td>...</td>\n",
       "      <td>...</td>\n",
       "      <td>...</td>\n",
       "    </tr>\n",
       "    <tr>\n",
       "      <th>1b_40 bar(R).cif</th>\n",
       "      <td>8.249900</td>\n",
       "      <td>18.659300</td>\n",
       "      <td>18.659300</td>\n",
       "      <td>90.000000</td>\n",
       "      <td>90.000000</td>\n",
       "      <td>90.000000</td>\n",
       "      <td>2872.363364</td>\n",
       "      <td>90.0</td>\n",
       "    </tr>\n",
       "    <tr>\n",
       "      <th>from 1a.cif</th>\n",
       "      <td>8.047300</td>\n",
       "      <td>18.855000</td>\n",
       "      <td>18.855000</td>\n",
       "      <td>90.000000</td>\n",
       "      <td>90.000000</td>\n",
       "      <td>90.000000</td>\n",
       "      <td>2860.903871</td>\n",
       "      <td>90.0</td>\n",
       "    </tr>\n",
       "    <tr>\n",
       "      <th>to 1b.cif</th>\n",
       "      <td>7.797900</td>\n",
       "      <td>16.850000</td>\n",
       "      <td>16.850000</td>\n",
       "      <td>90.000000</td>\n",
       "      <td>90.000000</td>\n",
       "      <td>90.000000</td>\n",
       "      <td>2214.656236</td>\n",
       "      <td>18.0</td>\n",
       "    </tr>\n",
       "    <tr>\n",
       "      <th>as-synthesized SNU-80a (initial) 842625.cif</th>\n",
       "      <td>12.223300</td>\n",
       "      <td>24.807600</td>\n",
       "      <td>24.807600</td>\n",
       "      <td>90.000000</td>\n",
       "      <td>90.000000</td>\n",
       "      <td>90.000000</td>\n",
       "      <td>7522.426833</td>\n",
       "      <td>134.0</td>\n",
       "    </tr>\n",
       "    <tr>\n",
       "      <th>from CCDC_2065038_JUK-20.cif</th>\n",
       "      <td>20.453600</td>\n",
       "      <td>15.724700</td>\n",
       "      <td>17.095300</td>\n",
       "      <td>86.129000</td>\n",
       "      <td>85.252000</td>\n",
       "      <td>70.324000</td>\n",
       "      <td>5154.900000</td>\n",
       "      <td>2.0</td>\n",
       "    </tr>\n",
       "  </tbody>\n",
       "</table>\n",
       "<p>165 rows × 8 columns</p>\n",
       "</div>"
      ],
      "text/plain": [
       "                                                     a          b          c  \\\n",
       "initial MOF-5-C7 2040922.cif                 12.852600  12.852600  12.852600   \n",
       "to MOF-5(C7)_desolvated phase 2040923.cif    12.786337  12.786337  12.786337   \n",
       "from Cu(I)-MOF-1 2084812.cif                 13.393384  13.393384  13.393384   \n",
       "from Cu(I)Cu(II)-MOF-2 2084857.cif           13.124566  13.124566  13.124566   \n",
       "to Cu(II)-MOF-3 1524653.cif                  10.044000  13.671000  13.671000   \n",
       "...                                                ...        ...        ...   \n",
       "1b_40 bar(R).cif                              8.249900  18.659300  18.659300   \n",
       "from 1a.cif                                   8.047300  18.855000  18.855000   \n",
       "to 1b.cif                                     7.797900  16.850000  16.850000   \n",
       "as-synthesized SNU-80a (initial) 842625.cif  12.223300  24.807600  24.807600   \n",
       "from CCDC_2065038_JUK-20.cif                 20.453600  15.724700  17.095300   \n",
       "\n",
       "                                                  alpha        beta  \\\n",
       "initial MOF-5-C7 2040922.cif                  90.000000   90.000000   \n",
       "to MOF-5(C7)_desolvated phase 2040923.cif     84.507765   84.507765   \n",
       "from Cu(I)-MOF-1 2084812.cif                 106.730376  106.730376   \n",
       "from Cu(I)Cu(II)-MOF-2 2084857.cif           107.741062  107.741062   \n",
       "to Cu(II)-MOF-3 1524653.cif                   90.000000   90.000000   \n",
       "...                                                 ...         ...   \n",
       "1b_40 bar(R).cif                              90.000000   90.000000   \n",
       "from 1a.cif                                   90.000000   90.000000   \n",
       "to 1b.cif                                     90.000000   90.000000   \n",
       "as-synthesized SNU-80a (initial) 842625.cif   90.000000   90.000000   \n",
       "from CCDC_2065038_JUK-20.cif                  86.129000   85.252000   \n",
       "\n",
       "                                                  gamma       volume  \\\n",
       "initial MOF-5-C7 2040922.cif                  90.000000  2123.112341   \n",
       "to MOF-5(C7)_desolvated phase 2040923.cif     84.507765  2063.376733   \n",
       "from Cu(I)-MOF-1 2084812.cif                 115.104051  1835.938608   \n",
       "from Cu(I)Cu(II)-MOF-2 2084857.cif           112.989882  1735.380592   \n",
       "to Cu(II)-MOF-3 1524653.cif                   90.000000  2081.642704   \n",
       "...                                                 ...          ...   \n",
       "1b_40 bar(R).cif                              90.000000  2872.363364   \n",
       "from 1a.cif                                   90.000000  2860.903871   \n",
       "to 1b.cif                                     90.000000  2214.656236   \n",
       "as-synthesized SNU-80a (initial) 842625.cif   90.000000  7522.426833   \n",
       "from CCDC_2065038_JUK-20.cif                  70.324000  5154.900000   \n",
       "\n",
       "                                             sg_number  \n",
       "initial MOF-5-C7 2040922.cif                     221.0  \n",
       "to MOF-5(C7)_desolvated phase 2040923.cif        148.0  \n",
       "from Cu(I)-MOF-1 2084812.cif                      88.0  \n",
       "from Cu(I)Cu(II)-MOF-2 2084857.cif                88.0  \n",
       "to Cu(II)-MOF-3 1524653.cif                       60.0  \n",
       "...                                                ...  \n",
       "1b_40 bar(R).cif                                  90.0  \n",
       "from 1a.cif                                       90.0  \n",
       "to 1b.cif                                         18.0  \n",
       "as-synthesized SNU-80a (initial) 842625.cif      134.0  \n",
       "from CCDC_2065038_JUK-20.cif                       2.0  \n",
       "\n",
       "[165 rows x 8 columns]"
      ]
     },
     "execution_count": 4,
     "metadata": {},
     "output_type": "execute_result"
    }
   ],
   "source": [
    "cif"
   ]
  },
  {
   "cell_type": "code",
   "execution_count": 3,
   "metadata": {},
   "outputs": [
    {
     "data": {
      "text/plain": [
       "((151, 1826), (162, 3), (165, 8))"
      ]
     },
     "execution_count": 3,
     "metadata": {},
     "output_type": "execute_result"
    }
   ],
   "source": [
    "mordred.shape, zeo.shape, cif.shape"
   ]
  },
  {
   "cell_type": "code",
   "execution_count": 4,
   "metadata": {},
   "outputs": [],
   "source": [
    "def make_mordred():\n",
    "    from mordred import Calculator, descriptors\n",
    "    from rdkit import Chem\n",
    "    mofid = pd.read_csv(\"../data/main_dataset_mofid_data_V2.csv\", index_col=0)\n",
    "    mofid = mofid[[\"smiles_linkers\", \"smiles_nodes\", \"cifname\"]].set_index(\"cifname\")\n",
    "    linkers = [mofid.smiles_linkers[i].replace(\"'\", \"\")[1:-1].split(\", \") for i in range(mofid.__len__())]\n",
    "    mols = [[Chem.MolFromSmiles(smi) for smi in smi_list] for smi_list in linkers]\n",
    "    calc = Calculator(descriptors, ignore_3D=False)\n",
    "    def f(mof):\n",
    "        try: return calc.pandas(mof)\n",
    "        except TypeError:\n",
    "            return None\n",
    "    dfs = [f(mof) for mof in mols]\n",
    "    data_mordred = pd.DataFrame(columns=dfs[0].columns)\n",
    "\n",
    "    for i, filename in enumerate(mofid.index):\n",
    "        try:\n",
    "            if linkers[i] != [\"\"]:\n",
    "                data_mordred.loc[filename] = dfs[i].mean()\n",
    "        except AttributeError:\n",
    "            print(f\"{filename:_^20}\")\n",
    "    data_mordred = data_mordred.set_index(data_mordred.index.map(lambda name: name.replace(\" \", \"\")))\n",
    "    #data_mordred.to_csv(\"../data/all_f_main_dataset_mordred_V2.csv\")\n",
    "    return data_mordred\n",
    "\n"
   ]
  },
  {
   "cell_type": "code",
   "execution_count": 5,
   "metadata": {},
   "outputs": [],
   "source": [
    "def metal_from_node(node: str):\n",
    "    import re\n",
    "    \"\"\"\n",
    "    input: smilesNodes: str\n",
    "    return: \n",
    "    'metals' in node: list\n",
    "    'unique' types of metals: np.array, dtype='<U2'\n",
    "    'count' of unique: np.array, dtype=int\n",
    "    \"\"\"\n",
    "    # \"O[Zr]123(O)[OH]4[Zr]56([O]3[Zr]37([OH]2[Zr]28([O]1[Zr]14([O]6[Zr]([OH]53)([OH]21)([O]78)(O)O)([OH2])([OH2])O)[OH2])([OH2])([OH2])O)[OH2]\"\n",
    "    node = node.replace(\"OH\", \"\").replace(\"O\", \"\")\n",
    "    node = node.replace(\"[\", \"\").replace(\"]\", \"\").replace(\")\", \"\").replace(\"(\", \"\").replace(\",\", \"\")\n",
    "    node = re.sub(r\"\\d\", \"\", node) # replace numbers\n",
    "    #print(node)\n",
    "    # \"ZrZrZrZrZrZr\"\n",
    "    start_cut = 0\n",
    "    metals = []\n",
    "    for i, char in enumerate(node[1:]):\n",
    "        if not char.islower():\n",
    "            metals.append(node[start_cut:i+1])\n",
    "            start_cut = i+1\n",
    "    metals.append(node[start_cut:])\n",
    "    unique, counts = np.unique(np.array(metals), return_counts=True)\n",
    "    return metals, unique, counts"
   ]
  },
  {
   "cell_type": "code",
   "execution_count": 6,
   "metadata": {},
   "outputs": [],
   "source": [
    "elemental_descriptors = pd.read_csv(\"../data/elemental_descriptors.csv\")"
   ]
  },
  {
   "cell_type": "code",
   "execution_count": 7,
   "metadata": {},
   "outputs": [
    {
     "name": "stdout",
     "output_type": "stream",
     "text": [
      "Error with []\n",
      "Error with []\n",
      "Error with []\n",
      "Error with []\n",
      "Error with ['*']\n",
      "Error with ['*']\n",
      "Error with []\n",
      "Error with []\n",
      "Error with ['*']\n",
      "Error with ['*']\n",
      "Error with ['*']\n",
      "Error with ['*']\n",
      "Error with ['*']\n",
      "Error with ['*']\n",
      "Error with ['*']\n"
     ]
    }
   ],
   "source": [
    "node_descriptors = pd.DataFrame(columns=(\"n_metals\", 'n_types_metals', 'Atomic_Number', 'Atomic_Weight', 'Atomic Radius',\n",
    "       'Mulliken EN', 'polarizability(A^3)', 'electron affinity(kJ/mol)'))\n",
    "\n",
    "d = ['Atomic_Number', 'Atomic_Weight', 'Atomic Radius',\n",
    "       'Mulliken EN', 'polarizability(A^3)', 'electron affinity(kJ/mol)']\n",
    "\n",
    "for filename, node in zip(mofid.index.map(lambda name: name.replace(\" \", \"\").replace(\".cif\", \"\")), mofid[\"smiles_nodes\"]):\n",
    "    try:\n",
    "       metals, unique, count = metal_from_node(node.replace(\"'\", \"\").replace(\" \", \"\").replace(\"%\", \"\"))\n",
    "       #print(metals)\n",
    "       n_metals = count.sum()\n",
    "       n_metals_types = count.__len__()\n",
    "       df = pd.DataFrame(columns=d, index=[range(count.sum())])\n",
    "       for metal in metals:\n",
    "          #print(metal)\n",
    "          df.loc[len(df)] = elemental_descriptors.loc[elemental_descriptors[\"Symbol\"] == metal].loc[:,d].iloc[0]\n",
    "       node_descriptors.loc[filename] = n_metals, n_metals_types, *df.mean().array\n",
    "    except IndexError:\n",
    "       print(f\"Error with {node}\")"
   ]
  },
  {
   "cell_type": "code",
   "execution_count": 8,
   "metadata": {},
   "outputs": [],
   "source": [
    "node_descriptors = node_descriptors.loc[node_descriptors[\"n_types_metals\"] == 1.]\n"
   ]
  },
  {
   "cell_type": "code",
   "execution_count": 9,
   "metadata": {},
   "outputs": [],
   "source": [
    "zeo.index = zeo.index.map(lambda s: s.replace(\".res\", \"\"))"
   ]
  },
  {
   "cell_type": "code",
   "execution_count": 10,
   "metadata": {},
   "outputs": [],
   "source": [
    "data_pld_lcd = zeo[[\"num1\", \"num2\"]].rename({\"num1\": \"lcd\", \"num2\": \"pld\"}, axis=1)"
   ]
  },
  {
   "cell_type": "code",
   "execution_count": 11,
   "metadata": {},
   "outputs": [],
   "source": [
    "cif = cif.rename({ \"sg_number\": \"spacegroupNumber\"}, axis=1)"
   ]
  },
  {
   "cell_type": "code",
   "execution_count": 12,
   "metadata": {},
   "outputs": [],
   "source": [
    "cif.index = cif.index.map(lambda name: name.replace(\" \", \"\").replace(\".cif\", \"\"))"
   ]
  },
  {
   "cell_type": "code",
   "execution_count": 13,
   "metadata": {},
   "outputs": [],
   "source": [
    "cif = cif.set_index(cif.index.map(lambda name: name.replace(\"(\", \"\").replace(\")\", \"\")))"
   ]
  },
  {
   "cell_type": "code",
   "execution_count": 14,
   "metadata": {},
   "outputs": [],
   "source": [
    "node_descriptors = node_descriptors.set_index(node_descriptors.index.map(lambda name: name.replace(\"(\", \"\").replace(\")\", \"\")))"
   ]
  },
  {
   "cell_type": "code",
   "execution_count": 15,
   "metadata": {},
   "outputs": [],
   "source": [
    "data_pld_lcd = data_pld_lcd.set_index(data_pld_lcd.index.map(lambda name: name.replace(\"(\", \"\").replace(\")\", \"\")))"
   ]
  },
  {
   "cell_type": "code",
   "execution_count": 16,
   "metadata": {},
   "outputs": [],
   "source": [
    "mordred = mordred.set_index(mordred.index.map(lambda name: name.replace(\"(\", \"\").replace(\")\", \"\")))"
   ]
  },
  {
   "cell_type": "code",
   "execution_count": 17,
   "metadata": {},
   "outputs": [
    {
     "data": {
      "text/plain": [
       "((162, 2), (165, 8), (151, 1826), (145, 8))"
      ]
     },
     "execution_count": 17,
     "metadata": {},
     "output_type": "execute_result"
    }
   ],
   "source": [
    "data_pld_lcd.shape, cif.shape, mordred.shape, node_descriptors.shape"
   ]
  },
  {
   "cell_type": "code",
   "execution_count": 18,
   "metadata": {},
   "outputs": [],
   "source": [
    "data_main = pd.concat([data_pld_lcd, cif, mordred, node_descriptors], axis=1)"
   ]
  },
  {
   "cell_type": "code",
   "execution_count": 19,
   "metadata": {},
   "outputs": [],
   "source": [
    "data_main = data_main.loc[list({*list(data_pld_lcd.index)} & {*list(\n",
    "    cif.index)} & {*list(mordred.index)} & {*list(node_descriptors.index)})]\n"
   ]
  },
  {
   "cell_type": "code",
   "execution_count": 20,
   "metadata": {},
   "outputs": [
    {
     "data": {
      "text/plain": [
       "(138, 1844)"
      ]
     },
     "execution_count": 20,
     "metadata": {},
     "output_type": "execute_result"
    }
   ],
   "source": [
    "data_main.shape"
   ]
  },
  {
   "cell_type": "code",
   "execution_count": 21,
   "metadata": {},
   "outputs": [],
   "source": [
    "# data_main.to_csv(\"../data/main_no_marked.csv\")"
   ]
  },
  {
   "cell_type": "code",
   "execution_count": 22,
   "metadata": {},
   "outputs": [],
   "source": [
    "db_from_to = pd.read_csv(\"../data/DB_main_with_SG_for_EDA.csv\", sep=';')"
   ]
  },
  {
   "cell_type": "code",
   "execution_count": 23,
   "metadata": {},
   "outputs": [],
   "source": [
    "db_from_to.CIF_init = db_from_to.CIF_init.map(lambda name: name.replace(\"(\", \"\").replace(\")\", \"\").replace(\" \", \"\").replace(\".cif\", \"\"))\n",
    "db_from_to.CIF_final = db_from_to.CIF_final.map(lambda name: name.replace(\"(\", \"\").replace(\")\", \"\").replace(\" \", \"\").replace(\".cif\", \"\"))\n"
   ]
  },
  {
   "cell_type": "code",
   "execution_count": 24,
   "metadata": {},
   "outputs": [],
   "source": [
    "marked = pd.DataFrame(columns=[\"target\"])\n",
    "\n",
    "for ind in db_from_to.index:\n",
    "    if db_from_to.loc[ind, \"Stimuli\"].find(\"solvent\") != -1 or db_from_to.loc[ind, \"Stimuli\"].find(\"gas\") != -1 or db_from_to.loc[ind, \"Stimuli\"].find(\"humidity\") != -1:\n",
    "        marked.loc[db_from_to.loc[ind, \"CIF_init\"]] = [1]\n",
    "        if db_from_to.loc[ind, \"Reversible\"] == \"yes\":\n",
    "            marked.loc[db_from_to.loc[ind, \"CIF_final\"]] = [1]\n",
    "        else:\n",
    "            marked.loc[db_from_to.loc[ind, \"CIF_final\"]] = [0]\n",
    "    else:\n",
    "        marked.loc[db_from_to.loc[ind, \"CIF_init\"]] = [0]\n",
    "        marked.loc[db_from_to.loc[ind, \"CIF_final\"]] = [0]"
   ]
  },
  {
   "cell_type": "code",
   "execution_count": 25,
   "metadata": {},
   "outputs": [],
   "source": [
    "from pteproc_model import PreprocessingModel\n",
    "model = joblib.load(\"../qmof_datasets/scaler.pkl\")"
   ]
  },
  {
   "cell_type": "code",
   "execution_count": 26,
   "metadata": {},
   "outputs": [
    {
     "data": {
      "text/plain": [
       "(138, 1844)"
      ]
     },
     "execution_count": 26,
     "metadata": {},
     "output_type": "execute_result"
    }
   ],
   "source": [
    "data_main.shape"
   ]
  },
  {
   "cell_type": "code",
   "execution_count": 27,
   "metadata": {},
   "outputs": [],
   "source": [
    "main_dataset = data_main[model.cols]"
   ]
  },
  {
   "cell_type": "code",
   "execution_count": 28,
   "metadata": {},
   "outputs": [],
   "source": [
    "marked_dataset = pd.concat([data_main, marked], axis=1)"
   ]
  },
  {
   "cell_type": "code",
   "execution_count": 29,
   "metadata": {},
   "outputs": [],
   "source": [
    "marked_dataset = marked_dataset.loc[list({*list(main_dataset.index)} & {*list(marked.index)})]"
   ]
  },
  {
   "cell_type": "code",
   "execution_count": 30,
   "metadata": {},
   "outputs": [
    {
     "data": {
      "text/plain": [
       "(102, 1845)"
      ]
     },
     "execution_count": 30,
     "metadata": {},
     "output_type": "execute_result"
    }
   ],
   "source": [
    "marked_dataset.shape"
   ]
  },
  {
   "cell_type": "code",
   "execution_count": 31,
   "metadata": {},
   "outputs": [
    {
     "name": "stdout",
     "output_type": "stream",
     "text": [
      "|  target  |  counts  |\n",
      "-----------------------\n",
      "|   yes    |    62    |\n",
      "|    no    |    40    |\n",
      "total count:102\n"
     ]
    }
   ],
   "source": [
    "target, counts = np.unique(marked_dataset.target, return_counts=True)\n",
    "\n",
    "\n",
    "print(f\"|{'target':^10}|{'counts':^10}|\")\n",
    "print(f\"{'-':-^23}\")\n",
    "print(f\"|{'yes':^10}|{counts[0]:^10}|\")\n",
    "print(f\"|{'no':^10}|{counts[1]:^10}|\")\n",
    "print(f\"total count:{marked_dataset.__len__()}\")"
   ]
  },
  {
   "cell_type": "code",
   "execution_count": 32,
   "metadata": {},
   "outputs": [
    {
     "data": {
      "text/plain": [
       "(102, 1845)"
      ]
     },
     "execution_count": 32,
     "metadata": {},
     "output_type": "execute_result"
    }
   ],
   "source": [
    "marked_dataset.shape"
   ]
  },
  {
   "cell_type": "code",
   "execution_count": 33,
   "metadata": {},
   "outputs": [],
   "source": [
    "x, y = model.transform(marked_dataset.drop(['target'], axis=1)), marked_dataset['target']"
   ]
  },
  {
   "cell_type": "code",
   "execution_count": 34,
   "metadata": {},
   "outputs": [
    {
     "data": {
      "text/plain": [
       "((102, 1018), (102, 1018))"
      ]
     },
     "execution_count": 34,
     "metadata": {},
     "output_type": "execute_result"
    }
   ],
   "source": [
    "x.shape, x.dropna().shape"
   ]
  },
  {
   "cell_type": "code",
   "execution_count": 39,
   "metadata": {},
   "outputs": [
    {
     "name": "stdout",
     "output_type": "stream",
     "text": [
      "from4in61536823\n",
      "from3in61515548\n",
      "1to71031676\n",
      "initialZn-1238860\n",
      "2to2byimmercingfirstcompound1816056\n",
      "to6cm6b05277_si_005\n",
      "toCuII-MOF-31524653\n",
      "initialMOFDMF@DUT-8Ni1989709\n",
      "2to101045134\n",
      "fromCuI-MOF-12084812\n",
      "fromassynthesizedDUT-30Zn804770\n",
      "to1UPC-600-373K2060465\n",
      "to3fa1052173\n",
      "2from2924308-Copy\n",
      "to5cm6b05277_si_004\n",
      "toic035111o_si_002\n",
      "toCCDC_2065041_JUK-20-noh\n",
      "from935302\n",
      "toZn-1withDMF238859\n",
      "toSTA-26Zr-Cchangedsymmetry1571656\n",
      "fromic035111o_si_002\n",
      "2from91045135\n",
      "from31483716\n",
      "toDUT-49Fe100K2014975\n",
      "toic035111o_si_003\n",
      "basedonCofromPnna709782\n",
      "fromja500530y_si_003\n",
      "fromCuICuII-MOF-22084857\n",
      "toVMOP-+1590348\n",
      "to1b\n",
      "topart_4\n",
      "to6cm6b05277_si_005-Copy\n",
      "BasedonMntoR-3c\n",
      "to922086\n",
      "from975784\n",
      "toDUT-49Zn100K2014973\n",
      "fromDUT-49Fe296K1957603\n",
      "fromas-flexMOF975746\n",
      "fromDUT-49Zn296K890363\n",
      "to1934735\n",
      "toDUT-49Ni100K2014970\n",
      "toCo-MOF1912233\n",
      "toCAU13_-1GPa\n",
      "fromDUT-49Mn296K1957604\n",
      "to41483725\n",
      "basedonMnfromPnna709780\n",
      "initialSTA-26Zr1571655\n",
      "toCCDC_2065039_JUK-20-chx\n",
      "fromDUT-49Cd296K1957602\n",
      "fromCo-MOF1912199\n",
      "toMOF-74Zn1512654\n",
      "from1in5636900\n",
      "from1934734\n",
      "frompart_2\n",
      "toDUT-8NipolymorphB1989708\n",
      "tod-flexMOFdried975745\n",
      "fromic035111o_si_001\n",
      "toDUT-49Mn100K2014971\n",
      "toja054913a_si_004\n",
      "from2D854460\n",
      "fromFebdp25C1058446\n",
      "toja500530y_si_003\n",
      "BasedonCotoR-3c\n",
      "fromMOF2fa1052168\n",
      "1from61055570\n",
      "to1lpMOF1944821\n",
      "to210KsameSG1970082\n",
      "fromja054913a_si_001\n",
      "toDMFsolvatedFebdp298K1058448\n",
      "toanie202202073-sup-0001-nku-128_toluene\n",
      "toFdd21021920\n",
      "to1555242\n",
      "toja101541s_si_003\n",
      "toCCDC_2065040_JUK-20-nor\n",
      "from1withDMF1403842\n",
      "fromja101541s_si_004\n",
      "from1a\n",
      "toanie202202073-sup-0001-nku-128_thf\n",
      "toSION-11503702\n",
      "fromC2_c1021935\n",
      "fromDMFsolvatedFebdp100K1058447\n",
      "2tocompound2924308\n",
      "toDUT-49Co100K2014974\n",
      "to3D854461\n",
      "to1041924\n",
      "INITIALanie202202073-sup-0001-nku-128_298k\n",
      "toDUT-49Cd100K2014972\n",
      "fromDUT-49Co296K890364\n",
      "fromHIMS-741884101\n",
      "tocompoundwithhexane1403844\n",
      "toDUT-30Znafterphasetransition804771\n",
      "from11974527\n",
      "from1041925\n",
      "fromSION-21503701\n",
      "1initial924307\n",
      "fromDUT-49Ni296K1957605\n",
      "Toa-IRMOF-9DMF1572714\n",
      "tocompoundwithmethanol1403845\n",
      "fromVMOP-+1878068\n",
      "initial11455983\n",
      "fromUTSA-741884102\n",
      "fromUPC-6001942055\n"
     ]
    }
   ],
   "source": [
    "for i in x.index:\n",
    "    print(i)"
   ]
  },
  {
   "cell_type": "code",
   "execution_count": 36,
   "metadata": {},
   "outputs": [],
   "source": [
    "x.to_csv(\"../main_datasets/dataset.csv\")"
   ]
  },
  {
   "cell_type": "code",
   "execution_count": 37,
   "metadata": {},
   "outputs": [],
   "source": [
    "y.to_csv(\"../main_datasets/target.csv\")"
   ]
  },
  {
   "cell_type": "code",
   "execution_count": null,
   "metadata": {},
   "outputs": [],
   "source": []
  }
 ],
 "metadata": {
  "kernelspec": {
   "display_name": "Python 3",
   "language": "python",
   "name": "python3"
  },
  "language_info": {
   "codemirror_mode": {
    "name": "ipython",
    "version": 3
   },
   "file_extension": ".py",
   "mimetype": "text/x-python",
   "name": "python",
   "nbconvert_exporter": "python",
   "pygments_lexer": "ipython3",
   "version": "3.10.11"
  }
 },
 "nbformat": 4,
 "nbformat_minor": 2
}
