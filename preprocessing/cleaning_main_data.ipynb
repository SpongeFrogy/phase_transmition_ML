{
 "cells": [
  {
   "cell_type": "code",
   "execution_count": 1,
   "metadata": {},
   "outputs": [],
   "source": [
    "import pandas as pd\n",
    "import numpy as np\n",
    "import joblib"
   ]
  },
  {
   "cell_type": "code",
   "execution_count": 2,
   "metadata": {},
   "outputs": [],
   "source": [
    "mofid = pd.read_csv(\"../data/main_dataset_mofid_data_V2.csv\", index_col=0)\n",
    "mofid = mofid[[\"smiles_linkers\", \"smiles_nodes\", \"cifname\"]].set_index(\"cifname\")\n",
    "mordred = pd.read_csv(\"../data/all_f_main_dataset_mordred_V2.csv\", index_col=0)\n",
    "zeo = pd.read_csv(\"../data/main_dataset_zeo_V2.csv\", index_col=0)\n",
    "cif = pd.read_csv(\"../data/main_dataset_cif_property_V2.csv\", index_col=0)\n",
    "\n"
   ]
  },
  {
   "cell_type": "code",
   "execution_count": 3,
   "metadata": {},
   "outputs": [
    {
     "data": {
      "text/plain": [
       "((151, 1826), (162, 3), (165, 8))"
      ]
     },
     "execution_count": 3,
     "metadata": {},
     "output_type": "execute_result"
    }
   ],
   "source": [
    "mordred.shape, zeo.shape, cif.shape"
   ]
  },
  {
   "cell_type": "code",
   "execution_count": 4,
   "metadata": {},
   "outputs": [],
   "source": [
    "def make_mordred():\n",
    "    from mordred import Calculator, descriptors\n",
    "    from rdkit import Chem\n",
    "    mofid = pd.read_csv(\"../data/main_dataset_mofid_data_V2.csv\", index_col=0)\n",
    "    mofid = mofid[[\"smiles_linkers\", \"smiles_nodes\", \"cifname\"]].set_index(\"cifname\")\n",
    "    linkers = [mofid.smiles_linkers[i].replace(\"'\", \"\")[1:-1].split(\", \") for i in range(mofid.__len__())]\n",
    "    mols = [[Chem.MolFromSmiles(smi) for smi in smi_list] for smi_list in linkers]\n",
    "    calc = Calculator(descriptors, ignore_3D=False)\n",
    "    def f(mof):\n",
    "        try: return calc.pandas(mof)\n",
    "        except TypeError:\n",
    "            return None\n",
    "    dfs = [f(mof) for mof in mols]\n",
    "    data_mordred = pd.DataFrame(columns=dfs[0].columns)\n",
    "\n",
    "    for i, filename in enumerate(mofid.index):\n",
    "        try:\n",
    "            if linkers[i] != [\"\"]:\n",
    "                data_mordred.loc[filename] = dfs[i].mean()\n",
    "        except AttributeError:\n",
    "            print(f\"{filename:_^20}\")\n",
    "    data_mordred = data_mordred.set_index(data_mordred.index.map(lambda name: name.replace(\" \", \"\")))\n",
    "    #data_mordred.to_csv(\"../data/all_f_main_dataset_mordred_V2.csv\")\n",
    "    return data_mordred\n",
    "\n"
   ]
  },
  {
   "cell_type": "code",
   "execution_count": 5,
   "metadata": {},
   "outputs": [],
   "source": [
    "def metal_from_node(node: str):\n",
    "    import re\n",
    "    \"\"\"\n",
    "    input: smilesNodes: str\n",
    "    return: \n",
    "    'metals' in node: list\n",
    "    'unique' types of metals: np.array, dtype='<U2'\n",
    "    'count' of unique: np.array, dtype=int\n",
    "    \"\"\"\n",
    "    # \"O[Zr]123(O)[OH]4[Zr]56([O]3[Zr]37([OH]2[Zr]28([O]1[Zr]14([O]6[Zr]([OH]53)([OH]21)([O]78)(O)O)([OH2])([OH2])O)[OH2])([OH2])([OH2])O)[OH2]\"\n",
    "    node = node.replace(\"OH\", \"\").replace(\"O\", \"\")\n",
    "    node = node.replace(\"[\", \"\").replace(\"]\", \"\").replace(\")\", \"\").replace(\"(\", \"\").replace(\",\", \"\")\n",
    "    node = re.sub(r\"\\d\", \"\", node) # replace numbers\n",
    "    #print(node)\n",
    "    # \"ZrZrZrZrZrZr\"\n",
    "    start_cut = 0\n",
    "    metals = []\n",
    "    for i, char in enumerate(node[1:]):\n",
    "        if not char.islower():\n",
    "            metals.append(node[start_cut:i+1])\n",
    "            start_cut = i+1\n",
    "    metals.append(node[start_cut:])\n",
    "    unique, counts = np.unique(np.array(metals), return_counts=True)\n",
    "    return metals, unique, counts"
   ]
  },
  {
   "cell_type": "code",
   "execution_count": 6,
   "metadata": {},
   "outputs": [],
   "source": [
    "elemental_descriptors = pd.read_csv(\"../data/elemental_descriptors.csv\")"
   ]
  },
  {
   "cell_type": "code",
   "execution_count": 7,
   "metadata": {},
   "outputs": [
    {
     "name": "stdout",
     "output_type": "stream",
     "text": [
      "Error with []\n",
      "Error with []\n",
      "Error with []\n",
      "Error with []\n",
      "Error with ['*']\n",
      "Error with ['*']\n",
      "Error with []\n",
      "Error with []\n",
      "Error with ['*']\n",
      "Error with ['*']\n",
      "Error with ['*']\n",
      "Error with ['*']\n",
      "Error with ['*']\n",
      "Error with ['*']\n",
      "Error with ['*']\n"
     ]
    }
   ],
   "source": [
    "node_descriptors = pd.DataFrame(columns=(\"n_metals\", 'n_types_metals', 'Atomic_Number', 'Atomic_Weight', 'Atomic Radius',\n",
    "       'Mulliken EN', 'polarizability(A^3)', 'electron affinity(kJ/mol)'))\n",
    "\n",
    "d = ['Atomic_Number', 'Atomic_Weight', 'Atomic Radius',\n",
    "       'Mulliken EN', 'polarizability(A^3)', 'electron affinity(kJ/mol)']\n",
    "\n",
    "for filename, node in zip(mofid.index.map(lambda name: name.replace(\" \", \"\").replace(\".cif\", \"\")), mofid[\"smiles_nodes\"]):\n",
    "    try:\n",
    "       metals, unique, count = metal_from_node(node.replace(\"'\", \"\").replace(\" \", \"\").replace(\"%\", \"\"))\n",
    "       #print(metals)\n",
    "       n_metals = count.sum()\n",
    "       n_metals_types = count.__len__()\n",
    "       df = pd.DataFrame(columns=d, index=[range(count.sum())])\n",
    "       for metal in metals:\n",
    "          #print(metal)\n",
    "          df.loc[len(df)] = elemental_descriptors.loc[elemental_descriptors[\"Symbol\"] == metal].loc[:,d].iloc[0]\n",
    "       node_descriptors.loc[filename] = n_metals, n_metals_types, *df.mean().array\n",
    "    except IndexError:\n",
    "       print(f\"Error with {node}\")"
   ]
  },
  {
   "cell_type": "code",
   "execution_count": 8,
   "metadata": {},
   "outputs": [],
   "source": [
    "node_descriptors = node_descriptors.loc[node_descriptors[\"n_types_metals\"] == 1.]\n"
   ]
  },
  {
   "cell_type": "code",
   "execution_count": 9,
   "metadata": {},
   "outputs": [],
   "source": [
    "zeo.index = zeo.index.map(lambda s: s.replace(\".res\", \"\"))"
   ]
  },
  {
   "cell_type": "code",
   "execution_count": 10,
   "metadata": {},
   "outputs": [],
   "source": [
    "data_pld_lcd = zeo[[\"num1\", \"num2\"]].rename({\"num1\": \"lcd\", \"num2\": \"pld\"}, axis=1)"
   ]
  },
  {
   "cell_type": "code",
   "execution_count": 11,
   "metadata": {},
   "outputs": [],
   "source": [
    "cif = cif.rename({ \"sg_number\": \"spacegroupNumber\"}, axis=1)"
   ]
  },
  {
   "cell_type": "code",
   "execution_count": 12,
   "metadata": {},
   "outputs": [],
   "source": [
    "cif.index = cif.index.map(lambda name: name.replace(\" \", \"\").replace(\".cif\", \"\"))"
   ]
  },
  {
   "cell_type": "code",
   "execution_count": 13,
   "metadata": {},
   "outputs": [],
   "source": [
    "cif = cif.set_index(cif.index.map(lambda name: name.replace(\"(\", \"\").replace(\")\", \"\")))"
   ]
  },
  {
   "cell_type": "code",
   "execution_count": 14,
   "metadata": {},
   "outputs": [],
   "source": [
    "node_descriptors = node_descriptors.set_index(node_descriptors.index.map(lambda name: name.replace(\"(\", \"\").replace(\")\", \"\")))"
   ]
  },
  {
   "cell_type": "code",
   "execution_count": 15,
   "metadata": {},
   "outputs": [],
   "source": [
    "data_pld_lcd = data_pld_lcd.set_index(data_pld_lcd.index.map(lambda name: name.replace(\"(\", \"\").replace(\")\", \"\")))"
   ]
  },
  {
   "cell_type": "code",
   "execution_count": 16,
   "metadata": {},
   "outputs": [],
   "source": [
    "mordred = mordred.set_index(mordred.index.map(lambda name: name.replace(\"(\", \"\").replace(\")\", \"\")))"
   ]
  },
  {
   "cell_type": "code",
   "execution_count": 17,
   "metadata": {},
   "outputs": [
    {
     "data": {
      "text/plain": [
       "((162, 2), (165, 8), (151, 1826), (145, 8))"
      ]
     },
     "execution_count": 17,
     "metadata": {},
     "output_type": "execute_result"
    }
   ],
   "source": [
    "data_pld_lcd.shape, cif.shape, mordred.shape, node_descriptors.shape"
   ]
  },
  {
   "cell_type": "code",
   "execution_count": 18,
   "metadata": {},
   "outputs": [],
   "source": [
    "data_main = pd.concat([data_pld_lcd, cif, mordred, node_descriptors], axis=1)"
   ]
  },
  {
   "cell_type": "code",
   "execution_count": 19,
   "metadata": {},
   "outputs": [],
   "source": [
    "data_main = data_main.loc[list({*list(data_pld_lcd.index)} & {*list(\n",
    "    cif.index)} & {*list(mordred.index)} & {*list(node_descriptors.index)})]\n"
   ]
  },
  {
   "cell_type": "code",
   "execution_count": 20,
   "metadata": {},
   "outputs": [
    {
     "data": {
      "text/plain": [
       "(138, 1844)"
      ]
     },
     "execution_count": 20,
     "metadata": {},
     "output_type": "execute_result"
    }
   ],
   "source": [
    "data_main.shape"
   ]
  },
  {
   "cell_type": "code",
   "execution_count": 21,
   "metadata": {},
   "outputs": [],
   "source": [
    "# data_main.to_csv(\"../data/main_no_marked.csv\")"
   ]
  },
  {
   "cell_type": "code",
   "execution_count": 22,
   "metadata": {},
   "outputs": [],
   "source": [
    "db_from_to = pd.read_csv(\"../data/DB_main_with_SG_for_EDA.csv\", sep=';')"
   ]
  },
  {
   "cell_type": "code",
   "execution_count": 23,
   "metadata": {},
   "outputs": [],
   "source": [
    "db_from_to.CIF_init = db_from_to.CIF_init.map(lambda name: name.replace(\"(\", \"\").replace(\")\", \"\").replace(\" \", \"\").replace(\".cif\", \"\"))\n",
    "db_from_to.CIF_final = db_from_to.CIF_final.map(lambda name: name.replace(\"(\", \"\").replace(\")\", \"\").replace(\" \", \"\").replace(\".cif\", \"\"))\n"
   ]
  },
  {
   "cell_type": "code",
   "execution_count": 24,
   "metadata": {},
   "outputs": [],
   "source": [
    "marked = pd.DataFrame(columns=[\"target\"])\n",
    "\n",
    "for ind in db_from_to.index:\n",
    "    if db_from_to.loc[ind, \"Stimuli\"].find(\"solvent\") != -1:\n",
    "        marked.loc[db_from_to.loc[ind, \"CIF_init\"]] = [1]\n",
    "        if db_from_to.loc[ind, \"Reversible\"] == \"yes\":\n",
    "            marked.loc[db_from_to.loc[ind, \"CIF_final\"]] = [1]\n",
    "        else:\n",
    "            marked.loc[db_from_to.loc[ind, \"CIF_final\"]] = [0]\n",
    "    else:\n",
    "        marked.loc[db_from_to.loc[ind, \"CIF_init\"]] = [0]\n",
    "        marked.loc[db_from_to.loc[ind, \"CIF_final\"]] = [0]"
   ]
  },
  {
   "cell_type": "code",
   "execution_count": 25,
   "metadata": {},
   "outputs": [],
   "source": [
    "from pteproc_model import PreprocessingModel\n",
    "model = joblib.load(\"../qmof_datasets/normalizer/small_normalizer.pkl\")"
   ]
  },
  {
   "cell_type": "code",
   "execution_count": 26,
   "metadata": {},
   "outputs": [
    {
     "data": {
      "text/plain": [
       "(138, 1844)"
      ]
     },
     "execution_count": 26,
     "metadata": {},
     "output_type": "execute_result"
    }
   ],
   "source": [
    "data_main.shape"
   ]
  },
  {
   "cell_type": "code",
   "execution_count": 27,
   "metadata": {},
   "outputs": [],
   "source": [
    "main_dataset = data_main[model.cols]"
   ]
  },
  {
   "cell_type": "code",
   "execution_count": 28,
   "metadata": {},
   "outputs": [],
   "source": [
    "marked_dataset = pd.concat([data_main, marked], axis=1)"
   ]
  },
  {
   "cell_type": "code",
   "execution_count": 29,
   "metadata": {},
   "outputs": [],
   "source": [
    "marked_dataset = marked_dataset.loc[list({*list(main_dataset.index)} & {*list(marked.index)})]"
   ]
  },
  {
   "cell_type": "code",
   "execution_count": 30,
   "metadata": {},
   "outputs": [
    {
     "data": {
      "text/plain": [
       "(102, 1845)"
      ]
     },
     "execution_count": 30,
     "metadata": {},
     "output_type": "execute_result"
    }
   ],
   "source": [
    "marked_dataset.shape"
   ]
  },
  {
   "cell_type": "code",
   "execution_count": 31,
   "metadata": {},
   "outputs": [
    {
     "name": "stdout",
     "output_type": "stream",
     "text": [
      "|  target  |  counts  |\n",
      "-----------------------\n",
      "|   yes    |    65    |\n",
      "|    no    |    37    |\n",
      "total count:102\n"
     ]
    }
   ],
   "source": [
    "target, counts = np.unique(marked_dataset.target, return_counts=True)\n",
    "\n",
    "\n",
    "print(f\"|{'target':^10}|{'counts':^10}|\")\n",
    "print(f\"{'-':-^23}\")\n",
    "print(f\"|{'yes':^10}|{counts[0]:^10}|\")\n",
    "print(f\"|{'no':^10}|{counts[1]:^10}|\")\n",
    "print(f\"total count:{marked_dataset.__len__()}\")"
   ]
  },
  {
   "cell_type": "code",
   "execution_count": 32,
   "metadata": {},
   "outputs": [
    {
     "data": {
      "text/plain": [
       "(102, 1845)"
      ]
     },
     "execution_count": 32,
     "metadata": {},
     "output_type": "execute_result"
    }
   ],
   "source": [
    "marked_dataset.shape"
   ]
  },
  {
   "cell_type": "code",
   "execution_count": 33,
   "metadata": {},
   "outputs": [],
   "source": [
    "x, y = model.transform(marked_dataset.drop(['target'], axis=1)), marked_dataset['target']"
   ]
  },
  {
   "cell_type": "code",
   "execution_count": 34,
   "metadata": {},
   "outputs": [
    {
     "data": {
      "text/plain": [
       "((102, 993), (102, 993))"
      ]
     },
     "execution_count": 34,
     "metadata": {},
     "output_type": "execute_result"
    }
   ],
   "source": [
    "x.shape, x.dropna().shape"
   ]
  },
  {
   "cell_type": "code",
   "execution_count": 35,
   "metadata": {},
   "outputs": [
    {
     "data": {
      "text/html": [
       "<div>\n",
       "<style scoped>\n",
       "    .dataframe tbody tr th:only-of-type {\n",
       "        vertical-align: middle;\n",
       "    }\n",
       "\n",
       "    .dataframe tbody tr th {\n",
       "        vertical-align: top;\n",
       "    }\n",
       "\n",
       "    .dataframe thead th {\n",
       "        text-align: right;\n",
       "    }\n",
       "</style>\n",
       "<table border=\"1\" class=\"dataframe\">\n",
       "  <thead>\n",
       "    <tr style=\"text-align: right;\">\n",
       "      <th></th>\n",
       "      <th>pld</th>\n",
       "      <th>lcd</th>\n",
       "      <th>a</th>\n",
       "      <th>b</th>\n",
       "      <th>c</th>\n",
       "      <th>alpha</th>\n",
       "      <th>beta</th>\n",
       "      <th>gamma</th>\n",
       "      <th>volume</th>\n",
       "      <th>spacegroupNumber</th>\n",
       "      <th>...</th>\n",
       "      <th>Zagreb2</th>\n",
       "      <th>mZagreb1</th>\n",
       "      <th>mZagreb2</th>\n",
       "      <th>n_metals</th>\n",
       "      <th>Atomic_Number</th>\n",
       "      <th>Atomic_Weight</th>\n",
       "      <th>Atomic Radius</th>\n",
       "      <th>Mulliken EN</th>\n",
       "      <th>polarizability(A^3)</th>\n",
       "      <th>electron affinity(kJ/mol)</th>\n",
       "    </tr>\n",
       "  </thead>\n",
       "  <tbody>\n",
       "    <tr>\n",
       "      <th>toDUT-30Znafterphasetransition804771</th>\n",
       "      <td>5.310226e-05</td>\n",
       "      <td>6.594762e-05</td>\n",
       "      <td>1.004883e-04</td>\n",
       "      <td>1.519500e-04</td>\n",
       "      <td>1.519500e-04</td>\n",
       "      <td>0.000869</td>\n",
       "      <td>0.000734</td>\n",
       "      <td>0.000734</td>\n",
       "      <td>0.019167</td>\n",
       "      <td>0.001443</td>\n",
       "      <td>...</td>\n",
       "      <td>2.222021e-03</td>\n",
       "      <td>9.691059e-05</td>\n",
       "      <td>7.210609e-05</td>\n",
       "      <td>2.076656e-05</td>\n",
       "      <td>3.114983e-04</td>\n",
       "      <td>0.000679</td>\n",
       "      <td>1.474425e-05</td>\n",
       "      <td>4.620559e-05</td>\n",
       "      <td>6.645298e-05</td>\n",
       "      <td>-0.000623</td>\n",
       "    </tr>\n",
       "    <tr>\n",
       "      <th>to6cm6b05277_si_005-Copy</th>\n",
       "      <td>6.851157e-05</td>\n",
       "      <td>1.683577e-04</td>\n",
       "      <td>5.808509e-04</td>\n",
       "      <td>7.344746e-04</td>\n",
       "      <td>7.344746e-04</td>\n",
       "      <td>0.005291</td>\n",
       "      <td>0.003968</td>\n",
       "      <td>0.003968</td>\n",
       "      <td>0.139569</td>\n",
       "      <td>0.006482</td>\n",
       "      <td>...</td>\n",
       "      <td>3.571618e-03</td>\n",
       "      <td>3.270309e-04</td>\n",
       "      <td>1.469802e-04</td>\n",
       "      <td>4.409405e-05</td>\n",
       "      <td>1.234633e-03</td>\n",
       "      <td>0.002588</td>\n",
       "      <td>6.570014e-05</td>\n",
       "      <td>1.940138e-04</td>\n",
       "      <td>2.998395e-04</td>\n",
       "      <td>0.004939</td>\n",
       "    </tr>\n",
       "    <tr>\n",
       "      <th>2from2924308-Copy</th>\n",
       "      <td>8.421515e-05</td>\n",
       "      <td>1.162928e-04</td>\n",
       "      <td>1.849040e-04</td>\n",
       "      <td>3.578139e-04</td>\n",
       "      <td>3.578139e-04</td>\n",
       "      <td>0.002594</td>\n",
       "      <td>0.002309</td>\n",
       "      <td>0.002333</td>\n",
       "      <td>0.037257</td>\n",
       "      <td>0.000050</td>\n",
       "      <td>...</td>\n",
       "      <td>2.775961e-03</td>\n",
       "      <td>1.229592e-04</td>\n",
       "      <td>9.308778e-05</td>\n",
       "      <td>2.500866e-05</td>\n",
       "      <td>7.502597e-04</td>\n",
       "      <td>0.001635</td>\n",
       "      <td>3.551229e-05</td>\n",
       "      <td>1.112885e-04</td>\n",
       "      <td>1.600554e-04</td>\n",
       "      <td>-0.001501</td>\n",
       "    </tr>\n",
       "    <tr>\n",
       "      <th>to3D854461</th>\n",
       "      <td>3.950769e-05</td>\n",
       "      <td>4.985666e-05</td>\n",
       "      <td>5.167944e-05</td>\n",
       "      <td>1.928568e-04</td>\n",
       "      <td>1.928568e-04</td>\n",
       "      <td>0.000643</td>\n",
       "      <td>0.000643</td>\n",
       "      <td>0.000643</td>\n",
       "      <td>0.043597</td>\n",
       "      <td>0.000129</td>\n",
       "      <td>...</td>\n",
       "      <td>2.858811e-03</td>\n",
       "      <td>1.306814e-04</td>\n",
       "      <td>9.449958e-05</td>\n",
       "      <td>1.429405e-05</td>\n",
       "      <td>2.144108e-04</td>\n",
       "      <td>0.000467</td>\n",
       "      <td>1.014878e-05</td>\n",
       "      <td>3.180427e-05</td>\n",
       "      <td>4.574097e-05</td>\n",
       "      <td>-0.000429</td>\n",
       "    </tr>\n",
       "    <tr>\n",
       "      <th>toCo-MOF1912233</th>\n",
       "      <td>6.729968e-05</td>\n",
       "      <td>1.027378e-04</td>\n",
       "      <td>3.040749e-04</td>\n",
       "      <td>3.581234e-04</td>\n",
       "      <td>3.581234e-04</td>\n",
       "      <td>0.003506</td>\n",
       "      <td>0.003357</td>\n",
       "      <td>0.003213</td>\n",
       "      <td>0.028690</td>\n",
       "      <td>0.000043</td>\n",
       "      <td>...</td>\n",
       "      <td>3.085894e-03</td>\n",
       "      <td>1.702397e-04</td>\n",
       "      <td>1.132933e-04</td>\n",
       "      <td>8.631871e-05</td>\n",
       "      <td>1.165303e-03</td>\n",
       "      <td>0.002544</td>\n",
       "      <td>6.560222e-05</td>\n",
       "      <td>1.855852e-04</td>\n",
       "      <td>3.236952e-04</td>\n",
       "      <td>0.002762</td>\n",
       "    </tr>\n",
       "    <tr>\n",
       "      <th>...</th>\n",
       "      <td>...</td>\n",
       "      <td>...</td>\n",
       "      <td>...</td>\n",
       "      <td>...</td>\n",
       "      <td>...</td>\n",
       "      <td>...</td>\n",
       "      <td>...</td>\n",
       "      <td>...</td>\n",
       "      <td>...</td>\n",
       "      <td>...</td>\n",
       "      <td>...</td>\n",
       "      <td>...</td>\n",
       "      <td>...</td>\n",
       "      <td>...</td>\n",
       "      <td>...</td>\n",
       "      <td>...</td>\n",
       "      <td>...</td>\n",
       "      <td>...</td>\n",
       "      <td>...</td>\n",
       "      <td>...</td>\n",
       "      <td>...</td>\n",
       "    </tr>\n",
       "    <tr>\n",
       "      <th>toDUT-49Mn100K2014971</th>\n",
       "      <td>6.567838e-05</td>\n",
       "      <td>1.199719e-04</td>\n",
       "      <td>2.656982e-04</td>\n",
       "      <td>2.656982e-04</td>\n",
       "      <td>2.656982e-04</td>\n",
       "      <td>0.000522</td>\n",
       "      <td>0.000522</td>\n",
       "      <td>0.000522</td>\n",
       "      <td>0.557339</td>\n",
       "      <td>0.001189</td>\n",
       "      <td>...</td>\n",
       "      <td>2.047848e-03</td>\n",
       "      <td>8.959739e-05</td>\n",
       "      <td>6.123563e-05</td>\n",
       "      <td>1.160254e-05</td>\n",
       "      <td>1.450317e-04</td>\n",
       "      <td>0.000319</td>\n",
       "      <td>9.340044e-06</td>\n",
       "      <td>2.158072e-05</td>\n",
       "      <td>5.453194e-05</td>\n",
       "      <td>-0.000290</td>\n",
       "    </tr>\n",
       "    <tr>\n",
       "      <th>to5cm6b05277_si_004</th>\n",
       "      <td>1.123555e-04</td>\n",
       "      <td>1.427779e-04</td>\n",
       "      <td>5.158970e-04</td>\n",
       "      <td>7.725375e-04</td>\n",
       "      <td>7.725375e-04</td>\n",
       "      <td>0.005507</td>\n",
       "      <td>0.004130</td>\n",
       "      <td>0.004130</td>\n",
       "      <td>0.126595</td>\n",
       "      <td>0.008858</td>\n",
       "      <td>...</td>\n",
       "      <td>3.350278e-03</td>\n",
       "      <td>2.326582e-04</td>\n",
       "      <td>1.402324e-04</td>\n",
       "      <td>4.589422e-05</td>\n",
       "      <td>1.285038e-03</td>\n",
       "      <td>0.002694</td>\n",
       "      <td>6.838239e-05</td>\n",
       "      <td>2.019346e-04</td>\n",
       "      <td>3.120807e-04</td>\n",
       "      <td>0.005140</td>\n",
       "    </tr>\n",
       "    <tr>\n",
       "      <th>toVMOP-+1590348</th>\n",
       "      <td>1.092856e-07</td>\n",
       "      <td>2.343842e-07</td>\n",
       "      <td>4.987963e-07</td>\n",
       "      <td>4.987963e-07</td>\n",
       "      <td>4.987963e-07</td>\n",
       "      <td>0.000003</td>\n",
       "      <td>0.000003</td>\n",
       "      <td>0.000003</td>\n",
       "      <td>0.000179</td>\n",
       "      <td>0.000005</td>\n",
       "      <td>...</td>\n",
       "      <td>7.332323e-07</td>\n",
       "      <td>1.601334e-07</td>\n",
       "      <td>3.736726e-08</td>\n",
       "      <td>2.309393e-08</td>\n",
       "      <td>5.311604e-07</td>\n",
       "      <td>0.000001</td>\n",
       "      <td>3.949062e-08</td>\n",
       "      <td>8.313815e-08</td>\n",
       "      <td>2.863647e-07</td>\n",
       "      <td>0.000001</td>\n",
       "    </tr>\n",
       "    <tr>\n",
       "      <th>toSION-11503702</th>\n",
       "      <td>7.525768e-05</td>\n",
       "      <td>1.630270e-04</td>\n",
       "      <td>4.148402e-04</td>\n",
       "      <td>8.368563e-04</td>\n",
       "      <td>8.368563e-04</td>\n",
       "      <td>0.006163</td>\n",
       "      <td>0.005626</td>\n",
       "      <td>0.005626</td>\n",
       "      <td>0.085485</td>\n",
       "      <td>0.000875</td>\n",
       "      <td>...</td>\n",
       "      <td>4.375556e-03</td>\n",
       "      <td>3.941473e-04</td>\n",
       "      <td>1.823148e-04</td>\n",
       "      <td>6.250794e-05</td>\n",
       "      <td>4.063016e-03</td>\n",
       "      <td>0.009934</td>\n",
       "      <td>1.406429e-04</td>\n",
       "      <td>1.937746e-04</td>\n",
       "      <td>1.593952e-03</td>\n",
       "      <td>0.007001</td>\n",
       "    </tr>\n",
       "    <tr>\n",
       "      <th>toCCDC_2065040_JUK-20-nor</th>\n",
       "      <td>4.071423e-04</td>\n",
       "      <td>4.963735e-04</td>\n",
       "      <td>9.306684e-04</td>\n",
       "      <td>9.926083e-04</td>\n",
       "      <td>9.926083e-04</td>\n",
       "      <td>0.005583</td>\n",
       "      <td>0.005290</td>\n",
       "      <td>0.005290</td>\n",
       "      <td>0.318657</td>\n",
       "      <td>0.000764</td>\n",
       "      <td>...</td>\n",
       "      <td>3.380038e-03</td>\n",
       "      <td>2.073743e-04</td>\n",
       "      <td>1.485910e-04</td>\n",
       "      <td>5.878326e-05</td>\n",
       "      <td>2.821597e-03</td>\n",
       "      <td>0.006608</td>\n",
       "      <td>9.464106e-05</td>\n",
       "      <td>2.545315e-04</td>\n",
       "      <td>4.232395e-04</td>\n",
       "      <td>-0.004115</td>\n",
       "    </tr>\n",
       "  </tbody>\n",
       "</table>\n",
       "<p>102 rows × 993 columns</p>\n",
       "</div>"
      ],
      "text/plain": [
       "                                               pld           lcd  \\\n",
       "toDUT-30Znafterphasetransition804771  5.310226e-05  6.594762e-05   \n",
       "to6cm6b05277_si_005-Copy              6.851157e-05  1.683577e-04   \n",
       "2from2924308-Copy                     8.421515e-05  1.162928e-04   \n",
       "to3D854461                            3.950769e-05  4.985666e-05   \n",
       "toCo-MOF1912233                       6.729968e-05  1.027378e-04   \n",
       "...                                            ...           ...   \n",
       "toDUT-49Mn100K2014971                 6.567838e-05  1.199719e-04   \n",
       "to5cm6b05277_si_004                   1.123555e-04  1.427779e-04   \n",
       "toVMOP-+1590348                       1.092856e-07  2.343842e-07   \n",
       "toSION-11503702                       7.525768e-05  1.630270e-04   \n",
       "toCCDC_2065040_JUK-20-nor             4.071423e-04  4.963735e-04   \n",
       "\n",
       "                                                 a             b  \\\n",
       "toDUT-30Znafterphasetransition804771  1.004883e-04  1.519500e-04   \n",
       "to6cm6b05277_si_005-Copy              5.808509e-04  7.344746e-04   \n",
       "2from2924308-Copy                     1.849040e-04  3.578139e-04   \n",
       "to3D854461                            5.167944e-05  1.928568e-04   \n",
       "toCo-MOF1912233                       3.040749e-04  3.581234e-04   \n",
       "...                                            ...           ...   \n",
       "toDUT-49Mn100K2014971                 2.656982e-04  2.656982e-04   \n",
       "to5cm6b05277_si_004                   5.158970e-04  7.725375e-04   \n",
       "toVMOP-+1590348                       4.987963e-07  4.987963e-07   \n",
       "toSION-11503702                       4.148402e-04  8.368563e-04   \n",
       "toCCDC_2065040_JUK-20-nor             9.306684e-04  9.926083e-04   \n",
       "\n",
       "                                                 c     alpha      beta  \\\n",
       "toDUT-30Znafterphasetransition804771  1.519500e-04  0.000869  0.000734   \n",
       "to6cm6b05277_si_005-Copy              7.344746e-04  0.005291  0.003968   \n",
       "2from2924308-Copy                     3.578139e-04  0.002594  0.002309   \n",
       "to3D854461                            1.928568e-04  0.000643  0.000643   \n",
       "toCo-MOF1912233                       3.581234e-04  0.003506  0.003357   \n",
       "...                                            ...       ...       ...   \n",
       "toDUT-49Mn100K2014971                 2.656982e-04  0.000522  0.000522   \n",
       "to5cm6b05277_si_004                   7.725375e-04  0.005507  0.004130   \n",
       "toVMOP-+1590348                       4.987963e-07  0.000003  0.000003   \n",
       "toSION-11503702                       8.368563e-04  0.006163  0.005626   \n",
       "toCCDC_2065040_JUK-20-nor             9.926083e-04  0.005583  0.005290   \n",
       "\n",
       "                                         gamma    volume  spacegroupNumber  \\\n",
       "toDUT-30Znafterphasetransition804771  0.000734  0.019167          0.001443   \n",
       "to6cm6b05277_si_005-Copy              0.003968  0.139569          0.006482   \n",
       "2from2924308-Copy                     0.002333  0.037257          0.000050   \n",
       "to3D854461                            0.000643  0.043597          0.000129   \n",
       "toCo-MOF1912233                       0.003213  0.028690          0.000043   \n",
       "...                                        ...       ...               ...   \n",
       "toDUT-49Mn100K2014971                 0.000522  0.557339          0.001189   \n",
       "to5cm6b05277_si_004                   0.004130  0.126595          0.008858   \n",
       "toVMOP-+1590348                       0.000003  0.000179          0.000005   \n",
       "toSION-11503702                       0.005626  0.085485          0.000875   \n",
       "toCCDC_2065040_JUK-20-nor             0.005290  0.318657          0.000764   \n",
       "\n",
       "                                      ...       Zagreb2      mZagreb1  \\\n",
       "toDUT-30Znafterphasetransition804771  ...  2.222021e-03  9.691059e-05   \n",
       "to6cm6b05277_si_005-Copy              ...  3.571618e-03  3.270309e-04   \n",
       "2from2924308-Copy                     ...  2.775961e-03  1.229592e-04   \n",
       "to3D854461                            ...  2.858811e-03  1.306814e-04   \n",
       "toCo-MOF1912233                       ...  3.085894e-03  1.702397e-04   \n",
       "...                                   ...           ...           ...   \n",
       "toDUT-49Mn100K2014971                 ...  2.047848e-03  8.959739e-05   \n",
       "to5cm6b05277_si_004                   ...  3.350278e-03  2.326582e-04   \n",
       "toVMOP-+1590348                       ...  7.332323e-07  1.601334e-07   \n",
       "toSION-11503702                       ...  4.375556e-03  3.941473e-04   \n",
       "toCCDC_2065040_JUK-20-nor             ...  3.380038e-03  2.073743e-04   \n",
       "\n",
       "                                          mZagreb2      n_metals  \\\n",
       "toDUT-30Znafterphasetransition804771  7.210609e-05  2.076656e-05   \n",
       "to6cm6b05277_si_005-Copy              1.469802e-04  4.409405e-05   \n",
       "2from2924308-Copy                     9.308778e-05  2.500866e-05   \n",
       "to3D854461                            9.449958e-05  1.429405e-05   \n",
       "toCo-MOF1912233                       1.132933e-04  8.631871e-05   \n",
       "...                                            ...           ...   \n",
       "toDUT-49Mn100K2014971                 6.123563e-05  1.160254e-05   \n",
       "to5cm6b05277_si_004                   1.402324e-04  4.589422e-05   \n",
       "toVMOP-+1590348                       3.736726e-08  2.309393e-08   \n",
       "toSION-11503702                       1.823148e-04  6.250794e-05   \n",
       "toCCDC_2065040_JUK-20-nor             1.485910e-04  5.878326e-05   \n",
       "\n",
       "                                      Atomic_Number  Atomic_Weight  \\\n",
       "toDUT-30Znafterphasetransition804771   3.114983e-04       0.000679   \n",
       "to6cm6b05277_si_005-Copy               1.234633e-03       0.002588   \n",
       "2from2924308-Copy                      7.502597e-04       0.001635   \n",
       "to3D854461                             2.144108e-04       0.000467   \n",
       "toCo-MOF1912233                        1.165303e-03       0.002544   \n",
       "...                                             ...            ...   \n",
       "toDUT-49Mn100K2014971                  1.450317e-04       0.000319   \n",
       "to5cm6b05277_si_004                    1.285038e-03       0.002694   \n",
       "toVMOP-+1590348                        5.311604e-07       0.000001   \n",
       "toSION-11503702                        4.063016e-03       0.009934   \n",
       "toCCDC_2065040_JUK-20-nor              2.821597e-03       0.006608   \n",
       "\n",
       "                                      Atomic Radius   Mulliken EN  \\\n",
       "toDUT-30Znafterphasetransition804771   1.474425e-05  4.620559e-05   \n",
       "to6cm6b05277_si_005-Copy               6.570014e-05  1.940138e-04   \n",
       "2from2924308-Copy                      3.551229e-05  1.112885e-04   \n",
       "to3D854461                             1.014878e-05  3.180427e-05   \n",
       "toCo-MOF1912233                        6.560222e-05  1.855852e-04   \n",
       "...                                             ...           ...   \n",
       "toDUT-49Mn100K2014971                  9.340044e-06  2.158072e-05   \n",
       "to5cm6b05277_si_004                    6.838239e-05  2.019346e-04   \n",
       "toVMOP-+1590348                        3.949062e-08  8.313815e-08   \n",
       "toSION-11503702                        1.406429e-04  1.937746e-04   \n",
       "toCCDC_2065040_JUK-20-nor              9.464106e-05  2.545315e-04   \n",
       "\n",
       "                                      polarizability(A^3)  \\\n",
       "toDUT-30Znafterphasetransition804771         6.645298e-05   \n",
       "to6cm6b05277_si_005-Copy                     2.998395e-04   \n",
       "2from2924308-Copy                            1.600554e-04   \n",
       "to3D854461                                   4.574097e-05   \n",
       "toCo-MOF1912233                              3.236952e-04   \n",
       "...                                                   ...   \n",
       "toDUT-49Mn100K2014971                        5.453194e-05   \n",
       "to5cm6b05277_si_004                          3.120807e-04   \n",
       "toVMOP-+1590348                              2.863647e-07   \n",
       "toSION-11503702                              1.593952e-03   \n",
       "toCCDC_2065040_JUK-20-nor                    4.232395e-04   \n",
       "\n",
       "                                      electron affinity(kJ/mol)  \n",
       "toDUT-30Znafterphasetransition804771                  -0.000623  \n",
       "to6cm6b05277_si_005-Copy                               0.004939  \n",
       "2from2924308-Copy                                     -0.001501  \n",
       "to3D854461                                            -0.000429  \n",
       "toCo-MOF1912233                                        0.002762  \n",
       "...                                                         ...  \n",
       "toDUT-49Mn100K2014971                                 -0.000290  \n",
       "to5cm6b05277_si_004                                    0.005140  \n",
       "toVMOP-+1590348                                        0.000001  \n",
       "toSION-11503702                                        0.007001  \n",
       "toCCDC_2065040_JUK-20-nor                             -0.004115  \n",
       "\n",
       "[102 rows x 993 columns]"
      ]
     },
     "execution_count": 35,
     "metadata": {},
     "output_type": "execute_result"
    }
   ],
   "source": [
    "x"
   ]
  },
  {
   "cell_type": "code",
   "execution_count": 37,
   "metadata": {},
   "outputs": [],
   "source": [
    "x.to_csv(\"../main_datasets/dataset.csv\")"
   ]
  },
  {
   "cell_type": "code",
   "execution_count": null,
   "metadata": {},
   "outputs": [],
   "source": [
    "y.to_csv(\"../main_datasets/target.csv\")"
   ]
  },
  {
   "cell_type": "code",
   "execution_count": null,
   "metadata": {},
   "outputs": [],
   "source": []
  }
 ],
 "metadata": {
  "kernelspec": {
   "display_name": "Python 3",
   "language": "python",
   "name": "python3"
  },
  "language_info": {
   "codemirror_mode": {
    "name": "ipython",
    "version": 3
   },
   "file_extension": ".py",
   "mimetype": "text/x-python",
   "name": "python",
   "nbconvert_exporter": "python",
   "pygments_lexer": "ipython3",
   "version": "3.10.0"
  }
 },
 "nbformat": 4,
 "nbformat_minor": 2
}
