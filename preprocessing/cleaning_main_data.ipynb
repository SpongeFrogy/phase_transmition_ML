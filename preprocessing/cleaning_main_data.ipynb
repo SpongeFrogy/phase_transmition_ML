{
 "cells": [
  {
   "cell_type": "code",
   "execution_count": 1,
   "metadata": {},
   "outputs": [],
   "source": [
    "import pandas as pd\n",
    "import numpy as np\n",
    "import joblib"
   ]
  },
  {
   "cell_type": "code",
   "execution_count": 2,
   "metadata": {},
   "outputs": [],
   "source": [
    "mofid = pd.read_csv(\"../data/main_dataset_mofid_data_V2.csv\", index_col=0)\n",
    "mofid = mofid[[\"smiles_linkers\", \"smiles_nodes\", \"cifname\"]].set_index(\"cifname\")\n",
    "mordred = pd.read_csv(\"../data/all_f_main_dataset_mordred_V2.csv\", index_col=0)\n",
    "zeo = pd.read_csv(\"../data/main_dataset_zeo_V2.csv\", index_col=0)\n",
    "cif = pd.read_csv(\"../data/main_dataset_cif_property_V2.csv\", index_col=0)\n",
    "\n"
   ]
  },
  {
   "cell_type": "code",
   "execution_count": 3,
   "metadata": {},
   "outputs": [
    {
     "data": {
      "text/plain": [
       "((151, 1826), (162, 3), (165, 8))"
      ]
     },
     "execution_count": 3,
     "metadata": {},
     "output_type": "execute_result"
    }
   ],
   "source": [
    "mordred.shape, zeo.shape, cif.shape"
   ]
  },
  {
   "cell_type": "code",
   "execution_count": 4,
   "metadata": {},
   "outputs": [],
   "source": [
    "def make_mordred():\n",
    "    from mordred import Calculator, descriptors\n",
    "    from rdkit import Chem\n",
    "    mofid = pd.read_csv(\"../data/main_dataset_mofid_data_V2.csv\", index_col=0)\n",
    "    mofid = mofid[[\"smiles_linkers\", \"smiles_nodes\", \"cifname\"]].set_index(\"cifname\")\n",
    "    linkers = [mofid.smiles_linkers[i].replace(\"'\", \"\")[1:-1].split(\", \") for i in range(mofid.__len__())]\n",
    "    mols = [[Chem.MolFromSmiles(smi) for smi in smi_list] for smi_list in linkers]\n",
    "    calc = Calculator(descriptors, ignore_3D=False)\n",
    "    def f(mof):\n",
    "        try: return calc.pandas(mof)\n",
    "        except TypeError:\n",
    "            return None\n",
    "    dfs = [f(mof) for mof in mols]\n",
    "    data_mordred = pd.DataFrame(columns=dfs[0].columns)\n",
    "\n",
    "    for i, filename in enumerate(mofid.index):\n",
    "        try:\n",
    "            if linkers[i] != [\"\"]:\n",
    "                data_mordred.loc[filename] = dfs[i].mean()\n",
    "        except AttributeError:\n",
    "            print(f\"{filename:_^20}\")\n",
    "    data_mordred = data_mordred.set_index(data_mordred.index.map(lambda name: name.replace(\" \", \"\")))\n",
    "    #data_mordred.to_csv(\"../data/all_f_main_dataset_mordred_V2.csv\")\n",
    "    return data_mordred\n",
    "\n"
   ]
  },
  {
   "cell_type": "code",
   "execution_count": 5,
   "metadata": {},
   "outputs": [],
   "source": [
    "def metal_from_node(node: str):\n",
    "    import re\n",
    "    \"\"\"\n",
    "    input: smilesNodes: str\n",
    "    return: \n",
    "    'metals' in node: list\n",
    "    'unique' types of metals: np.array, dtype='<U2'\n",
    "    'count' of unique: np.array, dtype=int\n",
    "    \"\"\"\n",
    "    # \"O[Zr]123(O)[OH]4[Zr]56([O]3[Zr]37([OH]2[Zr]28([O]1[Zr]14([O]6[Zr]([OH]53)([OH]21)([O]78)(O)O)([OH2])([OH2])O)[OH2])([OH2])([OH2])O)[OH2]\"\n",
    "    node = node.replace(\"OH\", \"\").replace(\"O\", \"\")\n",
    "    node = node.replace(\"[\", \"\").replace(\"]\", \"\").replace(\")\", \"\").replace(\"(\", \"\").replace(\",\", \"\")\n",
    "    node = re.sub(r\"\\d\", \"\", node) # replace numbers\n",
    "    #print(node)\n",
    "    # \"ZrZrZrZrZrZr\"\n",
    "    start_cut = 0\n",
    "    metals = []\n",
    "    for i, char in enumerate(node[1:]):\n",
    "        if not char.islower():\n",
    "            metals.append(node[start_cut:i+1])\n",
    "            start_cut = i+1\n",
    "    metals.append(node[start_cut:])\n",
    "    unique, counts = np.unique(np.array(metals), return_counts=True)\n",
    "    return metals, unique, counts"
   ]
  },
  {
   "cell_type": "code",
   "execution_count": 6,
   "metadata": {},
   "outputs": [],
   "source": [
    "elemental_descriptors = pd.read_csv(\"../data/elemental_descriptors.csv\")"
   ]
  },
  {
   "cell_type": "code",
   "execution_count": 7,
   "metadata": {},
   "outputs": [
    {
     "name": "stdout",
     "output_type": "stream",
     "text": [
      "Error with []\n",
      "Error with []\n",
      "Error with []\n",
      "Error with []\n",
      "Error with ['*']\n",
      "Error with ['*']\n",
      "Error with []\n",
      "Error with []\n",
      "Error with ['*']\n",
      "Error with ['*']\n",
      "Error with ['*']\n",
      "Error with ['*']\n",
      "Error with ['*']\n",
      "Error with ['*']\n",
      "Error with ['*']\n"
     ]
    }
   ],
   "source": [
    "node_descriptors = pd.DataFrame(columns=(\"n_metals\", 'n_types_metals', 'Atomic_Number', 'Atomic_Weight', 'Atomic Radius',\n",
    "       'Mulliken EN', 'polarizability(A^3)', 'electron affinity(kJ/mol)'))\n",
    "\n",
    "d = ['Atomic_Number', 'Atomic_Weight', 'Atomic Radius',\n",
    "       'Mulliken EN', 'polarizability(A^3)', 'electron affinity(kJ/mol)']\n",
    "\n",
    "for filename, node in zip(mofid.index.map(lambda name: name.replace(\" \", \"\").replace(\".cif\", \"\")), mofid[\"smiles_nodes\"]):\n",
    "    try:\n",
    "       metals, unique, count = metal_from_node(node.replace(\"'\", \"\").replace(\" \", \"\").replace(\"%\", \"\"))\n",
    "       #print(metals)\n",
    "       n_metals = count.sum()\n",
    "       n_metals_types = count.__len__()\n",
    "       df = pd.DataFrame(columns=d, index=[range(count.sum())])\n",
    "       for metal in metals:\n",
    "          #print(metal)\n",
    "          df.loc[len(df)] = elemental_descriptors.loc[elemental_descriptors[\"Symbol\"] == metal].loc[:,d].iloc[0]\n",
    "       node_descriptors.loc[filename] = n_metals, n_metals_types, *df.mean().array\n",
    "    except IndexError:\n",
    "       print(f\"Error with {node}\")"
   ]
  },
  {
   "cell_type": "code",
   "execution_count": 8,
   "metadata": {},
   "outputs": [],
   "source": [
    "node_descriptors = node_descriptors.loc[node_descriptors[\"n_types_metals\"] == 1.]\n"
   ]
  },
  {
   "cell_type": "code",
   "execution_count": 9,
   "metadata": {},
   "outputs": [],
   "source": [
    "zeo.index = zeo.index.map(lambda s: s.replace(\".res\", \"\"))"
   ]
  },
  {
   "cell_type": "code",
   "execution_count": 10,
   "metadata": {},
   "outputs": [],
   "source": [
    "data_pld_lcd = zeo[[\"num1\", \"num2\"]].rename({\"num1\": \"lcd\", \"num2\": \"pld\"}, axis=1)"
   ]
  },
  {
   "cell_type": "code",
   "execution_count": 11,
   "metadata": {},
   "outputs": [],
   "source": [
    "cif = cif.rename({ \"sg_number\": \"spacegroupNumber\"}, axis=1)"
   ]
  },
  {
   "cell_type": "code",
   "execution_count": 12,
   "metadata": {},
   "outputs": [],
   "source": [
    "cif.index = cif.index.map(lambda name: name.replace(\" \", \"\").replace(\".cif\", \"\"))"
   ]
  },
  {
   "cell_type": "code",
   "execution_count": 13,
   "metadata": {},
   "outputs": [],
   "source": [
    "cif = cif.set_index(cif.index.map(lambda name: name.replace(\"(\", \"\").replace(\")\", \"\")))"
   ]
  },
  {
   "cell_type": "code",
   "execution_count": 14,
   "metadata": {},
   "outputs": [],
   "source": [
    "node_descriptors = node_descriptors.set_index(node_descriptors.index.map(lambda name: name.replace(\"(\", \"\").replace(\")\", \"\")))"
   ]
  },
  {
   "cell_type": "code",
   "execution_count": 15,
   "metadata": {},
   "outputs": [],
   "source": [
    "data_pld_lcd = data_pld_lcd.set_index(data_pld_lcd.index.map(lambda name: name.replace(\"(\", \"\").replace(\")\", \"\")))"
   ]
  },
  {
   "cell_type": "code",
   "execution_count": 16,
   "metadata": {},
   "outputs": [],
   "source": [
    "mordred = mordred.set_index(mordred.index.map(lambda name: name.replace(\"(\", \"\").replace(\")\", \"\")))"
   ]
  },
  {
   "cell_type": "code",
   "execution_count": 17,
   "metadata": {},
   "outputs": [
    {
     "data": {
      "text/plain": [
       "((162, 2), (165, 8), (151, 1826), (145, 8))"
      ]
     },
     "execution_count": 17,
     "metadata": {},
     "output_type": "execute_result"
    }
   ],
   "source": [
    "data_pld_lcd.shape, cif.shape, mordred.shape, node_descriptors.shape"
   ]
  },
  {
   "cell_type": "code",
   "execution_count": 18,
   "metadata": {},
   "outputs": [],
   "source": [
    "data_main = pd.concat([data_pld_lcd, cif, mordred, node_descriptors], axis=1)"
   ]
  },
  {
   "cell_type": "code",
   "execution_count": 19,
   "metadata": {},
   "outputs": [],
   "source": [
    "data_main = data_main.loc[list({*list(data_pld_lcd.index)} & {*list(\n",
    "    cif.index)} & {*list(mordred.index)} & {*list(node_descriptors.index)})]\n"
   ]
  },
  {
   "cell_type": "code",
   "execution_count": 20,
   "metadata": {},
   "outputs": [
    {
     "data": {
      "text/plain": [
       "(138, 1844)"
      ]
     },
     "execution_count": 20,
     "metadata": {},
     "output_type": "execute_result"
    }
   ],
   "source": [
    "data_main.shape"
   ]
  },
  {
   "cell_type": "code",
   "execution_count": 21,
   "metadata": {},
   "outputs": [],
   "source": [
    "# data_main.to_csv(\"../data/main_no_marked.csv\")"
   ]
  },
  {
   "cell_type": "code",
   "execution_count": 22,
   "metadata": {},
   "outputs": [],
   "source": [
    "db_from_to = pd.read_csv(\"../data/DB_main_with_SG_for_EDA.csv\", sep=';')"
   ]
  },
  {
   "cell_type": "code",
   "execution_count": 23,
   "metadata": {},
   "outputs": [],
   "source": [
    "db_from_to.CIF_init = db_from_to.CIF_init.map(lambda name: name.replace(\"(\", \"\").replace(\")\", \"\").replace(\" \", \"\").replace(\".cif\", \"\"))\n",
    "db_from_to.CIF_final = db_from_to.CIF_final.map(lambda name: name.replace(\"(\", \"\").replace(\")\", \"\").replace(\" \", \"\").replace(\".cif\", \"\"))\n"
   ]
  },
  {
   "cell_type": "code",
   "execution_count": 24,
   "metadata": {},
   "outputs": [],
   "source": [
    "marked = pd.DataFrame(columns=[\"target\"])\n",
    "\n",
    "for ind in db_from_to.index:\n",
    "    if db_from_to.loc[ind, \"Stimuli\"].find(\"solvent\") != -1:\n",
    "        marked.loc[db_from_to.loc[ind, \"CIF_init\"]] = [1]\n",
    "        if db_from_to.loc[ind, \"Reversible\"] == \"yes\":\n",
    "            marked.loc[db_from_to.loc[ind, \"CIF_final\"]] = [1]\n",
    "        else:\n",
    "            marked.loc[db_from_to.loc[ind, \"CIF_final\"]] = [0]\n",
    "    else:\n",
    "        marked.loc[db_from_to.loc[ind, \"CIF_init\"]] = [0]\n",
    "        marked.loc[db_from_to.loc[ind, \"CIF_final\"]] = [0]"
   ]
  },
  {
   "cell_type": "code",
   "execution_count": 25,
   "metadata": {},
   "outputs": [],
   "source": [
    "from pteproc_model import PreprocessingModel\n",
    "model = joblib.load(\"../qmof_datasets/scaler.pkl\")"
   ]
  },
  {
   "cell_type": "code",
   "execution_count": 26,
   "metadata": {},
   "outputs": [
    {
     "data": {
      "text/plain": [
       "(138, 1844)"
      ]
     },
     "execution_count": 26,
     "metadata": {},
     "output_type": "execute_result"
    }
   ],
   "source": [
    "data_main.shape"
   ]
  },
  {
   "cell_type": "code",
   "execution_count": 27,
   "metadata": {},
   "outputs": [],
   "source": [
    "main_dataset = data_main[model.cols]"
   ]
  },
  {
   "cell_type": "code",
   "execution_count": 28,
   "metadata": {},
   "outputs": [],
   "source": [
    "marked_dataset = pd.concat([data_main, marked], axis=1)"
   ]
  },
  {
   "cell_type": "code",
   "execution_count": 29,
   "metadata": {},
   "outputs": [],
   "source": [
    "marked_dataset = marked_dataset.loc[list({*list(main_dataset.index)} & {*list(marked.index)})]"
   ]
  },
  {
   "cell_type": "code",
   "execution_count": 30,
   "metadata": {},
   "outputs": [
    {
     "data": {
      "text/plain": [
       "(102, 1845)"
      ]
     },
     "execution_count": 30,
     "metadata": {},
     "output_type": "execute_result"
    }
   ],
   "source": [
    "marked_dataset.shape"
   ]
  },
  {
   "cell_type": "code",
   "execution_count": 31,
   "metadata": {},
   "outputs": [
    {
     "name": "stdout",
     "output_type": "stream",
     "text": [
      "|  target  |  counts  |\n",
      "-----------------------\n",
      "|   yes    |    65    |\n",
      "|    no    |    37    |\n",
      "total count:102\n"
     ]
    }
   ],
   "source": [
    "target, counts = np.unique(marked_dataset.target, return_counts=True)\n",
    "\n",
    "\n",
    "print(f\"|{'target':^10}|{'counts':^10}|\")\n",
    "print(f\"{'-':-^23}\")\n",
    "print(f\"|{'yes':^10}|{counts[0]:^10}|\")\n",
    "print(f\"|{'no':^10}|{counts[1]:^10}|\")\n",
    "print(f\"total count:{marked_dataset.__len__()}\")"
   ]
  },
  {
   "cell_type": "code",
   "execution_count": 32,
   "metadata": {},
   "outputs": [
    {
     "data": {
      "text/plain": [
       "(102, 1845)"
      ]
     },
     "execution_count": 32,
     "metadata": {},
     "output_type": "execute_result"
    }
   ],
   "source": [
    "marked_dataset.shape"
   ]
  },
  {
   "cell_type": "code",
   "execution_count": 33,
   "metadata": {},
   "outputs": [],
   "source": [
    "x, y = model.transform(marked_dataset.drop(['target'], axis=1)), marked_dataset['target']"
   ]
  },
  {
   "cell_type": "code",
   "execution_count": 34,
   "metadata": {},
   "outputs": [
    {
     "data": {
      "text/plain": [
       "((102, 1018), (102, 1018))"
      ]
     },
     "execution_count": 34,
     "metadata": {},
     "output_type": "execute_result"
    }
   ],
   "source": [
    "x.shape, x.dropna().shape"
   ]
  },
  {
   "cell_type": "code",
   "execution_count": 35,
   "metadata": {},
   "outputs": [
    {
     "data": {
      "text/html": [
       "<div>\n",
       "<style scoped>\n",
       "    .dataframe tbody tr th:only-of-type {\n",
       "        vertical-align: middle;\n",
       "    }\n",
       "\n",
       "    .dataframe tbody tr th {\n",
       "        vertical-align: top;\n",
       "    }\n",
       "\n",
       "    .dataframe thead th {\n",
       "        text-align: right;\n",
       "    }\n",
       "</style>\n",
       "<table border=\"1\" class=\"dataframe\">\n",
       "  <thead>\n",
       "    <tr style=\"text-align: right;\">\n",
       "      <th></th>\n",
       "      <th>pld</th>\n",
       "      <th>lcd</th>\n",
       "      <th>a</th>\n",
       "      <th>b</th>\n",
       "      <th>c</th>\n",
       "      <th>alpha</th>\n",
       "      <th>beta</th>\n",
       "      <th>gamma</th>\n",
       "      <th>volume</th>\n",
       "      <th>spacegroupNumber</th>\n",
       "      <th>...</th>\n",
       "      <th>Zagreb2</th>\n",
       "      <th>mZagreb1</th>\n",
       "      <th>mZagreb2</th>\n",
       "      <th>n_metals</th>\n",
       "      <th>Atomic_Number</th>\n",
       "      <th>Atomic_Weight</th>\n",
       "      <th>Atomic Radius</th>\n",
       "      <th>Mulliken EN</th>\n",
       "      <th>polarizability(A^3)</th>\n",
       "      <th>electron affinity(kJ/mol)</th>\n",
       "    </tr>\n",
       "  </thead>\n",
       "  <tbody>\n",
       "    <tr>\n",
       "      <th>to210KsameSG1970082</th>\n",
       "      <td>0.202146</td>\n",
       "      <td>0.200505</td>\n",
       "      <td>0.369028</td>\n",
       "      <td>0.342157</td>\n",
       "      <td>0.195549</td>\n",
       "      <td>0.578143</td>\n",
       "      <td>0.526960</td>\n",
       "      <td>0.441638</td>\n",
       "      <td>0.075362</td>\n",
       "      <td>0.497797</td>\n",
       "      <td>...</td>\n",
       "      <td>0.094290</td>\n",
       "      <td>0.053253</td>\n",
       "      <td>0.101504</td>\n",
       "      <td>0.000000</td>\n",
       "      <td>0.258427</td>\n",
       "      <td>0.211634</td>\n",
       "      <td>0.211111</td>\n",
       "      <td>0.707904</td>\n",
       "      <td>0.065693</td>\n",
       "      <td>0.120567</td>\n",
       "    </tr>\n",
       "    <tr>\n",
       "      <th>2to2byimmercingfirstcompound1816056</th>\n",
       "      <td>0.032034</td>\n",
       "      <td>0.030193</td>\n",
       "      <td>0.076350</td>\n",
       "      <td>0.360270</td>\n",
       "      <td>0.207890</td>\n",
       "      <td>0.578143</td>\n",
       "      <td>0.612888</td>\n",
       "      <td>0.441638</td>\n",
       "      <td>0.040851</td>\n",
       "      <td>0.057269</td>\n",
       "      <td>...</td>\n",
       "      <td>0.189907</td>\n",
       "      <td>0.252766</td>\n",
       "      <td>0.194236</td>\n",
       "      <td>0.090909</td>\n",
       "      <td>0.303371</td>\n",
       "      <td>0.252930</td>\n",
       "      <td>0.133333</td>\n",
       "      <td>0.841924</td>\n",
       "      <td>0.029197</td>\n",
       "      <td>0.014184</td>\n",
       "    </tr>\n",
       "    <tr>\n",
       "      <th>initial11455983</th>\n",
       "      <td>0.030778</td>\n",
       "      <td>0.027614</td>\n",
       "      <td>0.122849</td>\n",
       "      <td>0.164124</td>\n",
       "      <td>0.074248</td>\n",
       "      <td>0.608598</td>\n",
       "      <td>0.533957</td>\n",
       "      <td>0.480133</td>\n",
       "      <td>0.012791</td>\n",
       "      <td>0.004405</td>\n",
       "      <td>...</td>\n",
       "      <td>0.223108</td>\n",
       "      <td>0.244703</td>\n",
       "      <td>0.208020</td>\n",
       "      <td>0.181818</td>\n",
       "      <td>0.303371</td>\n",
       "      <td>0.252930</td>\n",
       "      <td>0.133333</td>\n",
       "      <td>0.841924</td>\n",
       "      <td>0.029197</td>\n",
       "      <td>0.014184</td>\n",
       "    </tr>\n",
       "    <tr>\n",
       "      <th>tod-flexMOFdried975745</th>\n",
       "      <td>0.039053</td>\n",
       "      <td>0.109046</td>\n",
       "      <td>0.176314</td>\n",
       "      <td>0.326269</td>\n",
       "      <td>0.184724</td>\n",
       "      <td>0.376411</td>\n",
       "      <td>0.373636</td>\n",
       "      <td>0.296054</td>\n",
       "      <td>0.053910</td>\n",
       "      <td>0.004405</td>\n",
       "      <td>...</td>\n",
       "      <td>0.188579</td>\n",
       "      <td>0.252766</td>\n",
       "      <td>0.192982</td>\n",
       "      <td>0.000000</td>\n",
       "      <td>0.280899</td>\n",
       "      <td>0.223951</td>\n",
       "      <td>0.172222</td>\n",
       "      <td>0.824742</td>\n",
       "      <td>0.036496</td>\n",
       "      <td>0.258156</td>\n",
       "    </tr>\n",
       "    <tr>\n",
       "      <th>fromDUT-49Ni296K1957605</th>\n",
       "      <td>0.434608</td>\n",
       "      <td>0.600470</td>\n",
       "      <td>0.901168</td>\n",
       "      <td>0.884815</td>\n",
       "      <td>0.565286</td>\n",
       "      <td>0.256326</td>\n",
       "      <td>0.090555</td>\n",
       "      <td>0.062258</td>\n",
       "      <td>0.519782</td>\n",
       "      <td>0.986784</td>\n",
       "      <td>...</td>\n",
       "      <td>0.164675</td>\n",
       "      <td>0.145509</td>\n",
       "      <td>0.137845</td>\n",
       "      <td>0.090909</td>\n",
       "      <td>0.280899</td>\n",
       "      <td>0.223951</td>\n",
       "      <td>0.172222</td>\n",
       "      <td>0.824742</td>\n",
       "      <td>0.036496</td>\n",
       "      <td>0.258156</td>\n",
       "    </tr>\n",
       "    <tr>\n",
       "      <th>...</th>\n",
       "      <td>...</td>\n",
       "      <td>...</td>\n",
       "      <td>...</td>\n",
       "      <td>...</td>\n",
       "      <td>...</td>\n",
       "      <td>...</td>\n",
       "      <td>...</td>\n",
       "      <td>...</td>\n",
       "      <td>...</td>\n",
       "      <td>...</td>\n",
       "      <td>...</td>\n",
       "      <td>...</td>\n",
       "      <td>...</td>\n",
       "      <td>...</td>\n",
       "      <td>...</td>\n",
       "      <td>...</td>\n",
       "      <td>...</td>\n",
       "      <td>...</td>\n",
       "      <td>...</td>\n",
       "      <td>...</td>\n",
       "      <td>...</td>\n",
       "    </tr>\n",
       "    <tr>\n",
       "      <th>to5cm6b05277_si_004</th>\n",
       "      <td>0.075459</td>\n",
       "      <td>0.062853</td>\n",
       "      <td>0.238585</td>\n",
       "      <td>0.375420</td>\n",
       "      <td>0.218213</td>\n",
       "      <td>0.899960</td>\n",
       "      <td>0.526960</td>\n",
       "      <td>0.441638</td>\n",
       "      <td>0.052769</td>\n",
       "      <td>0.845815</td>\n",
       "      <td>...</td>\n",
       "      <td>0.095618</td>\n",
       "      <td>0.103131</td>\n",
       "      <td>0.092732</td>\n",
       "      <td>0.000000</td>\n",
       "      <td>0.280899</td>\n",
       "      <td>0.223951</td>\n",
       "      <td>0.172222</td>\n",
       "      <td>0.824742</td>\n",
       "      <td>0.036496</td>\n",
       "      <td>0.258156</td>\n",
       "    </tr>\n",
       "    <tr>\n",
       "      <th>to3D854461</th>\n",
       "      <td>0.179439</td>\n",
       "      <td>0.182541</td>\n",
       "      <td>0.117070</td>\n",
       "      <td>0.693169</td>\n",
       "      <td>0.434709</td>\n",
       "      <td>0.578143</td>\n",
       "      <td>0.526960</td>\n",
       "      <td>0.441638</td>\n",
       "      <td>0.120914</td>\n",
       "      <td>0.074890</td>\n",
       "      <td>...</td>\n",
       "      <td>0.529880</td>\n",
       "      <td>0.459966</td>\n",
       "      <td>0.551378</td>\n",
       "      <td>0.090909</td>\n",
       "      <td>0.303371</td>\n",
       "      <td>0.252930</td>\n",
       "      <td>0.133333</td>\n",
       "      <td>0.841924</td>\n",
       "      <td>0.029197</td>\n",
       "      <td>0.014184</td>\n",
       "    </tr>\n",
       "    <tr>\n",
       "      <th>toDUT-49Mn100K2014971</th>\n",
       "      <td>0.375046</td>\n",
       "      <td>0.606945</td>\n",
       "      <td>1.285803</td>\n",
       "      <td>1.282136</td>\n",
       "      <td>0.835997</td>\n",
       "      <td>0.578143</td>\n",
       "      <td>0.526960</td>\n",
       "      <td>0.441638</td>\n",
       "      <td>1.955746</td>\n",
       "      <td>0.898678</td>\n",
       "      <td>...</td>\n",
       "      <td>0.467463</td>\n",
       "      <td>0.383274</td>\n",
       "      <td>0.431078</td>\n",
       "      <td>0.090909</td>\n",
       "      <td>0.247191</td>\n",
       "      <td>0.207700</td>\n",
       "      <td>0.238889</td>\n",
       "      <td>0.591065</td>\n",
       "      <td>0.083942</td>\n",
       "      <td>0.028369</td>\n",
       "    </tr>\n",
       "    <tr>\n",
       "      <th>toDUT-49Co100K2014974</th>\n",
       "      <td>0.387600</td>\n",
       "      <td>0.606856</td>\n",
       "      <td>1.282166</td>\n",
       "      <td>1.278379</td>\n",
       "      <td>0.833438</td>\n",
       "      <td>0.578143</td>\n",
       "      <td>0.526960</td>\n",
       "      <td>0.441638</td>\n",
       "      <td>1.940386</td>\n",
       "      <td>0.898678</td>\n",
       "      <td>...</td>\n",
       "      <td>0.467463</td>\n",
       "      <td>0.383274</td>\n",
       "      <td>0.431078</td>\n",
       "      <td>0.090909</td>\n",
       "      <td>0.269663</td>\n",
       "      <td>0.224989</td>\n",
       "      <td>0.188889</td>\n",
       "      <td>0.790378</td>\n",
       "      <td>0.049270</td>\n",
       "      <td>0.190071</td>\n",
       "    </tr>\n",
       "    <tr>\n",
       "      <th>toSTA-26Zr-Cchangedsymmetry1571656</th>\n",
       "      <td>0.142458</td>\n",
       "      <td>0.371909</td>\n",
       "      <td>0.745470</td>\n",
       "      <td>0.736100</td>\n",
       "      <td>0.463960</td>\n",
       "      <td>0.586168</td>\n",
       "      <td>0.526960</td>\n",
       "      <td>0.441638</td>\n",
       "      <td>0.455084</td>\n",
       "      <td>0.273128</td>\n",
       "      <td>...</td>\n",
       "      <td>0.299469</td>\n",
       "      <td>0.323645</td>\n",
       "      <td>0.303258</td>\n",
       "      <td>0.454545</td>\n",
       "      <td>0.415730</td>\n",
       "      <td>0.364723</td>\n",
       "      <td>0.488889</td>\n",
       "      <td>0.563574</td>\n",
       "      <td>0.239051</td>\n",
       "      <td>0.157447</td>\n",
       "    </tr>\n",
       "  </tbody>\n",
       "</table>\n",
       "<p>102 rows × 1018 columns</p>\n",
       "</div>"
      ],
      "text/plain": [
       "                                          pld       lcd         a         b  \\\n",
       "to210KsameSG1970082                  0.202146  0.200505  0.369028  0.342157   \n",
       "2to2byimmercingfirstcompound1816056  0.032034  0.030193  0.076350  0.360270   \n",
       "initial11455983                      0.030778  0.027614  0.122849  0.164124   \n",
       "tod-flexMOFdried975745               0.039053  0.109046  0.176314  0.326269   \n",
       "fromDUT-49Ni296K1957605              0.434608  0.600470  0.901168  0.884815   \n",
       "...                                       ...       ...       ...       ...   \n",
       "to5cm6b05277_si_004                  0.075459  0.062853  0.238585  0.375420   \n",
       "to3D854461                           0.179439  0.182541  0.117070  0.693169   \n",
       "toDUT-49Mn100K2014971                0.375046  0.606945  1.285803  1.282136   \n",
       "toDUT-49Co100K2014974                0.387600  0.606856  1.282166  1.278379   \n",
       "toSTA-26Zr-Cchangedsymmetry1571656   0.142458  0.371909  0.745470  0.736100   \n",
       "\n",
       "                                            c     alpha      beta     gamma  \\\n",
       "to210KsameSG1970082                  0.195549  0.578143  0.526960  0.441638   \n",
       "2to2byimmercingfirstcompound1816056  0.207890  0.578143  0.612888  0.441638   \n",
       "initial11455983                      0.074248  0.608598  0.533957  0.480133   \n",
       "tod-flexMOFdried975745               0.184724  0.376411  0.373636  0.296054   \n",
       "fromDUT-49Ni296K1957605              0.565286  0.256326  0.090555  0.062258   \n",
       "...                                       ...       ...       ...       ...   \n",
       "to5cm6b05277_si_004                  0.218213  0.899960  0.526960  0.441638   \n",
       "to3D854461                           0.434709  0.578143  0.526960  0.441638   \n",
       "toDUT-49Mn100K2014971                0.835997  0.578143  0.526960  0.441638   \n",
       "toDUT-49Co100K2014974                0.833438  0.578143  0.526960  0.441638   \n",
       "toSTA-26Zr-Cchangedsymmetry1571656   0.463960  0.586168  0.526960  0.441638   \n",
       "\n",
       "                                       volume  spacegroupNumber  ...  \\\n",
       "to210KsameSG1970082                  0.075362          0.497797  ...   \n",
       "2to2byimmercingfirstcompound1816056  0.040851          0.057269  ...   \n",
       "initial11455983                      0.012791          0.004405  ...   \n",
       "tod-flexMOFdried975745               0.053910          0.004405  ...   \n",
       "fromDUT-49Ni296K1957605              0.519782          0.986784  ...   \n",
       "...                                       ...               ...  ...   \n",
       "to5cm6b05277_si_004                  0.052769          0.845815  ...   \n",
       "to3D854461                           0.120914          0.074890  ...   \n",
       "toDUT-49Mn100K2014971                1.955746          0.898678  ...   \n",
       "toDUT-49Co100K2014974                1.940386          0.898678  ...   \n",
       "toSTA-26Zr-Cchangedsymmetry1571656   0.455084          0.273128  ...   \n",
       "\n",
       "                                      Zagreb2  mZagreb1  mZagreb2  n_metals  \\\n",
       "to210KsameSG1970082                  0.094290  0.053253  0.101504  0.000000   \n",
       "2to2byimmercingfirstcompound1816056  0.189907  0.252766  0.194236  0.090909   \n",
       "initial11455983                      0.223108  0.244703  0.208020  0.181818   \n",
       "tod-flexMOFdried975745               0.188579  0.252766  0.192982  0.000000   \n",
       "fromDUT-49Ni296K1957605              0.164675  0.145509  0.137845  0.090909   \n",
       "...                                       ...       ...       ...       ...   \n",
       "to5cm6b05277_si_004                  0.095618  0.103131  0.092732  0.000000   \n",
       "to3D854461                           0.529880  0.459966  0.551378  0.090909   \n",
       "toDUT-49Mn100K2014971                0.467463  0.383274  0.431078  0.090909   \n",
       "toDUT-49Co100K2014974                0.467463  0.383274  0.431078  0.090909   \n",
       "toSTA-26Zr-Cchangedsymmetry1571656   0.299469  0.323645  0.303258  0.454545   \n",
       "\n",
       "                                     Atomic_Number  Atomic_Weight  \\\n",
       "to210KsameSG1970082                       0.258427       0.211634   \n",
       "2to2byimmercingfirstcompound1816056       0.303371       0.252930   \n",
       "initial11455983                           0.303371       0.252930   \n",
       "tod-flexMOFdried975745                    0.280899       0.223951   \n",
       "fromDUT-49Ni296K1957605                   0.280899       0.223951   \n",
       "...                                            ...            ...   \n",
       "to5cm6b05277_si_004                       0.280899       0.223951   \n",
       "to3D854461                                0.303371       0.252930   \n",
       "toDUT-49Mn100K2014971                     0.247191       0.207700   \n",
       "toDUT-49Co100K2014974                     0.269663       0.224989   \n",
       "toSTA-26Zr-Cchangedsymmetry1571656        0.415730       0.364723   \n",
       "\n",
       "                                     Atomic Radius  Mulliken EN  \\\n",
       "to210KsameSG1970082                       0.211111     0.707904   \n",
       "2to2byimmercingfirstcompound1816056       0.133333     0.841924   \n",
       "initial11455983                           0.133333     0.841924   \n",
       "tod-flexMOFdried975745                    0.172222     0.824742   \n",
       "fromDUT-49Ni296K1957605                   0.172222     0.824742   \n",
       "...                                            ...          ...   \n",
       "to5cm6b05277_si_004                       0.172222     0.824742   \n",
       "to3D854461                                0.133333     0.841924   \n",
       "toDUT-49Mn100K2014971                     0.238889     0.591065   \n",
       "toDUT-49Co100K2014974                     0.188889     0.790378   \n",
       "toSTA-26Zr-Cchangedsymmetry1571656        0.488889     0.563574   \n",
       "\n",
       "                                     polarizability(A^3)  \\\n",
       "to210KsameSG1970082                             0.065693   \n",
       "2to2byimmercingfirstcompound1816056             0.029197   \n",
       "initial11455983                                 0.029197   \n",
       "tod-flexMOFdried975745                          0.036496   \n",
       "fromDUT-49Ni296K1957605                         0.036496   \n",
       "...                                                  ...   \n",
       "to5cm6b05277_si_004                             0.036496   \n",
       "to3D854461                                      0.029197   \n",
       "toDUT-49Mn100K2014971                           0.083942   \n",
       "toDUT-49Co100K2014974                           0.049270   \n",
       "toSTA-26Zr-Cchangedsymmetry1571656              0.239051   \n",
       "\n",
       "                                     electron affinity(kJ/mol)  \n",
       "to210KsameSG1970082                                   0.120567  \n",
       "2to2byimmercingfirstcompound1816056                   0.014184  \n",
       "initial11455983                                       0.014184  \n",
       "tod-flexMOFdried975745                                0.258156  \n",
       "fromDUT-49Ni296K1957605                               0.258156  \n",
       "...                                                        ...  \n",
       "to5cm6b05277_si_004                                   0.258156  \n",
       "to3D854461                                            0.014184  \n",
       "toDUT-49Mn100K2014971                                 0.028369  \n",
       "toDUT-49Co100K2014974                                 0.190071  \n",
       "toSTA-26Zr-Cchangedsymmetry1571656                    0.157447  \n",
       "\n",
       "[102 rows x 1018 columns]"
      ]
     },
     "execution_count": 35,
     "metadata": {},
     "output_type": "execute_result"
    }
   ],
   "source": [
    "x"
   ]
  },
  {
   "cell_type": "code",
   "execution_count": 36,
   "metadata": {},
   "outputs": [],
   "source": [
    "x.to_csv(\"../main_datasets/dataset.csv\")"
   ]
  },
  {
   "cell_type": "code",
   "execution_count": 37,
   "metadata": {},
   "outputs": [],
   "source": [
    "y.to_csv(\"../main_datasets/target.csv\")"
   ]
  },
  {
   "cell_type": "code",
   "execution_count": null,
   "metadata": {},
   "outputs": [],
   "source": []
  }
 ],
 "metadata": {
  "kernelspec": {
   "display_name": "Python 3",
   "language": "python",
   "name": "python3"
  },
  "language_info": {
   "codemirror_mode": {
    "name": "ipython",
    "version": 3
   },
   "file_extension": ".py",
   "mimetype": "text/x-python",
   "name": "python",
   "nbconvert_exporter": "python",
   "pygments_lexer": "ipython3",
   "version": "3.10.11"
  }
 },
 "nbformat": 4,
 "nbformat_minor": 2
}
