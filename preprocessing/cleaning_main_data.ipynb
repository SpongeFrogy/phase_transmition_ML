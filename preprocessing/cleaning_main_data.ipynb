{
 "cells": [
  {
   "cell_type": "code",
   "execution_count": 1,
   "metadata": {},
   "outputs": [],
   "source": [
    "import pandas as pd\n",
    "import numpy as np\n",
    "import joblib"
   ]
  },
  {
   "cell_type": "code",
   "execution_count": 2,
   "metadata": {},
   "outputs": [],
   "source": [
    "mofid = pd.read_csv(\"../data/main_dataset_mofid_data_V2.csv\", index_col=0)\n",
    "mofid = mofid[[\"smiles_linkers\", \"smiles_nodes\", \"cifname\"]].set_index(\"cifname\")\n",
    "mordred = pd.read_csv(\"../data/all_f_main_dataset_mordred_V2.csv\", index_col=0)\n",
    "zeo = pd.read_csv(\"../data/main_dataset_zeo_V2.csv\", index_col=0)\n",
    "cif = pd.read_csv(\"../data/main_dataset_cif_property_V2.csv\", index_col=0)\n",
    "\n"
   ]
  },
  {
   "cell_type": "code",
   "execution_count": 3,
   "metadata": {},
   "outputs": [
    {
     "data": {
      "text/plain": [
       "((151, 1826), (162, 3), (165, 8))"
      ]
     },
     "execution_count": 3,
     "metadata": {},
     "output_type": "execute_result"
    }
   ],
   "source": [
    "mordred.shape, zeo.shape, cif.shape"
   ]
  },
  {
   "cell_type": "code",
   "execution_count": 4,
   "metadata": {},
   "outputs": [],
   "source": [
    "def make_mordred():\n",
    "    from mordred import Calculator, descriptors\n",
    "    from rdkit import Chem\n",
    "    mofid = pd.read_csv(\"../data/main_dataset_mofid_data_V2.csv\", index_col=0)\n",
    "    mofid = mofid[[\"smiles_linkers\", \"smiles_nodes\", \"cifname\"]].set_index(\"cifname\")\n",
    "    linkers = [mofid.smiles_linkers[i].replace(\"'\", \"\")[1:-1].split(\", \") for i in range(mofid.__len__())]\n",
    "    mols = [[Chem.MolFromSmiles(smi) for smi in smi_list] for smi_list in linkers]\n",
    "    calc = Calculator(descriptors, ignore_3D=False)\n",
    "    def f(mof):\n",
    "        try: return calc.pandas(mof)\n",
    "        except TypeError:\n",
    "            return None\n",
    "    dfs = [f(mof) for mof in mols]\n",
    "    data_mordred = pd.DataFrame(columns=dfs[0].columns)\n",
    "\n",
    "    for i, filename in enumerate(mofid.index):\n",
    "        try:\n",
    "            if linkers[i] != [\"\"]:\n",
    "                data_mordred.loc[filename] = dfs[i].mean()\n",
    "        except AttributeError:\n",
    "            print(f\"{filename:_^20}\")\n",
    "    data_mordred = data_mordred.set_index(data_mordred.index.map(lambda name: name.replace(\" \", \"\")))\n",
    "    #data_mordred.to_csv(\"../data/all_f_main_dataset_mordred_V2.csv\")\n",
    "    return data_mordred\n",
    "\n"
   ]
  },
  {
   "cell_type": "code",
   "execution_count": 5,
   "metadata": {},
   "outputs": [],
   "source": [
    "def metal_from_node(node: str):\n",
    "    import re\n",
    "    \"\"\"\n",
    "    input: smilesNodes: str\n",
    "    return: \n",
    "    'metals' in node: list\n",
    "    'unique' types of metals: np.array, dtype='<U2'\n",
    "    'count' of unique: np.array, dtype=int\n",
    "    \"\"\"\n",
    "    # \"O[Zr]123(O)[OH]4[Zr]56([O]3[Zr]37([OH]2[Zr]28([O]1[Zr]14([O]6[Zr]([OH]53)([OH]21)([O]78)(O)O)([OH2])([OH2])O)[OH2])([OH2])([OH2])O)[OH2]\"\n",
    "    node = node.replace(\"OH\", \"\").replace(\"O\", \"\")\n",
    "    node = node.replace(\"[\", \"\").replace(\"]\", \"\").replace(\")\", \"\").replace(\"(\", \"\").replace(\",\", \"\")\n",
    "    node = re.sub(r\"\\d\", \"\", node) # replace numbers\n",
    "    #print(node)\n",
    "    # \"ZrZrZrZrZrZr\"\n",
    "    start_cut = 0\n",
    "    metals = []\n",
    "    for i, char in enumerate(node[1:]):\n",
    "        if not char.islower():\n",
    "            metals.append(node[start_cut:i+1])\n",
    "            start_cut = i+1\n",
    "    metals.append(node[start_cut:])\n",
    "    unique, counts = np.unique(np.array(metals), return_counts=True)\n",
    "    return metals, unique, counts"
   ]
  },
  {
   "cell_type": "code",
   "execution_count": 6,
   "metadata": {},
   "outputs": [],
   "source": [
    "elemental_descriptors = pd.read_csv(\"../data/elemental_descriptors.csv\")"
   ]
  },
  {
   "cell_type": "code",
   "execution_count": 7,
   "metadata": {},
   "outputs": [
    {
     "name": "stdout",
     "output_type": "stream",
     "text": [
      "Error with []\n",
      "Error with []\n",
      "Error with []\n",
      "Error with []\n",
      "Error with ['*']\n",
      "Error with ['*']\n",
      "Error with []\n",
      "Error with []\n",
      "Error with ['*']\n",
      "Error with ['*']\n",
      "Error with ['*']\n",
      "Error with ['*']\n",
      "Error with ['*']\n",
      "Error with ['*']\n",
      "Error with ['*']\n"
     ]
    }
   ],
   "source": [
    "node_descriptors = pd.DataFrame(columns=(\"n_metals\", 'n_types_metals', 'Atomic_Number', 'Atomic_Weight', 'Atomic Radius',\n",
    "       'Mulliken EN', 'polarizability(A^3)', 'electron affinity(kJ/mol)'))\n",
    "\n",
    "d = ['Atomic_Number', 'Atomic_Weight', 'Atomic Radius',\n",
    "       'Mulliken EN', 'polarizability(A^3)', 'electron affinity(kJ/mol)']\n",
    "\n",
    "for filename, node in zip(mofid.index.map(lambda name: name.replace(\" \", \"\").replace(\".cif\", \"\")), mofid[\"smiles_nodes\"]):\n",
    "    try:\n",
    "       metals, unique, count = metal_from_node(node.replace(\"'\", \"\").replace(\" \", \"\").replace(\"%\", \"\"))\n",
    "       #print(metals)\n",
    "       n_metals = count.sum()\n",
    "       n_metals_types = count.__len__()\n",
    "       df = pd.DataFrame(columns=d, index=[range(count.sum())])\n",
    "       for metal in metals:\n",
    "          #print(metal)\n",
    "          df.loc[len(df)] = elemental_descriptors.loc[elemental_descriptors[\"Symbol\"] == metal].loc[:,d].iloc[0]\n",
    "       node_descriptors.loc[filename] = n_metals, n_metals_types, *df.mean().array\n",
    "    except IndexError:\n",
    "       print(f\"Error with {node}\")"
   ]
  },
  {
   "cell_type": "code",
   "execution_count": 8,
   "metadata": {},
   "outputs": [],
   "source": [
    "node_descriptors = node_descriptors.loc[node_descriptors[\"n_types_metals\"] == 1.]\n"
   ]
  },
  {
   "cell_type": "code",
   "execution_count": 9,
   "metadata": {},
   "outputs": [],
   "source": [
    "zeo.index = zeo.index.map(lambda s: s.replace(\".res\", \"\"))"
   ]
  },
  {
   "cell_type": "code",
   "execution_count": 10,
   "metadata": {},
   "outputs": [],
   "source": [
    "data_pld_lcd = zeo[[\"num1\", \"num2\"]].rename({\"num1\": \"lcd\", \"num2\": \"pld\"}, axis=1)"
   ]
  },
  {
   "cell_type": "code",
   "execution_count": 11,
   "metadata": {},
   "outputs": [],
   "source": [
    "cif = cif.rename({ \"sg_number\": \"spacegroupNumber\"}, axis=1)"
   ]
  },
  {
   "cell_type": "code",
   "execution_count": 12,
   "metadata": {},
   "outputs": [],
   "source": [
    "cif.index = cif.index.map(lambda name: name.replace(\" \", \"\").replace(\".cif\", \"\"))"
   ]
  },
  {
   "cell_type": "code",
   "execution_count": 13,
   "metadata": {},
   "outputs": [],
   "source": [
    "cif = cif.set_index(cif.index.map(lambda name: name.replace(\"(\", \"\").replace(\")\", \"\")))"
   ]
  },
  {
   "cell_type": "code",
   "execution_count": 14,
   "metadata": {},
   "outputs": [],
   "source": [
    "node_descriptors = node_descriptors.set_index(node_descriptors.index.map(lambda name: name.replace(\"(\", \"\").replace(\")\", \"\")))"
   ]
  },
  {
   "cell_type": "code",
   "execution_count": 15,
   "metadata": {},
   "outputs": [],
   "source": [
    "data_pld_lcd = data_pld_lcd.set_index(data_pld_lcd.index.map(lambda name: name.replace(\"(\", \"\").replace(\")\", \"\")))"
   ]
  },
  {
   "cell_type": "code",
   "execution_count": 16,
   "metadata": {},
   "outputs": [],
   "source": [
    "mordred = mordred.set_index(mordred.index.map(lambda name: name.replace(\"(\", \"\").replace(\")\", \"\")))"
   ]
  },
  {
   "cell_type": "code",
   "execution_count": 17,
   "metadata": {},
   "outputs": [
    {
     "data": {
      "text/plain": [
       "((162, 2), (165, 8), (151, 1826), (145, 8))"
      ]
     },
     "execution_count": 17,
     "metadata": {},
     "output_type": "execute_result"
    }
   ],
   "source": [
    "data_pld_lcd.shape, cif.shape, mordred.shape, node_descriptors.shape"
   ]
  },
  {
   "cell_type": "code",
   "execution_count": 18,
   "metadata": {},
   "outputs": [],
   "source": [
    "data_main = pd.concat([data_pld_lcd, cif, mordred, node_descriptors], axis=1)"
   ]
  },
  {
   "cell_type": "code",
   "execution_count": 19,
   "metadata": {},
   "outputs": [],
   "source": [
    "data_main = data_main.loc[list({*list(data_pld_lcd.index)} & {*list(\n",
    "    cif.index)} & {*list(mordred.index)} & {*list(node_descriptors.index)})]\n"
   ]
  },
  {
   "cell_type": "code",
   "execution_count": 20,
   "metadata": {},
   "outputs": [
    {
     "data": {
      "text/plain": [
       "(138, 1844)"
      ]
     },
     "execution_count": 20,
     "metadata": {},
     "output_type": "execute_result"
    }
   ],
   "source": [
    "data_main.shape"
   ]
  },
  {
   "cell_type": "code",
   "execution_count": 21,
   "metadata": {},
   "outputs": [],
   "source": [
    "# data_main.to_csv(\"../data/main_no_marked.csv\")"
   ]
  },
  {
   "cell_type": "code",
   "execution_count": 21,
   "metadata": {},
   "outputs": [],
   "source": [
    "db_from_to = pd.read_csv(\"../data/DB_main_with_SG_for_EDA.csv\", sep=';')"
   ]
  },
  {
   "cell_type": "code",
   "execution_count": 22,
   "metadata": {},
   "outputs": [],
   "source": [
    "db_from_to.CIF_init = db_from_to.CIF_init.map(lambda name: name.replace(\"(\", \"\").replace(\")\", \"\").replace(\" \", \"\").replace(\".cif\", \"\"))\n",
    "db_from_to.CIF_final = db_from_to.CIF_final.map(lambda name: name.replace(\"(\", \"\").replace(\")\", \"\").replace(\" \", \"\").replace(\".cif\", \"\"))\n"
   ]
  },
  {
   "cell_type": "code",
   "execution_count": 23,
   "metadata": {},
   "outputs": [],
   "source": [
    "marked = pd.DataFrame(columns=[\"target\"])\n",
    "\n",
    "for ind in db_from_to.index:\n",
    "    if db_from_to.loc[ind, \"Stimuli\"].find(\"solvent\") != -1:\n",
    "        marked.loc[db_from_to.loc[ind, \"CIF_init\"]] = [1]\n",
    "        if db_from_to.loc[ind, \"Reversible\"] == \"yes\":\n",
    "            marked.loc[db_from_to.loc[ind, \"CIF_final\"]] = [1]\n",
    "        else:\n",
    "            marked.loc[db_from_to.loc[ind, \"CIF_final\"]] = [0]\n",
    "    else:\n",
    "        marked.loc[db_from_to.loc[ind, \"CIF_init\"]] = [0]\n",
    "        marked.loc[db_from_to.loc[ind, \"CIF_final\"]] = [0]"
   ]
  },
  {
   "cell_type": "code",
   "execution_count": 24,
   "metadata": {},
   "outputs": [],
   "source": [
    "from pteproc_model import PreprocessingModel\n",
    "model = joblib.load(\"../qmof_datasets/scaler.pkl\")"
   ]
  },
  {
   "cell_type": "code",
   "execution_count": 25,
   "metadata": {},
   "outputs": [
    {
     "data": {
      "text/plain": [
       "(138, 1844)"
      ]
     },
     "execution_count": 25,
     "metadata": {},
     "output_type": "execute_result"
    }
   ],
   "source": [
    "data_main.shape"
   ]
  },
  {
   "cell_type": "code",
   "execution_count": 26,
   "metadata": {},
   "outputs": [],
   "source": [
    "main_dataset = data_main[model.cols]"
   ]
  },
  {
   "cell_type": "code",
   "execution_count": 27,
   "metadata": {},
   "outputs": [],
   "source": [
    "marked_dataset = pd.concat([data_main, marked], axis=1)"
   ]
  },
  {
   "cell_type": "code",
   "execution_count": 28,
   "metadata": {},
   "outputs": [],
   "source": [
    "marked_dataset = marked_dataset.loc[list({*list(main_dataset.index)} & {*list(marked.index)})]"
   ]
  },
  {
   "cell_type": "code",
   "execution_count": 29,
   "metadata": {},
   "outputs": [
    {
     "data": {
      "text/plain": [
       "(102, 1845)"
      ]
     },
     "execution_count": 29,
     "metadata": {},
     "output_type": "execute_result"
    }
   ],
   "source": [
    "marked_dataset.shape"
   ]
  },
  {
   "cell_type": "code",
   "execution_count": 30,
   "metadata": {},
   "outputs": [
    {
     "name": "stdout",
     "output_type": "stream",
     "text": [
      "|  target  |  counts  |\n",
      "-----------------------\n",
      "|   yes    |    65    |\n",
      "|    no    |    37    |\n",
      "total count:102\n"
     ]
    }
   ],
   "source": [
    "target, counts = np.unique(marked_dataset.target, return_counts=True)\n",
    "\n",
    "\n",
    "print(f\"|{'target':^10}|{'counts':^10}|\")\n",
    "print(f\"{'-':-^23}\")\n",
    "print(f\"|{'yes':^10}|{counts[0]:^10}|\")\n",
    "print(f\"|{'no':^10}|{counts[1]:^10}|\")\n",
    "print(f\"total count:{marked_dataset.__len__()}\")"
   ]
  },
  {
   "cell_type": "code",
   "execution_count": 31,
   "metadata": {},
   "outputs": [
    {
     "data": {
      "text/plain": [
       "(102, 1845)"
      ]
     },
     "execution_count": 31,
     "metadata": {},
     "output_type": "execute_result"
    }
   ],
   "source": [
    "marked_dataset.shape"
   ]
  },
  {
   "cell_type": "code",
   "execution_count": 32,
   "metadata": {},
   "outputs": [],
   "source": [
    "x, y = model.transform(marked_dataset.drop(['target'], axis=1)), marked_dataset['target']"
   ]
  },
  {
   "cell_type": "code",
   "execution_count": 33,
   "metadata": {},
   "outputs": [
    {
     "data": {
      "text/plain": [
       "((102, 1018), (102, 1018))"
      ]
     },
     "execution_count": 33,
     "metadata": {},
     "output_type": "execute_result"
    }
   ],
   "source": [
    "x.shape, x.dropna().shape"
   ]
  },
  {
   "cell_type": "code",
   "execution_count": 34,
   "metadata": {},
   "outputs": [
    {
     "data": {
      "text/html": [
       "<div>\n",
       "<style scoped>\n",
       "    .dataframe tbody tr th:only-of-type {\n",
       "        vertical-align: middle;\n",
       "    }\n",
       "\n",
       "    .dataframe tbody tr th {\n",
       "        vertical-align: top;\n",
       "    }\n",
       "\n",
       "    .dataframe thead th {\n",
       "        text-align: right;\n",
       "    }\n",
       "</style>\n",
       "<table border=\"1\" class=\"dataframe\">\n",
       "  <thead>\n",
       "    <tr style=\"text-align: right;\">\n",
       "      <th></th>\n",
       "      <th>pld</th>\n",
       "      <th>lcd</th>\n",
       "      <th>a</th>\n",
       "      <th>b</th>\n",
       "      <th>c</th>\n",
       "      <th>alpha</th>\n",
       "      <th>beta</th>\n",
       "      <th>gamma</th>\n",
       "      <th>volume</th>\n",
       "      <th>spacegroupNumber</th>\n",
       "      <th>...</th>\n",
       "      <th>Zagreb2</th>\n",
       "      <th>mZagreb1</th>\n",
       "      <th>mZagreb2</th>\n",
       "      <th>n_metals</th>\n",
       "      <th>Atomic_Number</th>\n",
       "      <th>Atomic_Weight</th>\n",
       "      <th>Atomic Radius</th>\n",
       "      <th>Mulliken EN</th>\n",
       "      <th>polarizability(A^3)</th>\n",
       "      <th>electron affinity(kJ/mol)</th>\n",
       "    </tr>\n",
       "  </thead>\n",
       "  <tbody>\n",
       "    <tr>\n",
       "      <th>fromHIMS-741884101</th>\n",
       "      <td>0.031719</td>\n",
       "      <td>0.047007</td>\n",
       "      <td>0.323099</td>\n",
       "      <td>0.343711</td>\n",
       "      <td>0.196608</td>\n",
       "      <td>0.578143</td>\n",
       "      <td>0.526960</td>\n",
       "      <td>0.737429</td>\n",
       "      <td>0.094810</td>\n",
       "      <td>0.057269</td>\n",
       "      <td>...</td>\n",
       "      <td>0.102258</td>\n",
       "      <td>0.159760</td>\n",
       "      <td>0.095238</td>\n",
       "      <td>0.000000</td>\n",
       "      <td>0.303371</td>\n",
       "      <td>0.252930</td>\n",
       "      <td>0.133333</td>\n",
       "      <td>0.841924</td>\n",
       "      <td>0.029197</td>\n",
       "      <td>0.014184</td>\n",
       "    </tr>\n",
       "    <tr>\n",
       "      <th>fromCo-MOF1912199</th>\n",
       "      <td>0.310553</td>\n",
       "      <td>0.277210</td>\n",
       "      <td>0.185526</td>\n",
       "      <td>0.258676</td>\n",
       "      <td>0.138670</td>\n",
       "      <td>0.565539</td>\n",
       "      <td>0.405081</td>\n",
       "      <td>0.335686</td>\n",
       "      <td>0.029039</td>\n",
       "      <td>0.048458</td>\n",
       "      <td>...</td>\n",
       "      <td>0.124834</td>\n",
       "      <td>0.132758</td>\n",
       "      <td>0.112782</td>\n",
       "      <td>0.090909</td>\n",
       "      <td>0.269663</td>\n",
       "      <td>0.224989</td>\n",
       "      <td>0.188889</td>\n",
       "      <td>0.790378</td>\n",
       "      <td>0.049270</td>\n",
       "      <td>0.190071</td>\n",
       "    </tr>\n",
       "    <tr>\n",
       "      <th>to41483725</th>\n",
       "      <td>0.070586</td>\n",
       "      <td>0.051880</td>\n",
       "      <td>0.063596</td>\n",
       "      <td>0.192017</td>\n",
       "      <td>0.093253</td>\n",
       "      <td>0.564966</td>\n",
       "      <td>0.455128</td>\n",
       "      <td>0.259261</td>\n",
       "      <td>0.018138</td>\n",
       "      <td>0.061674</td>\n",
       "      <td>...</td>\n",
       "      <td>0.094290</td>\n",
       "      <td>0.093381</td>\n",
       "      <td>0.105263</td>\n",
       "      <td>0.000000</td>\n",
       "      <td>0.292135</td>\n",
       "      <td>0.244950</td>\n",
       "      <td>0.150000</td>\n",
       "      <td>0.852234</td>\n",
       "      <td>0.034672</td>\n",
       "      <td>0.268085</td>\n",
       "    </tr>\n",
       "    <tr>\n",
       "      <th>toDMFsolvatedFebdp298K1058448</th>\n",
       "      <td>0.310180</td>\n",
       "      <td>0.270086</td>\n",
       "      <td>0.304245</td>\n",
       "      <td>0.268205</td>\n",
       "      <td>0.145163</td>\n",
       "      <td>0.578143</td>\n",
       "      <td>0.526960</td>\n",
       "      <td>0.559041</td>\n",
       "      <td>0.047179</td>\n",
       "      <td>0.083700</td>\n",
       "      <td>...</td>\n",
       "      <td>0.128818</td>\n",
       "      <td>0.059254</td>\n",
       "      <td>0.115288</td>\n",
       "      <td>0.000000</td>\n",
       "      <td>0.258427</td>\n",
       "      <td>0.211634</td>\n",
       "      <td>0.211111</td>\n",
       "      <td>0.707904</td>\n",
       "      <td>0.065693</td>\n",
       "      <td>0.120567</td>\n",
       "    </tr>\n",
       "    <tr>\n",
       "      <th>toja054913a_si_004</th>\n",
       "      <td>0.061306</td>\n",
       "      <td>0.035478</td>\n",
       "      <td>0.004061</td>\n",
       "      <td>0.461969</td>\n",
       "      <td>0.277182</td>\n",
       "      <td>0.578143</td>\n",
       "      <td>0.526960</td>\n",
       "      <td>0.441638</td>\n",
       "      <td>0.023942</td>\n",
       "      <td>0.515419</td>\n",
       "      <td>...</td>\n",
       "      <td>0.025232</td>\n",
       "      <td>0.000000</td>\n",
       "      <td>0.011278</td>\n",
       "      <td>0.000000</td>\n",
       "      <td>0.494382</td>\n",
       "      <td>0.436748</td>\n",
       "      <td>0.261111</td>\n",
       "      <td>0.838488</td>\n",
       "      <td>0.056569</td>\n",
       "      <td>0.278014</td>\n",
       "    </tr>\n",
       "    <tr>\n",
       "      <th>...</th>\n",
       "      <td>...</td>\n",
       "      <td>...</td>\n",
       "      <td>...</td>\n",
       "      <td>...</td>\n",
       "      <td>...</td>\n",
       "      <td>...</td>\n",
       "      <td>...</td>\n",
       "      <td>...</td>\n",
       "      <td>...</td>\n",
       "      <td>...</td>\n",
       "      <td>...</td>\n",
       "      <td>...</td>\n",
       "      <td>...</td>\n",
       "      <td>...</td>\n",
       "      <td>...</td>\n",
       "      <td>...</td>\n",
       "      <td>...</td>\n",
       "      <td>...</td>\n",
       "      <td>...</td>\n",
       "      <td>...</td>\n",
       "      <td>...</td>\n",
       "    </tr>\n",
       "    <tr>\n",
       "      <th>fromja054913a_si_001</th>\n",
       "      <td>0.024630</td>\n",
       "      <td>0.005715</td>\n",
       "      <td>0.002488</td>\n",
       "      <td>0.505917</td>\n",
       "      <td>0.307126</td>\n",
       "      <td>0.573998</td>\n",
       "      <td>0.458433</td>\n",
       "      <td>0.382066</td>\n",
       "      <td>0.027336</td>\n",
       "      <td>0.616740</td>\n",
       "      <td>...</td>\n",
       "      <td>0.025232</td>\n",
       "      <td>0.000000</td>\n",
       "      <td>0.011278</td>\n",
       "      <td>0.000000</td>\n",
       "      <td>0.494382</td>\n",
       "      <td>0.436748</td>\n",
       "      <td>0.261111</td>\n",
       "      <td>0.838488</td>\n",
       "      <td>0.056569</td>\n",
       "      <td>0.278014</td>\n",
       "    </tr>\n",
       "    <tr>\n",
       "      <th>fromDUT-49Mn296K1957604</th>\n",
       "      <td>0.438876</td>\n",
       "      <td>0.588326</td>\n",
       "      <td>0.906739</td>\n",
       "      <td>0.890570</td>\n",
       "      <td>0.569206</td>\n",
       "      <td>0.256326</td>\n",
       "      <td>0.090555</td>\n",
       "      <td>0.062258</td>\n",
       "      <td>0.528548</td>\n",
       "      <td>0.986784</td>\n",
       "      <td>...</td>\n",
       "      <td>0.164675</td>\n",
       "      <td>0.145509</td>\n",
       "      <td>0.137845</td>\n",
       "      <td>0.090909</td>\n",
       "      <td>0.247191</td>\n",
       "      <td>0.207700</td>\n",
       "      <td>0.238889</td>\n",
       "      <td>0.591065</td>\n",
       "      <td>0.083942</td>\n",
       "      <td>0.028369</td>\n",
       "    </tr>\n",
       "    <tr>\n",
       "      <th>toDUT-49Cd100K2014972</th>\n",
       "      <td>0.361228</td>\n",
       "      <td>0.616473</td>\n",
       "      <td>1.295803</td>\n",
       "      <td>1.292465</td>\n",
       "      <td>0.843035</td>\n",
       "      <td>0.578143</td>\n",
       "      <td>0.526960</td>\n",
       "      <td>0.441638</td>\n",
       "      <td>1.998402</td>\n",
       "      <td>0.898678</td>\n",
       "      <td>...</td>\n",
       "      <td>0.467463</td>\n",
       "      <td>0.383274</td>\n",
       "      <td>0.431078</td>\n",
       "      <td>0.090909</td>\n",
       "      <td>0.505618</td>\n",
       "      <td>0.456406</td>\n",
       "      <td>0.238889</td>\n",
       "      <td>0.800687</td>\n",
       "      <td>0.043796</td>\n",
       "      <td>0.000000</td>\n",
       "    </tr>\n",
       "    <tr>\n",
       "      <th>toja500530y_si_003</th>\n",
       "      <td>0.056664</td>\n",
       "      <td>0.079060</td>\n",
       "      <td>0.324083</td>\n",
       "      <td>0.384788</td>\n",
       "      <td>0.224596</td>\n",
       "      <td>0.578143</td>\n",
       "      <td>0.526960</td>\n",
       "      <td>0.519525</td>\n",
       "      <td>0.093453</td>\n",
       "      <td>0.017621</td>\n",
       "      <td>...</td>\n",
       "      <td>0.104914</td>\n",
       "      <td>0.086255</td>\n",
       "      <td>0.096491</td>\n",
       "      <td>0.090909</td>\n",
       "      <td>0.303371</td>\n",
       "      <td>0.252930</td>\n",
       "      <td>0.133333</td>\n",
       "      <td>0.841924</td>\n",
       "      <td>0.029197</td>\n",
       "      <td>0.014184</td>\n",
       "    </tr>\n",
       "    <tr>\n",
       "      <th>toZn-1withDMF238859</th>\n",
       "      <td>0.042502</td>\n",
       "      <td>0.082972</td>\n",
       "      <td>0.332939</td>\n",
       "      <td>0.297846</td>\n",
       "      <td>0.165359</td>\n",
       "      <td>0.640396</td>\n",
       "      <td>0.915476</td>\n",
       "      <td>0.779388</td>\n",
       "      <td>0.041045</td>\n",
       "      <td>0.612335</td>\n",
       "      <td>...</td>\n",
       "      <td>0.081009</td>\n",
       "      <td>0.113257</td>\n",
       "      <td>0.077694</td>\n",
       "      <td>0.090909</td>\n",
       "      <td>0.303371</td>\n",
       "      <td>0.252930</td>\n",
       "      <td>0.133333</td>\n",
       "      <td>0.841924</td>\n",
       "      <td>0.029197</td>\n",
       "      <td>0.014184</td>\n",
       "    </tr>\n",
       "  </tbody>\n",
       "</table>\n",
       "<p>102 rows × 1018 columns</p>\n",
       "</div>"
      ],
      "text/plain": [
       "                                    pld       lcd         a         b  \\\n",
       "fromHIMS-741884101             0.031719  0.047007  0.323099  0.343711   \n",
       "fromCo-MOF1912199              0.310553  0.277210  0.185526  0.258676   \n",
       "to41483725                     0.070586  0.051880  0.063596  0.192017   \n",
       "toDMFsolvatedFebdp298K1058448  0.310180  0.270086  0.304245  0.268205   \n",
       "toja054913a_si_004             0.061306  0.035478  0.004061  0.461969   \n",
       "...                                 ...       ...       ...       ...   \n",
       "fromja054913a_si_001           0.024630  0.005715  0.002488  0.505917   \n",
       "fromDUT-49Mn296K1957604        0.438876  0.588326  0.906739  0.890570   \n",
       "toDUT-49Cd100K2014972          0.361228  0.616473  1.295803  1.292465   \n",
       "toja500530y_si_003             0.056664  0.079060  0.324083  0.384788   \n",
       "toZn-1withDMF238859            0.042502  0.082972  0.332939  0.297846   \n",
       "\n",
       "                                      c     alpha      beta     gamma  \\\n",
       "fromHIMS-741884101             0.196608  0.578143  0.526960  0.737429   \n",
       "fromCo-MOF1912199              0.138670  0.565539  0.405081  0.335686   \n",
       "to41483725                     0.093253  0.564966  0.455128  0.259261   \n",
       "toDMFsolvatedFebdp298K1058448  0.145163  0.578143  0.526960  0.559041   \n",
       "toja054913a_si_004             0.277182  0.578143  0.526960  0.441638   \n",
       "...                                 ...       ...       ...       ...   \n",
       "fromja054913a_si_001           0.307126  0.573998  0.458433  0.382066   \n",
       "fromDUT-49Mn296K1957604        0.569206  0.256326  0.090555  0.062258   \n",
       "toDUT-49Cd100K2014972          0.843035  0.578143  0.526960  0.441638   \n",
       "toja500530y_si_003             0.224596  0.578143  0.526960  0.519525   \n",
       "toZn-1withDMF238859            0.165359  0.640396  0.915476  0.779388   \n",
       "\n",
       "                                 volume  spacegroupNumber  ...   Zagreb2  \\\n",
       "fromHIMS-741884101             0.094810          0.057269  ...  0.102258   \n",
       "fromCo-MOF1912199              0.029039          0.048458  ...  0.124834   \n",
       "to41483725                     0.018138          0.061674  ...  0.094290   \n",
       "toDMFsolvatedFebdp298K1058448  0.047179          0.083700  ...  0.128818   \n",
       "toja054913a_si_004             0.023942          0.515419  ...  0.025232   \n",
       "...                                 ...               ...  ...       ...   \n",
       "fromja054913a_si_001           0.027336          0.616740  ...  0.025232   \n",
       "fromDUT-49Mn296K1957604        0.528548          0.986784  ...  0.164675   \n",
       "toDUT-49Cd100K2014972          1.998402          0.898678  ...  0.467463   \n",
       "toja500530y_si_003             0.093453          0.017621  ...  0.104914   \n",
       "toZn-1withDMF238859            0.041045          0.612335  ...  0.081009   \n",
       "\n",
       "                               mZagreb1  mZagreb2  n_metals  Atomic_Number  \\\n",
       "fromHIMS-741884101             0.159760  0.095238  0.000000       0.303371   \n",
       "fromCo-MOF1912199              0.132758  0.112782  0.090909       0.269663   \n",
       "to41483725                     0.093381  0.105263  0.000000       0.292135   \n",
       "toDMFsolvatedFebdp298K1058448  0.059254  0.115288  0.000000       0.258427   \n",
       "toja054913a_si_004             0.000000  0.011278  0.000000       0.494382   \n",
       "...                                 ...       ...       ...            ...   \n",
       "fromja054913a_si_001           0.000000  0.011278  0.000000       0.494382   \n",
       "fromDUT-49Mn296K1957604        0.145509  0.137845  0.090909       0.247191   \n",
       "toDUT-49Cd100K2014972          0.383274  0.431078  0.090909       0.505618   \n",
       "toja500530y_si_003             0.086255  0.096491  0.090909       0.303371   \n",
       "toZn-1withDMF238859            0.113257  0.077694  0.090909       0.303371   \n",
       "\n",
       "                               Atomic_Weight  Atomic Radius  Mulliken EN  \\\n",
       "fromHIMS-741884101                  0.252930       0.133333     0.841924   \n",
       "fromCo-MOF1912199                   0.224989       0.188889     0.790378   \n",
       "to41483725                          0.244950       0.150000     0.852234   \n",
       "toDMFsolvatedFebdp298K1058448       0.211634       0.211111     0.707904   \n",
       "toja054913a_si_004                  0.436748       0.261111     0.838488   \n",
       "...                                      ...            ...          ...   \n",
       "fromja054913a_si_001                0.436748       0.261111     0.838488   \n",
       "fromDUT-49Mn296K1957604             0.207700       0.238889     0.591065   \n",
       "toDUT-49Cd100K2014972               0.456406       0.238889     0.800687   \n",
       "toja500530y_si_003                  0.252930       0.133333     0.841924   \n",
       "toZn-1withDMF238859                 0.252930       0.133333     0.841924   \n",
       "\n",
       "                               polarizability(A^3)  electron affinity(kJ/mol)  \n",
       "fromHIMS-741884101                        0.029197                   0.014184  \n",
       "fromCo-MOF1912199                         0.049270                   0.190071  \n",
       "to41483725                                0.034672                   0.268085  \n",
       "toDMFsolvatedFebdp298K1058448             0.065693                   0.120567  \n",
       "toja054913a_si_004                        0.056569                   0.278014  \n",
       "...                                            ...                        ...  \n",
       "fromja054913a_si_001                      0.056569                   0.278014  \n",
       "fromDUT-49Mn296K1957604                   0.083942                   0.028369  \n",
       "toDUT-49Cd100K2014972                     0.043796                   0.000000  \n",
       "toja500530y_si_003                        0.029197                   0.014184  \n",
       "toZn-1withDMF238859                       0.029197                   0.014184  \n",
       "\n",
       "[102 rows x 1018 columns]"
      ]
     },
     "execution_count": 34,
     "metadata": {},
     "output_type": "execute_result"
    }
   ],
   "source": [
    "x"
   ]
  },
  {
   "cell_type": "code",
   "execution_count": 35,
   "metadata": {},
   "outputs": [],
   "source": [
    "x.to_csv(\"../main_datasets/dataset.csv\")"
   ]
  },
  {
   "cell_type": "code",
   "execution_count": 36,
   "metadata": {},
   "outputs": [],
   "source": [
    "y.to_csv(\"../main_datasets/target.csv\")"
   ]
  },
  {
   "cell_type": "code",
   "execution_count": null,
   "metadata": {},
   "outputs": [],
   "source": []
  }
 ],
 "metadata": {
  "kernelspec": {
   "display_name": "Python 3",
   "language": "python",
   "name": "python3"
  },
  "language_info": {
   "codemirror_mode": {
    "name": "ipython",
    "version": 3
   },
   "file_extension": ".py",
   "mimetype": "text/x-python",
   "name": "python",
   "nbconvert_exporter": "python",
   "pygments_lexer": "ipython3",
   "version": "3.10.11"
  }
 },
 "nbformat": 4,
 "nbformat_minor": 2
}
