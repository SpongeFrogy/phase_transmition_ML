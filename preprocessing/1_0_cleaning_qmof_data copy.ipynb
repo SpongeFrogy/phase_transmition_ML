{
 "cells": [
  {
   "cell_type": "code",
   "execution_count": 1,
   "metadata": {},
   "outputs": [],
   "source": [
    "import pandas as pd"
   ]
  },
  {
   "cell_type": "code",
   "execution_count": 2,
   "metadata": {},
   "outputs": [],
   "source": [
    "import numpy as np\n",
    "from sklearn.preprocessing import MinMaxScaler, Normalizer\n",
    "from sklearn.feature_selection import VarianceThreshold\n",
    "from sklearn.model_selection import train_test_split\n",
    "import joblib"
   ]
  },
  {
   "cell_type": "code",
   "execution_count": 3,
   "metadata": {},
   "outputs": [],
   "source": [
    "data_property_cell = pd.read_csv(\"../data/qmof_property_cell.csv\", index_col=1) # index_col=1 id \"filename\"\n",
    "data_property_cell = data_property_cell.drop(\"Unnamed: 0\", axis=1) # drop numbers of rows\n",
    "property_cell_cols = [\"pld\", \"lcd\", \"a\", \"b\", \"c\", \"alpha\", \"betta\", \"gamma\", \"volume\", \"spacegroupNumber\"]\n",
    "data_property_cell = data_property_cell.loc[:,property_cell_cols].rename({\"betta\": \"beta\"}, axis=1)"
   ]
  },
  {
   "cell_type": "code",
   "execution_count": 4,
   "metadata": {},
   "outputs": [],
   "source": [
    "data_linker_mordred = pd.read_csv(\"../data/mordred_descriptors.csv\", index_col=0)"
   ]
  },
  {
   "cell_type": "code",
   "execution_count": 5,
   "metadata": {},
   "outputs": [
    {
     "name": "stdout",
     "output_type": "stream",
     "text": [
      "% of nan: 25\n"
     ]
    }
   ],
   "source": [
    "p = len(data_linker_mordred.values[np.isnan(data_linker_mordred)]) / len(data_linker_mordred) / len(data_linker_mordred.iloc[0])\n",
    "print(f\"% of nan: {p*100:.2n}\")"
   ]
  },
  {
   "cell_type": "code",
   "execution_count": 88,
   "metadata": {},
   "outputs": [],
   "source": [
    "# data_linker_mordred = data_linker_mordred.fillna(data_linker_mordred.mean())\n",
    "# data_linker_mordred = data_linker_mordred.fillna(0)"
   ]
  },
  {
   "cell_type": "code",
   "execution_count": 89,
   "metadata": {},
   "outputs": [],
   "source": [
    "# selector = VarianceThreshold(threshold=0.0001)\n",
    "# selector.fit(data_linker_mordred)\n",
    "# kept = selector.get_support()\n",
    "\n",
    "# data_linker_mordred = data_linker_mordred.loc[:,kept]"
   ]
  },
  {
   "cell_type": "code",
   "execution_count": 90,
   "metadata": {},
   "outputs": [],
   "source": [
    "# p = len(data_linker_mordred.values[np.isnan(data_linker_mordred)]) / len(data_linker_mordred) / len(data_linker_mordred.iloc[0])\n",
    "# print(f\"% of nan after VarianceThreshold: {p*100:.2n}\")"
   ]
  },
  {
   "cell_type": "code",
   "execution_count": 6,
   "metadata": {},
   "outputs": [
    {
     "data": {
      "text/plain": [
       "(7109, 1826)"
      ]
     },
     "execution_count": 6,
     "metadata": {},
     "output_type": "execute_result"
    }
   ],
   "source": [
    "data_linker_mordred.shape"
   ]
  },
  {
   "cell_type": "code",
   "execution_count": 7,
   "metadata": {},
   "outputs": [],
   "source": [
    "data_node = pd.read_csv(\"../data/node_descriptors.csv\", index_col=0)\n",
    "data_node = data_node.loc[data_node[\"n_types_metals\"] == 1.]\n",
    "data_node = data_node.loc[:, ['n_metals', 'Atomic_Number', 'Atomic_Weight',\n",
    "                              'Atomic Radius', 'Mulliken EN', 'polarizability(A^3)', 'electron affinity(kJ/mol)']]\n"
   ]
  },
  {
   "cell_type": "code",
   "execution_count": 8,
   "metadata": {},
   "outputs": [],
   "source": [
    "data_qmof = pd.concat([data_property_cell, data_linker_mordred, data_node], axis=1)"
   ]
  },
  {
   "cell_type": "code",
   "execution_count": 9,
   "metadata": {},
   "outputs": [
    {
     "data": {
      "text/plain": [
       "(7463, 1843)"
      ]
     },
     "execution_count": 9,
     "metadata": {},
     "output_type": "execute_result"
    }
   ],
   "source": [
    "data_qmof.shape"
   ]
  },
  {
   "cell_type": "code",
   "execution_count": 10,
   "metadata": {},
   "outputs": [],
   "source": [
    "data_qmof = data_qmof.loc[list({*list(data_linker_mordred.index)} & {*list(data_node.index)})]"
   ]
  },
  {
   "cell_type": "code",
   "execution_count": 11,
   "metadata": {},
   "outputs": [
    {
     "data": {
      "text/plain": [
       "(6797, 1843)"
      ]
     },
     "execution_count": 11,
     "metadata": {},
     "output_type": "execute_result"
    }
   ],
   "source": [
    "data_qmof.shape"
   ]
  },
  {
   "cell_type": "code",
   "execution_count": 12,
   "metadata": {},
   "outputs": [
    {
     "name": "stdout",
     "output_type": "stream",
     "text": [
      "<class 'pandas.core.frame.DataFrame'>\n",
      "Index: 6797 entries, tobacco_SR_ttv_v1-3c_pyrrole_Ch_v2-12c_Zr_1_Ch_1DoU_Ch_2x2x2 to RINNAG_FSR\n",
      "Columns: 1843 entries, pld to electron affinity(kJ/mol)\n",
      "dtypes: float64(1842), int64(1)\n",
      "memory usage: 95.6+ MB\n"
     ]
    }
   ],
   "source": [
    "data_qmof.info()"
   ]
  },
  {
   "cell_type": "code",
   "execution_count": 13,
   "metadata": {},
   "outputs": [],
   "source": [
    "train, test = train_test_split(data_qmof, test_size=0.2, random_state=0)"
   ]
  },
  {
   "cell_type": "code",
   "execution_count": 14,
   "metadata": {},
   "outputs": [],
   "source": [
    "def do_drop(col: pd.Series, p: float = 0.05) -> bool:\n",
    "    \"\"\"return True if col has more than p proportion of nan values and False if not\n",
    "    Args:\n",
    "        col (pd.Series): column of DataFrame\n",
    "        p (float, optional): cut off proportion. Defaults to 0.05.\n",
    "    Returns:\n",
    "        bool: \n",
    "    \"\"\"\n",
    "    tf, counts = np.unique(col.isna(), return_counts=True)\n",
    "    if len(counts) == 1:\n",
    "        if tf[0] == True:\n",
    "            return True\n",
    "        else:\n",
    "            return False\n",
    "    f_pos = 0 if tf[0] == False else 1\n",
    "    if counts[(f_pos + 1) % 2]/counts[f_pos] > p:\n",
    "        return True\n",
    "    else:\n",
    "        return False"
   ]
  },
  {
   "cell_type": "code",
   "execution_count": 14,
   "metadata": {},
   "outputs": [],
   "source": [
    "means = train.mean()"
   ]
  },
  {
   "cell_type": "code",
   "execution_count": 14,
   "metadata": {},
   "outputs": [
    {
     "name": "stdout",
     "output_type": "stream",
     "text": [
      "<class 'pandas.core.frame.DataFrame'>\n",
      "Index: 5437 entries, GINTAA01_FSR to boydwoo_str_m4_Al_o6_o7_acs_sym_135\n",
      "Columns: 1538 entries, pld to electron affinity(kJ/mol)\n",
      "dtypes: float64(1537), int64(1)\n",
      "memory usage: 63.8+ MB\n"
     ]
    }
   ],
   "source": [
    "means = train.mean()\n",
    "\n",
    "train = train.fillna(means)\n",
    "train = train.dropna(axis=1)\n",
    "test = test.fillna(means)\n",
    "test = test[train.columns]\n",
    "train.info()\n"
   ]
  },
  {
   "cell_type": "code",
   "execution_count": 15,
   "metadata": {},
   "outputs": [
    {
     "data": {
      "text/plain": [
       "(5437, 1538)"
      ]
     },
     "execution_count": 15,
     "metadata": {},
     "output_type": "execute_result"
    }
   ],
   "source": [
    "train.shape"
   ]
  },
  {
   "cell_type": "code",
   "execution_count": 16,
   "metadata": {},
   "outputs": [
    {
     "data": {
      "text/plain": [
       "True"
      ]
     },
     "execution_count": 16,
     "metadata": {},
     "output_type": "execute_result"
    }
   ],
   "source": [
    "test.shape == test.dropna().shape"
   ]
  },
  {
   "cell_type": "code",
   "execution_count": 17,
   "metadata": {},
   "outputs": [],
   "source": [
    "selector = VarianceThreshold(threshold=0.0001)\n",
    "selector.fit(train)\n",
    "kept = selector.get_support()\n",
    "\n",
    "train = train.loc[:,kept]\n",
    "test = test.loc[:,kept]"
   ]
  },
  {
   "cell_type": "code",
   "execution_count": 18,
   "metadata": {},
   "outputs": [
    {
     "data": {
      "text/plain": [
       "((5437, 1378), (1360, 1378))"
      ]
     },
     "execution_count": 18,
     "metadata": {},
     "output_type": "execute_result"
    }
   ],
   "source": [
    "train.shape, test.shape"
   ]
  },
  {
   "cell_type": "code",
   "execution_count": 21,
   "metadata": {},
   "outputs": [
    {
     "data": {
      "text/plain": [
       "['../qmof_datasets/minmax/minmax.pkl']"
      ]
     },
     "execution_count": 21,
     "metadata": {},
     "output_type": "execute_result"
    }
   ],
   "source": [
    "qmof_mm = MinMaxScaler()\n",
    "train_mm = pd.DataFrame(qmof_mm.fit_transform(train), columns=train.columns, index=train.index)\n",
    "\n",
    "test_mm = pd.DataFrame(qmof_mm.transform(test), columns=test.columns, index=test.index)\n",
    "\n",
    "train_mm.to_csv(\"../qmof_datasets/minmax/train.csv\")\n",
    "test_mm.to_csv(\"../qmof_datasets/minmax/test.csv\")\n",
    "joblib.dump(qmof_mm, \"../qmof_datasets/minmax/minmax.pkl\")"
   ]
  },
  {
   "cell_type": "code",
   "execution_count": 22,
   "metadata": {},
   "outputs": [
    {
     "data": {
      "text/plain": [
       "['../qmof_datasets/normalizer/normalizer.pkl']"
      ]
     },
     "execution_count": 22,
     "metadata": {},
     "output_type": "execute_result"
    }
   ],
   "source": [
    "qmof_nm = Normalizer()\n",
    "train_nm = pd.DataFrame(qmof_nm.fit_transform(train), columns=train.columns, index=train.index)\n",
    "\n",
    "test_nm = pd.DataFrame(qmof_nm.transform(test), columns=test.columns, index=test.index)\n",
    "\n",
    "train_mm.to_csv(\"../qmof_datasets/normalizer/train.csv\")\n",
    "test_mm.to_csv(\"../qmof_datasets/normalizer/test.csv\")\n",
    "joblib.dump(qmof_mm, \"../qmof_datasets/normalizer/normalizer.pkl\")"
   ]
  },
  {
   "cell_type": "code",
   "execution_count": null,
   "metadata": {},
   "outputs": [],
   "source": []
  }
 ],
 "metadata": {
  "kernelspec": {
   "display_name": "Python 3",
   "language": "python",
   "name": "python3"
  },
  "language_info": {
   "codemirror_mode": {
    "name": "ipython",
    "version": 3
   },
   "file_extension": ".py",
   "mimetype": "text/x-python",
   "name": "python",
   "nbconvert_exporter": "python",
   "pygments_lexer": "ipython3",
   "version": "3.10.11"
  }
 },
 "nbformat": 4,
 "nbformat_minor": 2
}
