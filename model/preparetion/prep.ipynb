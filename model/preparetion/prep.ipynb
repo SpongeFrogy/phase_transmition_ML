{
 "cells": [
  {
   "cell_type": "code",
   "execution_count": 1,
   "metadata": {},
   "outputs": [],
   "source": [
    "import joblib\n",
    "import numpy as np\n",
    "import pandas as pd\n",
    "import hyperopt"
   ]
  },
  {
   "cell_type": "code",
   "execution_count": 6,
   "metadata": {},
   "outputs": [],
   "source": [
    "space = joblib.load(\"sampling_hyperparameters_space.pickle\")"
   ]
  },
  {
   "cell_type": "code",
   "execution_count": 4,
   "metadata": {},
   "outputs": [
    {
     "data": {
      "text/plain": [
       "dict"
      ]
     },
     "execution_count": 4,
     "metadata": {},
     "output_type": "execute_result"
    }
   ],
   "source": [
    "type(space)"
   ]
  },
  {
   "cell_type": "code",
   "execution_count": 8,
   "metadata": {},
   "outputs": [
    {
     "data": {
      "text/plain": [
       "'0 float\\n1   hyperopt_param\\n2     Literal{balancing__k_neighbors}\\n3     quniform\\n4       Literal{1}\\n5       Literal{11}\\n6       Literal{1}'"
      ]
     },
     "execution_count": 8,
     "metadata": {},
     "output_type": "execute_result"
    }
   ],
   "source": [
    "space[\"SMOTE\"][\"balancing__k_neighbors\"].__str__()"
   ]
  },
  {
   "cell_type": "code",
   "execution_count": 9,
   "metadata": {},
   "outputs": [
    {
     "data": {
      "text/plain": [
       "'0 float\\n1   hyperopt_param\\n2     Literal{balancing__sampling_strategy}\\n3     uniform\\n4       Literal{0.3}\\n5       Literal{1}'"
      ]
     },
     "execution_count": 9,
     "metadata": {},
     "output_type": "execute_result"
    }
   ],
   "source": [
    "space[\"SMOTE\"][\"balancing__sampling_strategy\"].__str__()"
   ]
  },
  {
   "cell_type": "code",
   "execution_count": 11,
   "metadata": {},
   "outputs": [
    {
     "data": {
      "text/plain": [
       "'0 float\\n1   hyperopt_param\\n2     Literal{balancing__sampling_strategy}\\n3     uniform\\n4       Literal{0.3}\\n5       Literal{1}'"
      ]
     },
     "execution_count": 11,
     "metadata": {},
     "output_type": "execute_result"
    }
   ],
   "source": [
    "space[\"RandomOverSampler\"][\"balancing__sampling_strategy\"].__str__()"
   ]
  },
  {
   "cell_type": "code",
   "execution_count": 5,
   "metadata": {},
   "outputs": [
    {
     "data": {
      "text/plain": [
       "'0 float\\n1   hyperopt_param\\n2     Literal{balancing__sampling_strategy}\\n3     uniform\\n4       Literal{0.3}\\n5       Literal{1}'"
      ]
     },
     "execution_count": 5,
     "metadata": {},
     "output_type": "execute_result"
    }
   ],
   "source": [
    "hyperopt.hp.uniform(\"balancing__sampling_strategy\", 0.3, 1).__str__()"
   ]
  },
  {
   "cell_type": "code",
   "execution_count": 9,
   "metadata": {},
   "outputs": [
    {
     "data": {
      "text/plain": [
       "'0 float\\n1   hyperopt_param\\n2     Literal{balancing__shrinkage}\\n3     uniform\\n4       Literal{0}\\n5       Literal{2}'"
      ]
     },
     "execution_count": 9,
     "metadata": {},
     "output_type": "execute_result"
    }
   ],
   "source": [
    "space[\"RandomOverSampler\"][\"balancing__shrinkage\"].__str__()"
   ]
  },
  {
   "cell_type": "code",
   "execution_count": 13,
   "metadata": {},
   "outputs": [
    {
     "data": {
      "text/plain": [
       "'0 float\\n1   hyperopt_param\\n2     Literal{balancing__sampling_strategy}\\n3     uniform\\n4       Literal{0.3}\\n5       Literal{1}'"
      ]
     },
     "execution_count": 13,
     "metadata": {},
     "output_type": "execute_result"
    }
   ],
   "source": [
    "space[\"RandomOverSampler\"][\"balancing__sampling_strategy\"].__str__()"
   ]
  },
  {
   "cell_type": "code",
   "execution_count": 15,
   "metadata": {},
   "outputs": [
    {
     "data": {
      "text/plain": [
       "'0 float\\n1   hyperopt_param\\n2     Literal{balancing__k_neighbors}\\n3     quniform\\n4       Literal{1}\\n5       Literal{11}\\n6       Literal{1}'"
      ]
     },
     "execution_count": 15,
     "metadata": {},
     "output_type": "execute_result"
    }
   ],
   "source": [
    "space[\"SMOTE\"][\"balancing__k_neighbors\"].__str__()"
   ]
  },
  {
   "cell_type": "code",
   "execution_count": 16,
   "metadata": {},
   "outputs": [
    {
     "data": {
      "text/plain": [
       "'0 float\\n1   hyperopt_param\\n2     Literal{balancing__sampling_strategy}\\n3     uniform\\n4       Literal{0.3}\\n5       Literal{1}'"
      ]
     },
     "execution_count": 16,
     "metadata": {},
     "output_type": "execute_result"
    }
   ],
   "source": [
    "space[\"SMOTE\"][\"balancing__sampling_strategy\"].__str__()"
   ]
  },
  {
   "cell_type": "code",
   "execution_count": 20,
   "metadata": {},
   "outputs": [
    {
     "data": {
      "text/plain": [
       "'0 float\\n1   hyperopt_param\\n2     Literal{balancing__sampling_strategy}\\n3     uniform\\n4       Literal{0.3}\\n5       Literal{1}'"
      ]
     },
     "execution_count": 20,
     "metadata": {},
     "output_type": "execute_result"
    }
   ],
   "source": [
    "space[\"ADASYN\"][\"balancing__sampling_strategy\"].__str__()"
   ]
  },
  {
   "cell_type": "code",
   "execution_count": null,
   "metadata": {},
   "outputs": [],
   "source": []
  }
 ],
 "metadata": {
  "kernelspec": {
   "display_name": "Python 3",
   "language": "python",
   "name": "python3"
  },
  "language_info": {
   "codemirror_mode": {
    "name": "ipython",
    "version": 3
   },
   "file_extension": ".py",
   "mimetype": "text/x-python",
   "name": "python",
   "nbconvert_exporter": "python",
   "pygments_lexer": "ipython3",
   "version": "3.10.11"
  }
 },
 "nbformat": 4,
 "nbformat_minor": 2
}
